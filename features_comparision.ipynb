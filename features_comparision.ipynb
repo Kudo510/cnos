{
 "cells": [
  {
   "cell_type": "code",
   "execution_count": 1,
   "metadata": {},
   "outputs": [
    {
     "name": "stderr",
     "output_type": "stream",
     "text": [
      "Using cache found in /home/cuong.vandam/.cache/torch/hub/facebookresearch_dinov2_main\n",
      "/home/cuong.vandam/.cache/torch/hub/facebookresearch_dinov2_main/dinov2/layers/swiglu_ffn.py:43: UserWarning: xFormers is available (SwiGLU)\n",
      "  warnings.warn(\"xFormers is available (SwiGLU)\")\n",
      "/home/cuong.vandam/.cache/torch/hub/facebookresearch_dinov2_main/dinov2/layers/attention.py:27: UserWarning: xFormers is available (Attention)\n",
      "  warnings.warn(\"xFormers is available (Attention)\")\n",
      "/home/cuong.vandam/.cache/torch/hub/facebookresearch_dinov2_main/dinov2/layers/block.py:33: UserWarning: xFormers is available (Block)\n",
      "  warnings.warn(\"xFormers is available (Block)\")\n"
     ]
    }
   ],
   "source": [
    "from src.model.dinov2 import CustomDINOv2\n",
    "import torch\n",
    "descriptor_model = CustomDINOv2(\n",
    "        model_name=\"dinov2_vitl14\",\n",
    "        model=torch.hub.load('facebookresearch/dinov2', 'dinov2_vitl14'),\n",
    "        token_name=\"x_norm_clstoken\",\n",
    "        image_size=224,\n",
    "        chunk_size=16,\n",
    "        descriptor_width_size=640,\n",
    "        patch_size=14,\n",
    ")"
   ]
  },
  {
   "cell_type": "code",
   "execution_count": 27,
   "metadata": {},
   "outputs": [
    {
     "name": "stderr",
     "output_type": "stream",
     "text": [
      "Using cache found in /home/cuong.vandam/.cache/torch/hub/facebookresearch_dinov2_main\n"
     ]
    }
   ],
   "source": [
    "# from torchvision.io import read_image\n",
    "# import torch\n",
    "# #convert image to size of 224*224 as redered templates\n",
    "# image = read_image(\"datasets/bop23_challenge/datasets/templates_pyrender/icbin/obj_000001/000002.png\")\n",
    "# resize = transforms.Resize((224, 224))\n",
    "# image_resized = resize(image)\n",
    "# rgb_image = image_resized[:3].unsqueeze(0)\n",
    "# dinov2 = torch.hub.load('facebookresearch/dinov2', 'dinov2_vitl14')\n"
   ]
  },
  {
   "cell_type": "code",
   "execution_count": 30,
   "metadata": {},
   "outputs": [
    {
     "ename": "ValueError",
     "evalue": "not enough values to unpack (expected 4, got 3)",
     "output_type": "error",
     "traceback": [
      "\u001b[0;31m---------------------------------------------------------------------------\u001b[0m",
      "\u001b[0;31mValueError\u001b[0m                                Traceback (most recent call last)",
      "Cell \u001b[0;32mIn[30], line 4\u001b[0m\n\u001b[1;32m      2\u001b[0m dinov2\u001b[38;5;241m.\u001b[39meval()\n\u001b[1;32m      3\u001b[0m \u001b[38;5;28;01mwith\u001b[39;00m torch\u001b[38;5;241m.\u001b[39mno_grad():\n\u001b[0;32m----> 4\u001b[0m     features \u001b[38;5;241m=\u001b[39m \u001b[43mdinov2\u001b[49m\u001b[43m(\u001b[49m\u001b[43mimage_resized\u001b[49m\u001b[43m)\u001b[49m\n",
      "File \u001b[0;32m~/miniconda3/envs/cnos/lib/python3.9/site-packages/torch/nn/modules/module.py:1501\u001b[0m, in \u001b[0;36mModule._call_impl\u001b[0;34m(self, *args, **kwargs)\u001b[0m\n\u001b[1;32m   1496\u001b[0m \u001b[38;5;66;03m# If we don't have any hooks, we want to skip the rest of the logic in\u001b[39;00m\n\u001b[1;32m   1497\u001b[0m \u001b[38;5;66;03m# this function, and just call forward.\u001b[39;00m\n\u001b[1;32m   1498\u001b[0m \u001b[38;5;28;01mif\u001b[39;00m \u001b[38;5;129;01mnot\u001b[39;00m (\u001b[38;5;28mself\u001b[39m\u001b[38;5;241m.\u001b[39m_backward_hooks \u001b[38;5;129;01mor\u001b[39;00m \u001b[38;5;28mself\u001b[39m\u001b[38;5;241m.\u001b[39m_backward_pre_hooks \u001b[38;5;129;01mor\u001b[39;00m \u001b[38;5;28mself\u001b[39m\u001b[38;5;241m.\u001b[39m_forward_hooks \u001b[38;5;129;01mor\u001b[39;00m \u001b[38;5;28mself\u001b[39m\u001b[38;5;241m.\u001b[39m_forward_pre_hooks\n\u001b[1;32m   1499\u001b[0m         \u001b[38;5;129;01mor\u001b[39;00m _global_backward_pre_hooks \u001b[38;5;129;01mor\u001b[39;00m _global_backward_hooks\n\u001b[1;32m   1500\u001b[0m         \u001b[38;5;129;01mor\u001b[39;00m _global_forward_hooks \u001b[38;5;129;01mor\u001b[39;00m _global_forward_pre_hooks):\n\u001b[0;32m-> 1501\u001b[0m     \u001b[38;5;28;01mreturn\u001b[39;00m \u001b[43mforward_call\u001b[49m\u001b[43m(\u001b[49m\u001b[38;5;241;43m*\u001b[39;49m\u001b[43margs\u001b[49m\u001b[43m,\u001b[49m\u001b[43m \u001b[49m\u001b[38;5;241;43m*\u001b[39;49m\u001b[38;5;241;43m*\u001b[39;49m\u001b[43mkwargs\u001b[49m\u001b[43m)\u001b[49m\n\u001b[1;32m   1502\u001b[0m \u001b[38;5;66;03m# Do not call functions when jit is used\u001b[39;00m\n\u001b[1;32m   1503\u001b[0m full_backward_hooks, non_full_backward_hooks \u001b[38;5;241m=\u001b[39m [], []\n",
      "File \u001b[0;32m~/.cache/torch/hub/facebookresearch_dinov2_main/dinov2/models/vision_transformer.py:325\u001b[0m, in \u001b[0;36mDinoVisionTransformer.forward\u001b[0;34m(self, is_training, *args, **kwargs)\u001b[0m\n\u001b[1;32m    324\u001b[0m \u001b[38;5;28;01mdef\u001b[39;00m \u001b[38;5;21mforward\u001b[39m(\u001b[38;5;28mself\u001b[39m, \u001b[38;5;241m*\u001b[39margs, is_training\u001b[38;5;241m=\u001b[39m\u001b[38;5;28;01mFalse\u001b[39;00m, \u001b[38;5;241m*\u001b[39m\u001b[38;5;241m*\u001b[39mkwargs):\n\u001b[0;32m--> 325\u001b[0m     ret \u001b[38;5;241m=\u001b[39m \u001b[38;5;28;43mself\u001b[39;49m\u001b[38;5;241;43m.\u001b[39;49m\u001b[43mforward_features\u001b[49m\u001b[43m(\u001b[49m\u001b[38;5;241;43m*\u001b[39;49m\u001b[43margs\u001b[49m\u001b[43m,\u001b[49m\u001b[43m \u001b[49m\u001b[38;5;241;43m*\u001b[39;49m\u001b[38;5;241;43m*\u001b[39;49m\u001b[43mkwargs\u001b[49m\u001b[43m)\u001b[49m\n\u001b[1;32m    326\u001b[0m     \u001b[38;5;28;01mif\u001b[39;00m is_training:\n\u001b[1;32m    327\u001b[0m         \u001b[38;5;28;01mreturn\u001b[39;00m ret\n",
      "File \u001b[0;32m~/.cache/torch/hub/facebookresearch_dinov2_main/dinov2/models/vision_transformer.py:258\u001b[0m, in \u001b[0;36mDinoVisionTransformer.forward_features\u001b[0;34m(self, x, masks)\u001b[0m\n\u001b[1;32m    255\u001b[0m \u001b[38;5;28;01mif\u001b[39;00m \u001b[38;5;28misinstance\u001b[39m(x, \u001b[38;5;28mlist\u001b[39m):\n\u001b[1;32m    256\u001b[0m     \u001b[38;5;28;01mreturn\u001b[39;00m \u001b[38;5;28mself\u001b[39m\u001b[38;5;241m.\u001b[39mforward_features_list(x, masks)\n\u001b[0;32m--> 258\u001b[0m x \u001b[38;5;241m=\u001b[39m \u001b[38;5;28;43mself\u001b[39;49m\u001b[38;5;241;43m.\u001b[39;49m\u001b[43mprepare_tokens_with_masks\u001b[49m\u001b[43m(\u001b[49m\u001b[43mx\u001b[49m\u001b[43m,\u001b[49m\u001b[43m \u001b[49m\u001b[43mmasks\u001b[49m\u001b[43m)\u001b[49m\n\u001b[1;32m    260\u001b[0m \u001b[38;5;28;01mfor\u001b[39;00m blk \u001b[38;5;129;01min\u001b[39;00m \u001b[38;5;28mself\u001b[39m\u001b[38;5;241m.\u001b[39mblocks:\n\u001b[1;32m    261\u001b[0m     x \u001b[38;5;241m=\u001b[39m blk(x)\n",
      "File \u001b[0;32m~/.cache/torch/hub/facebookresearch_dinov2_main/dinov2/models/vision_transformer.py:214\u001b[0m, in \u001b[0;36mDinoVisionTransformer.prepare_tokens_with_masks\u001b[0;34m(self, x, masks)\u001b[0m\n\u001b[1;32m    213\u001b[0m \u001b[38;5;28;01mdef\u001b[39;00m \u001b[38;5;21mprepare_tokens_with_masks\u001b[39m(\u001b[38;5;28mself\u001b[39m, x, masks\u001b[38;5;241m=\u001b[39m\u001b[38;5;28;01mNone\u001b[39;00m):\n\u001b[0;32m--> 214\u001b[0m     B, nc, w, h \u001b[38;5;241m=\u001b[39m x\u001b[38;5;241m.\u001b[39mshape\n\u001b[1;32m    215\u001b[0m     x \u001b[38;5;241m=\u001b[39m \u001b[38;5;28mself\u001b[39m\u001b[38;5;241m.\u001b[39mpatch_embed(x)\n\u001b[1;32m    216\u001b[0m     \u001b[38;5;28;01mif\u001b[39;00m masks \u001b[38;5;129;01mis\u001b[39;00m \u001b[38;5;129;01mnot\u001b[39;00m \u001b[38;5;28;01mNone\u001b[39;00m:\n",
      "\u001b[0;31mValueError\u001b[0m: not enough values to unpack (expected 4, got 3)"
     ]
    }
   ],
   "source": [
    "# # Resize the image to 224x224\n",
    "# dinov2.eval()\n",
    "# with torch.no_grad():\n",
    "#     features = dinov2(image_resized)"
   ]
  },
  {
   "cell_type": "code",
   "execution_count": 33,
   "metadata": {},
   "outputs": [
    {
     "name": "stderr",
     "output_type": "stream",
     "text": [
      "Using cache found in /home/cuong.vandam/.cache/torch/hub/facebookresearch_dinov2_main\n"
     ]
    }
   ],
   "source": [
    "import torch\n",
    "from torchvision import transforms\n",
    "from torchvision.io import read_image\n",
    "import matplotlib.pyplot as plt\n",
    "\n",
    "# Load the image\n",
    "image_path = \"datasets/bop23_challenge/datasets/templates_pyrender/icbin/obj_000001/000002.png\"\n",
    "image = read_image(image_path)\n",
    "\n",
    "# Remove the alpha channel if it exists\n",
    "if image.shape[0] == 4:\n",
    "    image = image[:3]\n",
    "\n",
    "# Resize the image to 224x224\n",
    "resize = transforms.Resize((224, 224))\n",
    "image_resized = resize(image)\n",
    "\n",
    "# Normalize the image\n",
    "normalize = transforms.Normalize(mean=[0.485, 0.456, 0.406], std=[0.229, 0.224, 0.225])\n",
    "image_normalized = normalize(image_resized.float() / 255.0)\n",
    "\n",
    "# Add a batch dimension\n",
    "image_batch = image_normalized.unsqueeze(0).to(\"cuda:0\")\n",
    "\n",
    "# Load the DINOv2 model\n",
    "dinov2 = torch.hub.load('facebookresearch/dinov2', 'dinov2_vitl14').to(\"cuda:0\")\n",
    "\n",
    "# Ensure the model is in evaluation mode\n",
    "dinov2.eval()\n",
    "\n",
    "# Extract features\n",
    "with torch.no_grad():\n",
    "    features = dinov2(image_batch)\n"
   ]
  },
  {
   "cell_type": "code",
   "execution_count": 36,
   "metadata": {},
   "outputs": [
    {
     "data": {
      "text/plain": [
       "torch.Size([1, 1024])"
      ]
     },
     "execution_count": 36,
     "metadata": {},
     "output_type": "execute_result"
    }
   ],
   "source": [
    "features.shape"
   ]
  },
  {
   "cell_type": "code",
   "execution_count": 34,
   "metadata": {},
   "outputs": [
    {
     "data": {
      "image/png": "[encoded data removed]",
      "text/plain": [
       "<Figure size 640x480 with 1 Axes>"
      ]
     },
     "metadata": {},
     "output_type": "display_data"
    },
    {
     "name": "stdout",
     "output_type": "stream",
     "text": [
      "torch.Size([1, 1024])\n"
     ]
    }
   ],
   "source": [
    "# Plot the original image\n",
    "plt.imshow(image_resized.permute(1, 2, 0).byte())\n",
    "plt.axis('off')\n",
    "plt.show()\n",
    "\n",
    "# Print the shape of the extracted features\n",
    "print(features.shape)\n"
   ]
  },
  {
   "cell_type": "code",
   "execution_count": 17,
   "metadata": {},
   "outputs": [
    {
     "data": {
      "text/plain": [
       "torch.Size([3, 480, 640])"
      ]
     },
     "execution_count": 17,
     "metadata": {},
     "output_type": "execute_result"
    }
   ],
   "source": [
    "rgb_image = image[:3]\n",
    "rgb_image.shape"
   ]
  },
  {
   "cell_type": "code",
   "execution_count": 18,
   "metadata": {},
   "outputs": [
    {
     "data": {
      "image/png": "[encoded data removed]",
      "text/plain": [
       "<Figure size 640x480 with 1 Axes>"
      ]
     },
     "metadata": {},
     "output_type": "display_data"
    }
   ],
   "source": [
    "import matplotlib.pyplot as plt\n",
    "image_resized = rgb_image.permute(1, 2, 0)\n",
    "\n",
    "# Plot the image using matplotlib\n",
    "plt.imshow(image_resized)\n",
    "plt.axis('off')  # Turn off axis labels\n",
    "plt.show()"
   ]
  },
  {
   "cell_type": "code",
   "execution_count": null,
   "metadata": {},
   "outputs": [],
   "source": []
  },
  {
   "cell_type": "code",
   "execution_count": 34,
   "metadata": {},
   "outputs": [],
   "source": [
    "from PIL import Image\n",
    "import torch\n",
    "import numpy as np\n",
    "import json\n",
    "boxes, templates = [], []\n",
    "# file path datasets/bop23_challenge/results/cnos_exps/visualization/sam_pbr_icbin/icbin000001/000008.png\n",
    "rgb_path = \"datasets/bop23_challenge/datasets/icbin/test/000001/rgb/000002.png\"\n",
    "mask_path = \"datasets/bop23_challenge/datasets/icbin/test/000001/mask_visib/000002_000006.png\"\n",
    "scene_gt_info = json.load(open(\"datasets/bop23_challenge/datasets/icbin/test/000001/scene_gt_info.json\", 'r'))\n",
    "scene_gt = json.load(open(\"datasets/bop23_challenge/datasets/icbin/test/000001/scene_gt.json\", 'r'))\n",
    "rgb = Image.open(rgb_path) # rgb path = datasets/bop23_challenge/datasets/icbin/train_pbr/000003/rgb/000725.jpg\n",
    "mask = Image.open(mask_path) # mask_path = /datasets/bop23_challenge/datasets/icbin/train_pbr/000003/mask_visib/000725_000018.png\n",
    "masked_rgb = Image.composite(\n",
    "    rgb, Image.new(\"RGB\", rgb.size, (0, 0, 0)), mask\n",
    ")\n",
    "boxes.append(mask.getbbox())\n",
    "image = torch.from_numpy(np.array(masked_rgb.convert(\"RGB\")) / 255).float() # torch.Size([480, 640, 3])\n",
    "templates.append(image)"
   ]
  },
  {
   "cell_type": "code",
   "execution_count": 46,
   "metadata": {},
   "outputs": [
    {
     "data": {
      "text/plain": [
       "{'bbox_obj': [297, 112, 92, 71],\n",
       " 'bbox_visib': [297, 112, 89, 71],\n",
       " 'px_count_all': 5119,\n",
       " 'px_count_valid': 4994,\n",
       " 'px_count_visib': 4084,\n",
       " 'visib_fract': 0.7978120726704434}"
      ]
     },
     "execution_count": 46,
     "metadata": {},
     "output_type": "execute_result"
    }
   ],
   "source": [
    "scene_gt_info[\"2\"][6]"
   ]
  },
  {
   "cell_type": "code",
   "execution_count": 81,
   "metadata": {},
   "outputs": [],
   "source": [
    "R, t = np.array(scene_gt[\"2\"][6][\"cam_R_m2c\"]).reshape(3,3), np.array(scene_gt[\"2\"][6][\"cam_t_m2c\"])*0.4\n",
    "template_pose = np.eye(4)\n",
    "template_pose[:3,:3] = R\n",
    "template_pose[:3, 3] = t\n",
    "template_poses = []\n",
    "template_poses.append(template_pose)\n",
    "np.save(\"custom_template_poses.npy\", template_poses)"
   ]
  },
  {
   "cell_type": "code",
   "execution_count": 87,
   "metadata": {},
   "outputs": [
    {
     "name": "stdout",
     "output_type": "stream",
     "text": [
      "Namespace(cad_path='a', obj_pose='feature_comparision_test/custom_template_poses.npy', output_dir='e', gpus_devices='0,1,2,3', disable_output='true', light_itensity=0.6, radius=1)\n"
     ]
    },
    {
     "name": "stderr",
     "output_type": "stream",
     "text": [
      "Traceback (most recent call last):\n",
      "  File \"/home/cuong.vandam/miniconda3/envs/cnos/lib/python3.9/runpy.py\", line 197, in _run_module_as_main\n",
      "    return _run_code(code, main_globals, None,\n",
      "  File \"/home/cuong.vandam/miniconda3/envs/cnos/lib/python3.9/runpy.py\", line 87, in _run_code\n",
      "    exec(code, run_globals)\n",
      "  File \"/home/cuong.vandam/Werkstudent_job/ren_luyen/do_an_tot_nghiep/cnos/src/poses/pyrender.py\", line 96, in <module>\n",
      "    mesh = trimesh.load_mesh(args.cad_path)\n",
      "  File \"/home/cuong.vandam/miniconda3/envs/cnos/lib/python3.9/site-packages/trimesh/exchange/load.py\", line 195, in load_mesh\n",
      "    ) = _parse_file_args(file_obj=file_obj, file_type=file_type, resolver=resolver)\n",
      "  File \"/home/cuong.vandam/miniconda3/envs/cnos/lib/python3.9/site-packages/trimesh/exchange/load.py\", line 606, in _parse_file_args\n",
      "    raise ValueError(f\"string is not a file: {file_obj}\")\n",
      "ValueError: string is not a file: a\n"
     ]
    }
   ],
   "source": [
    "import os, sys\n",
    "import numpy as np\n",
    "import shutil\n",
    "from tqdm import tqdm\n",
    "import time\n",
    "from functools import partial\n",
    "import multiprocessing\n",
    "import logging\n",
    "import os, sys\n",
    "import os.path as osp\n",
    "from src.poses.utils import get_obj_poses_from_template_level\n",
    "\n",
    "# set level logging\n",
    "logging.basicConfig(level=logging.INFO)\n",
    "import logging\n",
    "import hydra\n",
    "from omegaconf import DictConfig, OmegaConf\n",
    "import numpy as np\n",
    "\n",
    "\n",
    "def call_pyrender(\n",
    "    idx_obj ,\n",
    "    list_cad_path,\n",
    "    list_output_dir,\n",
    "    obj_pose_path,\n",
    "    disable_output,\n",
    "    gpus_devices,\n",
    "):\n",
    "    output_dir = list_output_dir[idx_obj]\n",
    "    cad_path = list_cad_path[idx_obj]\n",
    "    if os.path.exists(\n",
    "        output_dir\n",
    "    ):  # remove first to avoid the overlapping folder of blender proc\n",
    "        os.system(\"rm -r {}\".format(output_dir))\n",
    "    if not os.path.exists(output_dir):\n",
    "        os.makedirs(output_dir)\n",
    "\n",
    "    # command = f\"blenderproc run ./src/poses/blenderproc.py {cad_path} {obj_pose_path} {output_dir} {gpus_devices}\"\n",
    "    command = f\"python -m src.poses.pyrender {cad_path} {obj_pose_path} {output_dir} {gpus_devices}\"\n",
    "    if disable_output:\n",
    "        command += \" true\"\n",
    "    else:\n",
    "        command += \" false\"\n",
    "    os.system(command)\n",
    "\n",
    "call_pyrender(\n",
    "    idx_obj= 1,\n",
    "    list_cad_path = \"datasets/bop23_challenge/datasets/icbin/models/models/obj_000001.ply\",\n",
    "    list_output_dir = \"feature_comparision_test/obj_000001\",\n",
    "    obj_pose_path = \"feature_comparision_test/custom_template_poses.npy\",\n",
    "    disable_output = True,\n",
    "    gpus_devices = \"0,1,2,3\",\n",
    "    )"
   ]
  },
  {
   "cell_type": "code",
   "execution_count": null,
   "metadata": {},
   "outputs": [],
   "source": []
  },
  {
   "cell_type": "code",
   "execution_count": 37,
   "metadata": {},
   "outputs": [],
   "source": [
    "# crop template from proposals- just get the crop one for the mask not the whole image input\n",
    "from src.utils.bbox_utils import CropResizePad\n",
    "processing_config = {'image_size': 224, 'max_num_scenes': 10, 'max_num_frames': 500, 'min_visib_fract': 0.8, 'num_references': 200, 'use_visible_mask': True}\n",
    "proposal_processor = CropResizePad(processing_config[\"image_size\"])"
   ]
  },
  {
   "cell_type": "code",
   "execution_count": 38,
   "metadata": {},
   "outputs": [],
   "source": [
    "import torchvision.transforms as T\n",
    "rgb_transform = T.Compose(\n",
    "    [\n",
    "        T.Normalize(mean=(0.485, 0.456, 0.406), std=(0.229, 0.224, 0.225)),\n",
    "    ]\n",
    ")"
   ]
  },
  {
   "cell_type": "code",
   "execution_count": 39,
   "metadata": {},
   "outputs": [],
   "source": [
    "templates = torch.stack(templates).permute(0, 3, 1, 2) # to get (Np, 3, 480,640)\n",
    "boxes = torch.tensor(np.array(boxes))\n",
    "templates_croped = proposal_processor(images=templates, boxes=boxes)\n",
    "templates_output = {\"templates\": rgb_transform(templates_croped)} # to normalize the template "
   ]
  },
  {
   "cell_type": "code",
   "execution_count": 40,
   "metadata": {},
   "outputs": [
    {
     "data": {
      "text/plain": [
       "tensor(2.6400)"
      ]
     },
     "execution_count": 40,
     "metadata": {},
     "output_type": "execute_result"
    }
   ],
   "source": [
    "torch.max(templates_output[\"templates\"])"
   ]
  },
  {
   "cell_type": "code",
   "execution_count": 41,
   "metadata": {},
   "outputs": [
    {
     "data": {
      "text/plain": [
       "tensor(2.6400)"
      ]
     },
     "execution_count": 41,
     "metadata": {},
     "output_type": "execute_result"
    }
   ],
   "source": [
    "## all teh template images here are normalized by T.Normalize(mean=(0.485, 0.456, 0.406), std=(0.229, 0.224, 0.225))\n",
    "torch.max(templates_output[\"templates\"][0])"
   ]
  },
  {
   "cell_type": "code",
   "execution_count": 42,
   "metadata": {},
   "outputs": [
    {
     "name": "stderr",
     "output_type": "stream",
     "text": [
      "Clipping input data to the valid range for imshow with RGB data ([0..1] for floats or [0..255] for integers).\n"
     ]
    },
    {
     "data": {
      "image/png": "[encoded data removed]",
      "text/plain": [
       "<Figure size 640x480 with 1 Axes>"
      ]
     },
     "metadata": {},
     "output_type": "display_data"
    }
   ],
   "source": [
    "import matplotlib.pyplot as plt\n",
    "image_resized = templates_output[\"templates\"][0].permute(1, 2, 0)\n",
    "\n",
    "# Plot the image using matplotlib\n",
    "plt.imshow(image_resized)\n",
    "plt.axis('off')  # Turn off axis labels\n",
    "plt.show()"
   ]
  },
  {
   "cell_type": "code",
   "execution_count": 43,
   "metadata": {},
   "outputs": [],
   "source": [
    "from src.model.loss import PairwiseSimilarity\n",
    "cosine_similarity = PairwiseSimilarity(metric=\"cosine\", chunk_size=16)"
   ]
  },
  {
   "cell_type": "code",
   "execution_count": 44,
   "metadata": {},
   "outputs": [],
   "source": [
    "query = templates_output[\"templates\"][0]"
   ]
  },
  {
   "cell_type": "code",
   "execution_count": 45,
   "metadata": {},
   "outputs": [
    {
     "ename": "NameError",
     "evalue": "name 'reference' is not defined",
     "output_type": "error",
     "traceback": [
      "\u001b[0;31m---------------------------------------------------------------------------\u001b[0m",
      "\u001b[0;31mNameError\u001b[0m                                 Traceback (most recent call last)",
      "Cell \u001b[0;32mIn[45], line 1\u001b[0m\n\u001b[0;32m----> 1\u001b[0m \u001b[43mreference\u001b[49m\n",
      "\u001b[0;31mNameError\u001b[0m: name 'reference' is not defined"
     ]
    }
   ],
   "source": [
    "reference"
   ]
  }
 ],
 "metadata": {
  "kernelspec": {
   "display_name": "cnos",
   "language": "python",
   "name": "python3"
  },
  "language_info": {
   "codemirror_mode": {
    "name": "ipython",
    "version": 3
   },
   "file_extension": ".py",
   "mimetype": "text/x-python",
   "name": "python",
   "nbconvert_exporter": "python",
   "pygments_lexer": "ipython3",
   "version": "3.9.19"
  }
 },
 "nbformat": 4,
 "nbformat_minor": 2
}
