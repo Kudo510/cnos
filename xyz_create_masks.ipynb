{
 "cells": [
  {
   "cell_type": "code",
   "execution_count": 14,
   "metadata": {},
   "outputs": [
    {
     "name": "stdout",
     "output_type": "stream",
     "text": [
      "The autoreload extension is already loaded. To reload it, use:\n",
      "  %reload_ext autoreload\n"
     ]
    }
   ],
   "source": [
    "%load_ext autoreload\n",
    "%autoreload 2"
   ]
  },
  {
   "cell_type": "code",
   "execution_count": 17,
   "metadata": {},
   "outputs": [
    {
     "ename": "KeyError",
     "evalue": "'50'",
     "output_type": "error",
     "traceback": [
      "\u001b[0;31m---------------------------------------------------------------------------\u001b[0m",
      "\u001b[0;31mKeyError\u001b[0m                                  Traceback (most recent call last)",
      "Cell \u001b[0;32mIn[17], line 7\u001b[0m\n\u001b[1;32m      4\u001b[0m dataset_path\u001b[38;5;241m=\u001b[39m\u001b[38;5;124m\"\u001b[39m\u001b[38;5;124mdatasets/bop23_challenge/datasets/daoliuzhao/test\u001b[39m\u001b[38;5;124m\"\u001b[39m\n\u001b[1;32m      5\u001b[0m xyz_dataset \u001b[38;5;241m=\u001b[39m XYZ(obj_mesh_path, dataset_path)\n\u001b[0;32m----> 7\u001b[0m \u001b[43mxyz_dataset\u001b[49m\u001b[38;5;241;43m.\u001b[39;49m\u001b[43mgenerate_all_visib_masks\u001b[49m\u001b[43m(\u001b[49m\u001b[43m)\u001b[49m\n",
      "File \u001b[0;32m~/CuongVanDam/do_an_tot_nghiep/cnos/src/dataloader/xyz_dataset.py:34\u001b[0m, in \u001b[0;36mXYZ.generate_all_visib_masks\u001b[0;34m(self)\u001b[0m\n\u001b[1;32m     32\u001b[0m \u001b[38;5;28;01mdef\u001b[39;00m \u001b[38;5;21mgenerate_all_visib_masks\u001b[39m(\u001b[38;5;28mself\u001b[39m):\n\u001b[1;32m     33\u001b[0m     \u001b[38;5;28;01mfor\u001b[39;00m img_folder \u001b[38;5;129;01min\u001b[39;00m \u001b[38;5;28mself\u001b[39m\u001b[38;5;241m.\u001b[39mimg_folders:\n\u001b[0;32m---> 34\u001b[0m         \u001b[38;5;28;43mself\u001b[39;49m\u001b[38;5;241;43m.\u001b[39;49m\u001b[43mgenerate_visib_masks\u001b[49m\u001b[43m(\u001b[49m\u001b[43mimg_folder\u001b[49m\u001b[43m)\u001b[49m\n",
      "File \u001b[0;32m~/CuongVanDam/do_an_tot_nghiep/cnos/src/dataloader/xyz_dataset.py:51\u001b[0m, in \u001b[0;36mXYZ.generate_visib_masks\u001b[0;34m(self, img_folder)\u001b[0m\n\u001b[1;32m     49\u001b[0m K \u001b[38;5;241m=\u001b[39m np\u001b[38;5;241m.\u001b[39marray(camera_K_depth[\u001b[38;5;124m\"\u001b[39m\u001b[38;5;124mcam_K\u001b[39m\u001b[38;5;124m\"\u001b[39m])\u001b[38;5;241m.\u001b[39mreshape(\u001b[38;5;241m3\u001b[39m,\u001b[38;5;241m3\u001b[39m)\n\u001b[1;32m     50\u001b[0m depth \u001b[38;5;241m=\u001b[39m camera_K_depth[\u001b[38;5;124m\"\u001b[39m\u001b[38;5;124mdepth_scale\u001b[39m\u001b[38;5;124m\"\u001b[39m]\n\u001b[0;32m---> 51\u001b[0m list_R \u001b[38;5;241m=\u001b[39m [np\u001b[38;5;241m.\u001b[39marray(s[\u001b[38;5;124m\"\u001b[39m\u001b[38;5;124mcam_R_m2c\u001b[39m\u001b[38;5;124m\"\u001b[39m]) \u001b[38;5;28;01mfor\u001b[39;00m s \u001b[38;5;129;01min\u001b[39;00m \u001b[43mscene_gt\u001b[49m\u001b[43m[\u001b[49m\u001b[43mimg_id\u001b[49m\u001b[43m]\u001b[49m]\n\u001b[1;32m     52\u001b[0m list_t \u001b[38;5;241m=\u001b[39m [np\u001b[38;5;241m.\u001b[39marray(s[\u001b[38;5;124m\"\u001b[39m\u001b[38;5;124mcam_t_m2c\u001b[39m\u001b[38;5;124m\"\u001b[39m])\u001b[38;5;241m.\u001b[39mreshape(\u001b[38;5;241m3\u001b[39m,\u001b[38;5;241m1\u001b[39m) \u001b[38;5;28;01mfor\u001b[39;00m s \u001b[38;5;129;01min\u001b[39;00m scene_gt[img_id]]\n\u001b[1;32m     53\u001b[0m obj_id_list \u001b[38;5;241m=\u001b[39m [s[\u001b[38;5;124m\"\u001b[39m\u001b[38;5;124mobj_id\u001b[39m\u001b[38;5;124m\"\u001b[39m] \u001b[38;5;28;01mfor\u001b[39;00m s \u001b[38;5;129;01min\u001b[39;00m scene_gt[img_id]]\n",
      "\u001b[0;31mKeyError\u001b[0m: '50'"
     ]
    }
   ],
   "source": [
    "from src.dataloader.xyz_dataset import XYZ\n",
    "\n",
    "obj_mesh_path=\"datasets/bop23_challenge/datasets/daoliuzhao/models/models/obj_000001.ply\"\n",
    "dataset_path=\"datasets/bop23_challenge/datasets/daoliuzhao/test\"\n",
    "xyz_dataset = XYZ(obj_mesh_path, dataset_path)\n",
    "\n",
    "xyz_dataset.generate_all_visib_masks()"
   ]
  },
  {
   "cell_type": "code",
   "execution_count": null,
   "metadata": {},
   "outputs": [],
   "source": []
  },
  {
   "cell_type": "code",
   "execution_count": null,
   "metadata": {},
   "outputs": [],
   "source": []
  },
  {
   "cell_type": "code",
   "execution_count": null,
   "metadata": {},
   "outputs": [],
   "source": []
  }
 ],
 "metadata": {
  "language_info": {
   "name": "python"
  }
 },
 "nbformat": 4,
 "nbformat_minor": 2
}
