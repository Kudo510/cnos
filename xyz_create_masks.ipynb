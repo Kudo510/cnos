{
 "cells": [
  {
   "cell_type": "code",
   "execution_count": 1,
   "metadata": {},
   "outputs": [],
   "source": [
    "%load_ext autoreload\n",
    "%autoreload 2"
   ]
  },
  {
   "cell_type": "code",
   "execution_count": 13,
   "metadata": {},
   "outputs": [
    {
     "ename": "KeyboardInterrupt",
     "evalue": "",
     "output_type": "error",
     "traceback": [
      "\u001b[0;31m---------------------------------------------------------------------------\u001b[0m",
      "\u001b[0;31mKeyboardInterrupt\u001b[0m                         Traceback (most recent call last)",
      "Cell \u001b[0;32mIn[13], line 7\u001b[0m\n\u001b[1;32m      4\u001b[0m dataset_path\u001b[38;5;241m=\u001b[39m\u001b[38;5;124m\"\u001b[39m\u001b[38;5;124mdatasets/bop23_challenge/datasets/daoliuzhao/test\u001b[39m\u001b[38;5;124m\"\u001b[39m\n\u001b[1;32m      5\u001b[0m xyz_dataset \u001b[38;5;241m=\u001b[39m XYZ(obj_mesh_path, dataset_path)\n\u001b[0;32m----> 7\u001b[0m \u001b[43mxyz_dataset\u001b[49m\u001b[38;5;241;43m.\u001b[39;49m\u001b[43mgenerate_masks\u001b[49m\u001b[43m(\u001b[49m\u001b[43mxyz_dataset\u001b[49m\u001b[38;5;241;43m.\u001b[39;49m\u001b[43mimg_folders\u001b[49m\u001b[43m[\u001b[49m\u001b[38;5;241;43m0\u001b[39;49m\u001b[43m]\u001b[49m\u001b[43m)\u001b[49m\n",
      "File \u001b[0;32m~/CuongVanDam/do_an_tot_nghiep/cnos/src/dataloader/xyz_dataset.py:51\u001b[0m, in \u001b[0;36mXYZ.generate_masks\u001b[0;34m(self, img_folder)\u001b[0m\n\u001b[1;32m     48\u001b[0m depth_map \u001b[38;5;241m=\u001b[39m np\u001b[38;5;241m.\u001b[39marray(Image\u001b[38;5;241m.\u001b[39mopen(\u001b[38;5;124mf\u001b[39m\u001b[38;5;124m\"\u001b[39m\u001b[38;5;132;01m{\u001b[39;00mimg_folder\u001b[38;5;132;01m}\u001b[39;00m\u001b[38;5;124m/depth/\u001b[39m\u001b[38;5;132;01m{\u001b[39;00m\u001b[38;5;28mint\u001b[39m(img_id)\u001b[38;5;132;01m:\u001b[39;00m\u001b[38;5;124m06d\u001b[39m\u001b[38;5;132;01m}\u001b[39;00m\u001b[38;5;124m.png\u001b[39m\u001b[38;5;124m\"\u001b[39m))\n\u001b[1;32m     50\u001b[0m \u001b[38;5;28;01mfor\u001b[39;00m i, (R, t) \u001b[38;5;129;01min\u001b[39;00m \u001b[38;5;28menumerate\u001b[39m(\u001b[38;5;28mzip\u001b[39m(list_R, list_t)):\n\u001b[0;32m---> 51\u001b[0m     rendered_mask \u001b[38;5;241m=\u001b[39m \u001b[38;5;28;43mself\u001b[39;49m\u001b[38;5;241;43m.\u001b[39;49m\u001b[43mproject_3d_model\u001b[49m\u001b[43m(\u001b[49m\u001b[38;5;28;43mself\u001b[39;49m\u001b[38;5;241;43m.\u001b[39;49m\u001b[43mobj_mesh\u001b[49m\u001b[43m,\u001b[49m\u001b[43m \u001b[49m\u001b[43mK\u001b[49m\u001b[43m,\u001b[49m\u001b[43m \u001b[49m\u001b[43mR\u001b[49m\u001b[43m,\u001b[49m\u001b[43m \u001b[49m\u001b[43mt\u001b[49m\u001b[43m,\u001b[49m\u001b[43m \u001b[49m\u001b[43mdepth_map\u001b[49m\u001b[43m)\u001b[49m\n\u001b[1;32m     52\u001b[0m     Image\u001b[38;5;241m.\u001b[39mfromarray(rendered_mask)\u001b[38;5;241m.\u001b[39msave(os\u001b[38;5;241m.\u001b[39mpath\u001b[38;5;241m.\u001b[39mjoin(mask_folder, \u001b[38;5;124mf\u001b[39m\u001b[38;5;124m\"\u001b[39m\u001b[38;5;132;01m{\u001b[39;00m\u001b[38;5;28mint\u001b[39m(img_id)\u001b[38;5;132;01m:\u001b[39;00m\u001b[38;5;124m06d\u001b[39m\u001b[38;5;132;01m}\u001b[39;00m\u001b[38;5;124m_\u001b[39m\u001b[38;5;132;01m{\u001b[39;00mi\u001b[38;5;132;01m:\u001b[39;00m\u001b[38;5;124m06d\u001b[39m\u001b[38;5;132;01m}\u001b[39;00m\u001b[38;5;124m.png\u001b[39m\u001b[38;5;124m\"\u001b[39m))\n",
      "File \u001b[0;32m~/CuongVanDam/do_an_tot_nghiep/cnos/src/dataloader/xyz_dataset.py:74\u001b[0m, in \u001b[0;36mXYZ.project_3d_model\u001b[0;34m(self, model, K, R, t, depth_map, image_shape)\u001b[0m\n\u001b[1;32m     71\u001b[0m z_values \u001b[38;5;241m=\u001b[39m camera_points[face][:, \u001b[38;5;241m2\u001b[39m]\n\u001b[1;32m     73\u001b[0m \u001b[38;5;66;03m# Create a mask for the triangle\u001b[39;00m\n\u001b[0;32m---> 74\u001b[0m mask \u001b[38;5;241m=\u001b[39m \u001b[43mnp\u001b[49m\u001b[38;5;241;43m.\u001b[39;49m\u001b[43mzeros\u001b[49m\u001b[43m(\u001b[49m\u001b[43mimage_shape\u001b[49m\u001b[43m[\u001b[49m\u001b[43m:\u001b[49m\u001b[38;5;241;43m2\u001b[39;49m\u001b[43m]\u001b[49m\u001b[43m,\u001b[49m\u001b[43m \u001b[49m\u001b[43mdtype\u001b[49m\u001b[38;5;241;43m=\u001b[39;49m\u001b[43mnp\u001b[49m\u001b[38;5;241;43m.\u001b[39;49m\u001b[43muint8\u001b[49m\u001b[43m)\u001b[49m\n\u001b[1;32m     75\u001b[0m cv2\u001b[38;5;241m.\u001b[39mfillConvexPoly(mask, triangle, \u001b[38;5;241m1\u001b[39m)\n\u001b[1;32m     77\u001b[0m \u001b[38;5;66;03m# Get the bounding box of the triangle\u001b[39;00m\n",
      "\u001b[0;31mKeyboardInterrupt\u001b[0m: "
     ]
    }
   ],
   "source": [
    "from src.dataloader.xyz_dataset import XYZ\n",
    "\n",
    "obj_mesh_path=\"datasets/bop23_challenge/datasets/daoliuzhao/models/models/obj_000001.ply\"\n",
    "dataset_path=\"datasets/bop23_challenge/datasets/daoliuzhao/test\"\n",
    "xyz_dataset = XYZ(obj_mesh_path, dataset_path)\n",
    "\n",
    "xyz_dataset.generate_all_visib_masks()"
   ]
  },
  {
   "cell_type": "code",
   "execution_count": null,
   "metadata": {},
   "outputs": [],
   "source": []
  },
  {
   "cell_type": "code",
   "execution_count": null,
   "metadata": {},
   "outputs": [],
   "source": []
  },
  {
   "cell_type": "code",
   "execution_count": null,
   "metadata": {},
   "outputs": [],
   "source": []
  }
 ],
 "metadata": {
  "language_info": {
   "name": "python"
  }
 },
 "nbformat": 4,
 "nbformat_minor": 2
}
