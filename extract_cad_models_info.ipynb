{
 "cells": [
  {
   "cell_type": "code",
   "execution_count": 1,
   "metadata": {},
   "outputs": [],
   "source": [
    "%load_ext autoreload\n",
    "%autoreload 2"
   ]
  },
  {
   "cell_type": "code",
   "execution_count": null,
   "metadata": {},
   "outputs": [
    {
     "name": "stdout",
     "output_type": "stream",
     "text": [
      "Min bound: [-0.0083     -0.00829391 -0.085     ]\n",
      "Max bound: [0.0083     0.00829391 0.0861    ]\n",
      "Width: 0.016600001603364944\n",
      "Height: 0.016587818041443825\n",
      "Depth: 0.17109999805688858\n"
     ]
    }
   ],
   "source": [
    "import trimesh\n",
    "\n",
    "# Read the PLY file\n",
    "mesh = trimesh.load_mesh(\"datasets/bop23_challenge/datasets/yuanguan/models/obj_000009.ply\")\n",
    "\n",
    "# Get the bounds\n",
    "bounds = mesh.bounds\n",
    "\n",
    "# bounds[0] is the min bound, bounds[1] is the max bound\n",
    "min_bound = bounds[0]\n",
    "max_bound = bounds[1]\n",
    "\n",
    "print(\"Min bound:\", min_bound)\n",
    "print(\"Max bound:\", max_bound)\n",
    "# Get the bounds\n",
    "bounds = mesh.bounds\n",
    "\n",
    "# Calculate dimensions\n",
    "dimensions = bounds[1] - bounds[0]\n",
    "\n",
    "width = dimensions[0]\n",
    "height = dimensions[1]\n",
    "depth = dimensions[2]\n",
    "\n",
    "print(f\"Width: {width}\")\n",
    "print(f\"Height: {height}\")\n",
    "print(f\"Depth: {depth}\")"
   ]
  },
  {
   "cell_type": "code",
   "execution_count": 12,
   "metadata": {},
   "outputs": [
    {
     "name": "stdout",
     "output_type": "stream",
     "text": [
      "Min bound: [-0.0142938  0.000323  -0.0247214]\n",
      "Max bound: [0.1548961 0.008677  0.0291969]\n",
      "Width: 0.16918989550322294\n",
      "Height: 0.008354002580745146\n",
      "Depth: 0.053918300196528435\n"
     ]
    }
   ],
   "source": [
    "import trimesh\n",
    "\n",
    "# Read the PLY file\n",
    "mesh = trimesh.load_mesh(\"datasets/bop23_challenge/datasets/banjinjia/models/obj_000006.ply\")\n",
    "\n",
    "# Get the bounds\n",
    "bounds = mesh.bounds\n",
    "\n",
    "# bounds[0] is the min bound, bounds[1] is the max bound\n",
    "min_bound = bounds[0]\n",
    "max_bound = bounds[1]\n",
    "\n",
    "print(\"Min bound:\", min_bound)\n",
    "print(\"Max bound:\", max_bound)\n",
    "# Get the bounds\n",
    "bounds = mesh.bounds\n",
    "\n",
    "# Calculate dimensions\n",
    "dimensions = bounds[1] - bounds[0]\n",
    "\n",
    "width = dimensions[0]\n",
    "height = dimensions[1]\n",
    "depth = dimensions[2]\n",
    "\n",
    "print(f\"Width: {width}\")\n",
    "print(f\"Height: {height}\")\n",
    "print(f\"Depth: {depth}\")"
   ]
  },
  {
   "cell_type": "code",
   "execution_count": 13,
   "metadata": {},
   "outputs": [
    {
     "data": {
      "text/plain": [
       "array([[-0.0142938,  0.000323 , -0.0247214],\n",
       "       [ 0.1548961,  0.008677 ,  0.0291969]])"
      ]
     },
     "execution_count": 13,
     "metadata": {},
     "output_type": "execute_result"
    }
   ],
   "source": [
    "bounds"
   ]
  },
  {
   "cell_type": "code",
   "execution_count": 5,
   "metadata": {},
   "outputs": [
    {
     "name": "stdout",
     "output_type": "stream",
     "text": [
      "Min bound: [-35.         -42.5        -35.15000153]\n",
      "Max bound: [35.         42.5        -0.20005549]\n",
      "Width: 70.0\n",
      "Height: 85.0\n",
      "Depth: 34.94994603097439\n"
     ]
    }
   ],
   "source": [
    "import trimesh\n",
    "\n",
    "# Read the PLY file\n",
    "mesh = trimesh.load_mesh(\"datasets/bop23_challenge/datasets/daoliuzhao/models/obj_000001.ply\")\n",
    "\n",
    "# Get the bounds\n",
    "bounds = mesh.bounds\n",
    "\n",
    "# bounds[0] is the min bound, bounds[1] is the max bound\n",
    "min_bound = bounds[0]\n",
    "max_bound = bounds[1]\n",
    "\n",
    "print(\"Min bound:\", min_bound)\n",
    "print(\"Max bound:\", max_bound)\n",
    "# Get the bounds\n",
    "bounds = mesh.bounds\n",
    "\n",
    "# Calculate dimensions\n",
    "dimensions = bounds[1] - bounds[0]\n",
    "\n",
    "width = dimensions[0]\n",
    "height = dimensions[1]\n",
    "depth = dimensions[2]\n",
    "\n",
    "print(f\"Width: {width}\")\n",
    "print(f\"Height: {height}\")\n",
    "print(f\"Depth: {depth}\")"
   ]
  },
  {
   "cell_type": "code",
   "execution_count": 24,
   "metadata": {},
   "outputs": [
    {
     "name": "stdout",
     "output_type": "stream",
     "text": [
      "Min bound: [-45.00249863 -44.2765007  -60.22650146]\n",
      "Max bound: [45.00249863 44.2765007  60.22650146]\n",
      "Width: 90.00499725341797\n",
      "Height: 88.5530014038086\n",
      "Depth: 120.4530029296875\n"
     ]
    }
   ],
   "source": [
    "import trimesh\n",
    "\n",
    "# Read the PLY file\n",
    "mesh = trimesh.load_mesh(\"datasets/bop23_challenge/datasets/icbin/models/obj_000001.ply\")\n",
    "\n",
    "# Get the bounds\n",
    "bounds = mesh.bounds\n",
    "\n",
    "# bounds[0] is the min bound, bounds[1] is the max bound\n",
    "min_bound = bounds[0]\n",
    "max_bound = bounds[1]\n",
    "\n",
    "print(\"Min bound:\", min_bound)\n",
    "print(\"Max bound:\", max_bound)\n",
    "# Get the bounds\n",
    "bounds = mesh.bounds\n",
    "\n",
    "# Calculate dimensions\n",
    "dimensions = bounds[1] - bounds[0]\n",
    "\n",
    "width = dimensions[0]\n",
    "height = dimensions[1]\n",
    "depth = dimensions[2]\n",
    "\n",
    "print(f\"Width: {width}\")\n",
    "print(f\"Height: {height}\")\n",
    "print(f\"Depth: {depth}\")"
   ]
  },
  {
   "cell_type": "code",
   "execution_count": 11,
   "metadata": {},
   "outputs": [
    {
     "name": "stdout",
     "output_type": "stream",
     "text": [
      "Depth range: (-0.013500000350177288, 0.013500000350177288)\n",
      "Azimuth range: (-3.141592653589793, 3.141592653589793)\n",
      "Elevation range: (-0.521401584746992, 0.521401584746992)\n"
     ]
    }
   ],
   "source": [
    "import trimesh\n",
    "import numpy as np\n",
    "import math\n",
    "import os\n",
    "\n",
    "def analyze_model(file_path):\n",
    "    # Read the mesh file\n",
    "    mesh = trimesh.load(file_path)\n",
    "    \n",
    "    # Get the vertices\n",
    "    vertices = mesh.vertices\n",
    "    \n",
    "    # Calculate depth range\n",
    "    depths = vertices[:, 2]  # Assuming Z is depth\n",
    "    depth_range = (np.min(depths), np.max(depths))\n",
    "    \n",
    "    # Calculate azimuth range\n",
    "    xy = vertices[:, :2]\n",
    "    azimuths = np.arctan2(xy[:, 1], xy[:, 0])\n",
    "    azimuth_range = (np.min(azimuths), np.max(azimuths))\n",
    "    \n",
    "    # Calculate elevation range\n",
    "    r = np.linalg.norm(vertices, axis=1)\n",
    "    elevations = np.arcsin(vertices[:, 2] / r)\n",
    "    elev_range = (np.min(elevations), np.max(elevations))\n",
    "    \n",
    "    return depth_range, azimuth_range, elev_range\n",
    "\n",
    "def analyze_dataset(dataset_path):\n",
    "    all_depth_ranges = []\n",
    "    all_azimuth_ranges = []\n",
    "    all_elev_ranges = []\n",
    "    \n",
    "    for file in os.listdir(dataset_path):\n",
    "        if file.endswith(('.ply', '.obj', '.stl')):  # Trimesh supports various formats\n",
    "            file_path = os.path.join(dataset_path, file)\n",
    "            depth_range, azimuth_range, elev_range = analyze_model(file_path)\n",
    "            all_depth_ranges.append(depth_range)\n",
    "            all_azimuth_ranges.append(azimuth_range)\n",
    "            all_elev_ranges.append(elev_range)\n",
    "    \n",
    "    # Compute overall ranges\n",
    "    overall_depth_range = (min(r[0] for r in all_depth_ranges), max(r[1] for r in all_depth_ranges))\n",
    "    overall_azimuth_range = (min(r[0] for r in all_azimuth_ranges), max(r[1] for r in all_azimuth_ranges))\n",
    "    overall_elev_range = (min(r[0] for r in all_elev_ranges), max(r[1] for r in all_elev_ranges))\n",
    "    \n",
    "    return overall_depth_range, overall_azimuth_range, overall_elev_range\n",
    "\n",
    "# Usage\n",
    "dataset_path = 'datasets/bop23_challenge/datasets/itodd/models'\n",
    "depth_range, azimuth_range, elev_range = analyze_dataset(dataset_path)\n",
    "\n",
    "print(f\"Depth range: {depth_range}\")\n",
    "print(f\"Azimuth range: {azimuth_range}\")\n",
    "print(f\"Elevation range: {elev_range}\")"
   ]
  },
  {
   "cell_type": "code",
   "execution_count": 10,
   "metadata": {},
   "outputs": [
    {
     "name": "stdout",
     "output_type": "stream",
     "text": [
      "Depth range: (-42.98965835571289, 2.8997669219970703)\n",
      "Azimuth range: (-2.418154660568508, 2.36264626374924)\n",
      "Elevation range: (-0.4877518147994752, 0.10391380791925788)\n"
     ]
    }
   ],
   "source": [
    "import trimesh\n",
    "import numpy as np\n",
    "import math\n",
    "import os\n",
    "\n",
    "def analyze_model(file_path):\n",
    "    # Read the mesh file\n",
    "    mesh = trimesh.load(file_path)\n",
    "    \n",
    "    # Get the vertices\n",
    "    vertices = mesh.vertices\n",
    "    \n",
    "    # Calculate depth range\n",
    "    depths = vertices[:, 2]  # Assuming Z is depth\n",
    "    depth_range = (np.min(depths), np.max(depths))\n",
    "    \n",
    "    # Calculate azimuth range\n",
    "    xy = vertices[:, :2]\n",
    "    azimuths = np.arctan2(xy[:, 1], xy[:, 0])\n",
    "    azimuth_range = (np.min(azimuths), np.max(azimuths))\n",
    "    \n",
    "    # Calculate elevation range\n",
    "    r = np.linalg.norm(vertices, axis=1)\n",
    "    elevations = np.arcsin(vertices[:, 2] / r)\n",
    "    elev_range = (np.min(elevations), np.max(elevations))\n",
    "    \n",
    "    return depth_range, azimuth_range, elev_range\n",
    "\n",
    "def analyze_dataset(dataset_path):\n",
    "    all_depth_ranges = []\n",
    "    all_azimuth_ranges = []\n",
    "    all_elev_ranges = []\n",
    "    \n",
    "    for file in os.listdir(dataset_path):\n",
    "        if file.endswith(('.ply', '.obj', '.stl')):  # Trimesh supports various formats\n",
    "            file_path = os.path.join(dataset_path, file)\n",
    "            depth_range, azimuth_range, elev_range = analyze_model(file_path)\n",
    "            all_depth_ranges.append(depth_range)\n",
    "            all_azimuth_ranges.append(azimuth_range)\n",
    "            all_elev_ranges.append(elev_range)\n",
    "    \n",
    "    # Compute overall ranges\n",
    "    overall_depth_range = (min(r[0] for r in all_depth_ranges), max(r[1] for r in all_depth_ranges))\n",
    "    overall_azimuth_range = (min(r[0] for r in all_azimuth_ranges), max(r[1] for r in all_azimuth_ranges))\n",
    "    overall_elev_range = (min(r[0] for r in all_elev_ranges), max(r[1] for r in all_elev_ranges))\n",
    "    \n",
    "    return overall_depth_range, overall_azimuth_range, overall_elev_range\n",
    "\n",
    "# Usage\n",
    "dataset_path = 'datasets/bop23_challenge/datasets/hudiebanjin/models'\n",
    "depth_range, azimuth_range, elev_range = analyze_dataset(dataset_path)\n",
    "\n",
    "print(f\"Depth range: {depth_range}\")\n",
    "print(f\"Azimuth range: {azimuth_range}\")\n",
    "print(f\"Elevation range: {elev_range}\")"
   ]
  },
  {
   "cell_type": "code",
   "execution_count": null,
   "metadata": {},
   "outputs": [
    {
     "name": "stdout",
     "output_type": "stream",
     "text": [
      "Depth range: (-0.024721400812268257, 0.029196899384260178)\n",
      "Azimuth range: (0.0020852651537157712, 2.88116663070423)\n",
      "Elevation range: (-1.3167617789758397, 1.3140791410832056)\n"
     ]
    }
   ],
   "source": [
    "import trimesh\n",
    "import numpy as np\n",
    "import math\n",
    "import os\n",
    "\n",
    "def analyze_model(file_path):\n",
    "    # Read the mesh file\n",
    "    mesh = trimesh.load(file_path)\n",
    "    \n",
    "    # Get the vertices\n",
    "    vertices = mesh.vertices\n",
    "    \n",
    "    # Calculate depth range\n",
    "    depths = vertices[:, 2]  # Assuming Z is depth\n",
    "    depth_range = (np.min(depths), np.max(depths))\n",
    "    \n",
    "    # Calculate azimuth range\n",
    "    xy = vertices[:, :2]\n",
    "    azimuths = np.arctan2(xy[:, 1], xy[:, 0])\n",
    "    azimuth_range = (np.min(azimuths), np.max(azimuths))\n",
    "    \n",
    "    # Calculate elevation range\n",
    "    r = np.linalg.norm(vertices, axis=1)\n",
    "    elevations = np.arcsin(vertices[:, 2] / r)\n",
    "    elev_range = (np.min(elevations), np.max(elevations))\n",
    "    \n",
    "    return depth_range, azimuth_range, elev_range\n",
    "\n",
    "def analyze_dataset(dataset_path):\n",
    "    all_depth_ranges = []\n",
    "    all_azimuth_ranges = []\n",
    "    all_elev_ranges = []\n",
    "    \n",
    "    for file in os.listdir(dataset_path):\n",
    "        if file.endswith(('.ply', '.obj', '.stl')):  # Trimesh supports various formats\n",
    "            file_path = os.path.join(dataset_path, file)\n",
    "            depth_range, azimuth_range, elev_range = analyze_model(file_path)\n",
    "            all_depth_ranges.append(depth_range)\n",
    "            all_azimuth_ranges.append(azimuth_range)\n",
    "            all_elev_ranges.append(elev_range)\n",
    "    \n",
    "    # Compute overall ranges\n",
    "    overall_depth_range = (min(r[0] for r in all_depth_ranges), max(r[1] for r in all_depth_ranges))\n",
    "    overall_azimuth_range = (min(r[0] for r in all_azimuth_ranges), max(r[1] for r in all_azimuth_ranges))\n",
    "    overall_elev_range = (min(r[0] for r in all_elev_ranges), max(r[1] for r in all_elev_ranges))\n",
    "    \n",
    "    return overall_depth_range, overall_azimuth_range, overall_elev_range\n",
    "\n",
    "# Usage\n",
    "dataset_path = 'datasets/bop23_challenge/datasets/banjinjia/models'\n",
    "depth_range, azimuth_range, elev_range = analyze_dataset(dataset_path)\n",
    "\n",
    "print(f\"Depth range: {depth_range}\")\n",
    "print(f\"Azimuth range: {azimuth_range}\")\n",
    "print(f\"Elevation range: {elev_range}\")"
   ]
  },
  {
   "cell_type": "code",
   "execution_count": null,
   "metadata": {},
   "outputs": [],
   "source": []
  },
  {
   "cell_type": "code",
   "execution_count": 8,
   "metadata": {},
   "outputs": [
    {
     "name": "stdout",
     "output_type": "stream",
     "text": [
      "Depth range: (-0.08500000089406967, 0.08609999716281891)\n",
      "Azimuth range: (-3.064968454209272, 3.141592653589793)\n",
      "Elevation range: (-1.5707963267948966, 1.5707963267948966)\n"
     ]
    }
   ],
   "source": [
    "import trimesh\n",
    "import numpy as np\n",
    "import math\n",
    "import os\n",
    "\n",
    "def analyze_model(file_path):\n",
    "    # Read the mesh file\n",
    "    mesh = trimesh.load(file_path)\n",
    "    \n",
    "    # Get the vertices\n",
    "    vertices = mesh.vertices\n",
    "    \n",
    "    # Calculate depth range\n",
    "    depths = vertices[:, 2]  # Assuming Z is depth\n",
    "    depth_range = (np.min(depths), np.max(depths))\n",
    "    \n",
    "    # Calculate azimuth range\n",
    "    xy = vertices[:, :2]\n",
    "    azimuths = np.arctan2(xy[:, 1], xy[:, 0])\n",
    "    azimuth_range = (np.min(azimuths), np.max(azimuths))\n",
    "    \n",
    "    # Calculate elevation range\n",
    "    r = np.linalg.norm(vertices, axis=1)\n",
    "    elevations = np.arcsin(vertices[:, 2] / r)\n",
    "    elev_range = (np.min(elevations), np.max(elevations))\n",
    "    \n",
    "    return depth_range, azimuth_range, elev_range\n",
    "\n",
    "def analyze_dataset(dataset_path):\n",
    "    all_depth_ranges = []\n",
    "    all_azimuth_ranges = []\n",
    "    all_elev_ranges = []\n",
    "    \n",
    "    for file in os.listdir(dataset_path):\n",
    "        if file.endswith(('.ply', '.obj', '.stl')):  # Trimesh supports various formats\n",
    "            file_path = os.path.join(dataset_path, file)\n",
    "            depth_range, azimuth_range, elev_range = analyze_model(file_path)\n",
    "            all_depth_ranges.append(depth_range)\n",
    "            all_azimuth_ranges.append(azimuth_range)\n",
    "            all_elev_ranges.append(elev_range)\n",
    "    \n",
    "    # Compute overall ranges\n",
    "    overall_depth_range = (min(r[0] for r in all_depth_ranges), max(r[1] for r in all_depth_ranges))\n",
    "    overall_azimuth_range = (min(r[0] for r in all_azimuth_ranges), max(r[1] for r in all_azimuth_ranges))\n",
    "    overall_elev_range = (min(r[0] for r in all_elev_ranges), max(r[1] for r in all_elev_ranges))\n",
    "    \n",
    "    return overall_depth_range, overall_azimuth_range, overall_elev_range\n",
    "\n",
    "# Usage\n",
    "dataset_path = 'datasets/bop23_challenge/datasets/yuanguan/models'\n",
    "depth_range, azimuth_range, elev_range = analyze_dataset(dataset_path)\n",
    "\n",
    "print(f\"Depth range: {depth_range}\")\n",
    "print(f\"Azimuth range: {azimuth_range}\")\n",
    "print(f\"Elevation range: {elev_range}\")"
   ]
  }
 ],
 "metadata": {
  "language_info": {
   "name": "python"
  }
 },
 "nbformat": 4,
 "nbformat_minor": 2
}
