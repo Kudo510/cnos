{
 "cells": [
  {
   "cell_type": "code",
   "execution_count": 2,
   "metadata": {},
   "outputs": [],
   "source": [
    "%load_ext autoreload\n",
    "%autoreload 2"
   ]
  },
  {
   "cell_type": "code",
   "execution_count": 23,
   "metadata": {},
   "outputs": [
    {
     "name": "stdout",
     "output_type": "stream",
     "text": [
      "Min bound: [-35.         -42.5        -35.15000153]\n",
      "Max bound: [35.         42.5        -0.20005549]\n",
      "Width: 70.0\n",
      "Height: 85.0\n",
      "Depth: 34.94994603097439\n"
     ]
    }
   ],
   "source": [
    "import trimesh\n",
    "\n",
    "# Read the PLY file\n",
    "mesh = trimesh.load_mesh(\"datasets/bop23_challenge/datasets/daoliuzhao/models/obj_000001.ply\")\n",
    "\n",
    "# Get the bounds\n",
    "bounds = mesh.bounds\n",
    "\n",
    "# bounds[0] is the min bound, bounds[1] is the max bound\n",
    "min_bound = bounds[0]\n",
    "max_bound = bounds[1]\n",
    "\n",
    "print(\"Min bound:\", min_bound)\n",
    "print(\"Max bound:\", max_bound)\n",
    "# Get the bounds\n",
    "bounds = mesh.bounds\n",
    "\n",
    "# Calculate dimensions\n",
    "dimensions = bounds[1] - bounds[0]\n",
    "\n",
    "width = dimensions[0]\n",
    "height = dimensions[1]\n",
    "depth = dimensions[2]\n",
    "\n",
    "print(f\"Width: {width}\")\n",
    "print(f\"Height: {height}\")\n",
    "print(f\"Depth: {depth}\")"
   ]
  },
  {
   "cell_type": "code",
   "execution_count": 24,
   "metadata": {},
   "outputs": [
    {
     "name": "stdout",
     "output_type": "stream",
     "text": [
      "Min bound: [-45.00249863 -44.2765007  -60.22650146]\n",
      "Max bound: [45.00249863 44.2765007  60.22650146]\n",
      "Width: 90.00499725341797\n",
      "Height: 88.5530014038086\n",
      "Depth: 120.4530029296875\n"
     ]
    }
   ],
   "source": [
    "import trimesh\n",
    "\n",
    "# Read the PLY file\n",
    "mesh = trimesh.load_mesh(\"datasets/bop23_challenge/datasets/icbin/models/obj_000001.ply\")\n",
    "\n",
    "# Get the bounds\n",
    "bounds = mesh.bounds\n",
    "\n",
    "# bounds[0] is the min bound, bounds[1] is the max bound\n",
    "min_bound = bounds[0]\n",
    "max_bound = bounds[1]\n",
    "\n",
    "print(\"Min bound:\", min_bound)\n",
    "print(\"Max bound:\", max_bound)\n",
    "# Get the bounds\n",
    "bounds = mesh.bounds\n",
    "\n",
    "# Calculate dimensions\n",
    "dimensions = bounds[1] - bounds[0]\n",
    "\n",
    "width = dimensions[0]\n",
    "height = dimensions[1]\n",
    "depth = dimensions[2]\n",
    "\n",
    "print(f\"Width: {width}\")\n",
    "print(f\"Height: {height}\")\n",
    "print(f\"Depth: {depth}\")"
   ]
  },
  {
   "cell_type": "code",
   "execution_count": 26,
   "metadata": {},
   "outputs": [
    {
     "name": "stdout",
     "output_type": "stream",
     "text": [
      "Depth range: (-106.45500183105469, 106.45500183105469)\n",
      "Azimuth range: (-3.1415786708993654, 3.1413720033068158)\n",
      "Elevation range: (-1.568195772158922, 1.5697028209936201)\n"
     ]
    }
   ],
   "source": [
    "import trimesh\n",
    "import numpy as np\n",
    "import math\n",
    "import os\n",
    "\n",
    "def analyze_model(file_path):\n",
    "    # Read the mesh file\n",
    "    mesh = trimesh.load(file_path)\n",
    "    \n",
    "    # Get the vertices\n",
    "    vertices = mesh.vertices\n",
    "    \n",
    "    # Calculate depth range\n",
    "    depths = vertices[:, 2]  # Assuming Z is depth\n",
    "    depth_range = (np.min(depths), np.max(depths))\n",
    "    \n",
    "    # Calculate azimuth range\n",
    "    xy = vertices[:, :2]\n",
    "    azimuths = np.arctan2(xy[:, 1], xy[:, 0])\n",
    "    azimuth_range = (np.min(azimuths), np.max(azimuths))\n",
    "    \n",
    "    # Calculate elevation range\n",
    "    r = np.linalg.norm(vertices, axis=1)\n",
    "    elevations = np.arcsin(vertices[:, 2] / r)\n",
    "    elev_range = (np.min(elevations), np.max(elevations))\n",
    "    \n",
    "    return depth_range, azimuth_range, elev_range\n",
    "\n",
    "def analyze_dataset(dataset_path):\n",
    "    all_depth_ranges = []\n",
    "    all_azimuth_ranges = []\n",
    "    all_elev_ranges = []\n",
    "    \n",
    "    for file in os.listdir(dataset_path):\n",
    "        if file.endswith(('.ply', '.obj', '.stl')):  # Trimesh supports various formats\n",
    "            file_path = os.path.join(dataset_path, file)\n",
    "            depth_range, azimuth_range, elev_range = analyze_model(file_path)\n",
    "            all_depth_ranges.append(depth_range)\n",
    "            all_azimuth_ranges.append(azimuth_range)\n",
    "            all_elev_ranges.append(elev_range)\n",
    "    \n",
    "    # Compute overall ranges\n",
    "    overall_depth_range = (min(r[0] for r in all_depth_ranges), max(r[1] for r in all_depth_ranges))\n",
    "    overall_azimuth_range = (min(r[0] for r in all_azimuth_ranges), max(r[1] for r in all_azimuth_ranges))\n",
    "    overall_elev_range = (min(r[0] for r in all_elev_ranges), max(r[1] for r in all_elev_ranges))\n",
    "    \n",
    "    return overall_depth_range, overall_azimuth_range, overall_elev_range\n",
    "\n",
    "# Usage\n",
    "dataset_path = 'datasets/bop23_challenge/datasets/icbin/models'\n",
    "depth_range, azimuth_range, elev_range = analyze_dataset(dataset_path)\n",
    "\n",
    "print(f\"Depth range: {depth_range}\")\n",
    "print(f\"Azimuth range: {azimuth_range}\")\n",
    "print(f\"Elevation range: {elev_range}\")"
   ]
  }
 ],
 "metadata": {
  "language_info": {
   "name": "python"
  }
 },
 "nbformat": 4,
 "nbformat_minor": 2
}
