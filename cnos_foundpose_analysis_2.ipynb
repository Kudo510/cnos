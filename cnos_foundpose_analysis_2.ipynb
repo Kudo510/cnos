{
 "cells": [
  {
   "cell_type": "code",
   "execution_count": 1,
   "metadata": {},
   "outputs": [],
   "source": [
    "%load_ext autoreload\n",
    "%autoreload 2"
   ]
  },
  {
   "cell_type": "markdown",
   "metadata": {},
   "source": [
    "# Readme\n",
    "Change dataset, crop_id, obj_id only"
   ]
  },
  {
   "cell_type": "markdown",
   "metadata": {},
   "source": [
    "# 1. Crop images"
   ]
  },
  {
   "cell_type": "code",
   "execution_count": 3,
   "metadata": {},
   "outputs": [],
   "source": [
    "import glob\n",
    "from src.model.cnos_foundpose import cnos_foundpose, cnos_different_thresholds\n",
    "\n",
    "\n",
    "dataset = \"icbin\"\n",
    "obj_id = 1\n",
    "rgb_paths = sorted(glob.glob(f\"datasets/bop23_challenge/datasets/{dataset}/test/{obj_id:06d}/rgb/*.png\"))"
   ]
  },
  {
   "cell_type": "code",
   "execution_count": 3,
   "metadata": {},
   "outputs": [],
   "source": [
    "# i = 2\n",
    "# scene_id = int(rgb_paths[i].split(\"/\")[-3])\n",
    "# frame_id = int(rgb_paths[i].split(\"/\")[-1].split(\".\")[0])\n",
    "# cnos_foundpose(rgb_path=rgb_paths[i], scene_id=scene_id, frame_id=frame_id, obj_id=obj_id, dataset=dataset)"
   ]
  },
  {
   "cell_type": "code",
   "execution_count": 6,
   "metadata": {},
   "outputs": [
    {
     "name": "stderr",
     "output_type": "stream",
     "text": [
      "  0%|          | 0/26 [00:00<?, ?it/s][2024-09-01 19:36:36,226] [INFO] root: Loading SAM model from datasets/bop23_challenge/pretrained/segment-anything\n",
      "[2024-09-01 19:36:39,125] [INFO] root: Init CustomSamAutomaticMaskGenerator done!\n",
      "Using cache found in /home/cuong.van-dam/.cache/torch/hub/facebookresearch_dinov2_main\n",
      "[2024-09-01 19:36:41,688] [INFO] dinov2: using MLP layer as FFN\n",
      "100%|██████████| 104/104 [00:01<00:00, 52.15it/s]"
     ]
    },
    {
     "name": "stdout",
     "output_type": "stream",
     "text": [
      "File cnos_foundpose_analysis/output_npz/000001_000030_cnos_05.json does not exist.\n",
      "File cnos_foundpose_analysis/output_npz/000001_000030_cnos_05.npz does not exist.\n"
     ]
    },
    {
     "name": "stderr",
     "output_type": "stream",
     "text": [
      "\n",
      "[2024-09-01 19:36:49,066] [INFO] root: Loading detections...\n",
      "100%|██████████| 15/15 [00:03<00:00,  4.32it/s]"
     ]
    },
    {
     "name": "stdout",
     "output_type": "stream",
     "text": [
      "File cnos_foundpose_analysis/output_npz/000001_000030_cnos_04.json does not exist.\n",
      "File cnos_foundpose_analysis/output_npz/000001_000030_cnos_04.npz does not exist.\n"
     ]
    },
    {
     "name": "stderr",
     "output_type": "stream",
     "text": [
      "\n",
      "[2024-09-01 19:36:54,228] [INFO] root: Loading detections...\n",
      "100%|██████████| 30/30 [00:12<00:00,  2.49it/s]"
     ]
    },
    {
     "name": "stdout",
     "output_type": "stream",
     "text": [
      "File cnos_foundpose_analysis/output_npz/000001_000030_cnos_03.json does not exist.\n",
      "File cnos_foundpose_analysis/output_npz/000001_000030_cnos_03.npz does not exist.\n"
     ]
    },
    {
     "name": "stderr",
     "output_type": "stream",
     "text": [
      "\n",
      "[2024-09-01 19:37:09,803] [INFO] root: Loading detections...\n",
      "100%|██████████| 64/64 [00:50<00:00,  1.26it/s]\n"
     ]
    },
    {
     "name": "stdout",
     "output_type": "stream",
     "text": [
      "File cnos_foundpose_analysis/output_npz/000001_000030_cnos_02.json does not exist.\n",
      "File cnos_foundpose_analysis/output_npz/000001_000030_cnos_02.npz does not exist.\n"
     ]
    },
    {
     "name": "stderr",
     "output_type": "stream",
     "text": [
      "[2024-09-01 19:38:06,917] [INFO] root: Loading detections...\n",
      "100%|██████████| 100/100 [02:02<00:00,  1.22s/it]\n",
      "  4%|▍         | 1/26 [03:33<1:28:45, 213.03s/it][2024-09-01 19:40:09,257] [INFO] root: Loading SAM model from datasets/bop23_challenge/pretrained/segment-anything\n",
      "[2024-09-01 19:40:12,408] [INFO] root: Init CustomSamAutomaticMaskGenerator done!\n",
      "Using cache found in /home/cuong.van-dam/.cache/torch/hub/facebookresearch_dinov2_main\n",
      "[2024-09-01 19:40:14,991] [INFO] dinov2: using MLP layer as FFN\n",
      "100%|██████████| 120/120 [00:02<00:00, 51.46it/s]"
     ]
    },
    {
     "name": "stdout",
     "output_type": "stream",
     "text": [
      "File cnos_foundpose_analysis/output_npz/000001_000031_cnos_05.json does not exist.\n",
      "File cnos_foundpose_analysis/output_npz/000001_000031_cnos_05.npz does not exist.\n"
     ]
    },
    {
     "name": "stderr",
     "output_type": "stream",
     "text": [
      "\n",
      "[2024-09-01 19:40:23,081] [INFO] root: Loading detections...\n",
      "100%|██████████| 19/19 [00:05<00:00,  3.59it/s]"
     ]
    },
    {
     "name": "stdout",
     "output_type": "stream",
     "text": [
      "File cnos_foundpose_analysis/output_npz/000001_000031_cnos_04.json does not exist.\n",
      "File cnos_foundpose_analysis/output_npz/000001_000031_cnos_04.npz does not exist.\n"
     ]
    },
    {
     "name": "stderr",
     "output_type": "stream",
     "text": [
      "\n",
      "[2024-09-01 19:40:30,254] [INFO] root: Loading detections...\n",
      "100%|██████████| 32/32 [00:13<00:00,  2.33it/s]"
     ]
    },
    {
     "name": "stdout",
     "output_type": "stream",
     "text": [
      "File cnos_foundpose_analysis/output_npz/000001_000031_cnos_03.json does not exist.\n",
      "File cnos_foundpose_analysis/output_npz/000001_000031_cnos_03.npz does not exist.\n"
     ]
    },
    {
     "name": "stderr",
     "output_type": "stream",
     "text": [
      "\n",
      "[2024-09-01 19:40:48,244] [INFO] root: Loading detections...\n",
      "100%|██████████| 72/72 [01:03<00:00,  1.13it/s]\n"
     ]
    },
    {
     "name": "stdout",
     "output_type": "stream",
     "text": [
      "File cnos_foundpose_analysis/output_npz/000001_000031_cnos_02.json does not exist.\n",
      "File cnos_foundpose_analysis/output_npz/000001_000031_cnos_02.npz does not exist.\n"
     ]
    },
    {
     "name": "stderr",
     "output_type": "stream",
     "text": [
      "[2024-09-01 19:42:00,111] [INFO] root: Loading detections...\n",
      "100%|██████████| 115/115 [02:36<00:00,  1.36s/it]\n",
      "  8%|▊         | 2/26 [08:00<1:37:55, 244.82s/it][2024-09-01 19:44:36,334] [INFO] root: Loading SAM model from datasets/bop23_challenge/pretrained/segment-anything\n",
      "[2024-09-01 19:44:39,078] [INFO] root: Init CustomSamAutomaticMaskGenerator done!\n",
      "Using cache found in /home/cuong.van-dam/.cache/torch/hub/facebookresearch_dinov2_main\n",
      "[2024-09-01 19:44:41,810] [INFO] dinov2: using MLP layer as FFN\n",
      "100%|██████████| 124/124 [00:02<00:00, 56.87it/s]"
     ]
    },
    {
     "name": "stdout",
     "output_type": "stream",
     "text": [
      "File cnos_foundpose_analysis/output_npz/000001_000032_cnos_05.json does not exist.\n",
      "File cnos_foundpose_analysis/output_npz/000001_000032_cnos_05.npz does not exist.\n"
     ]
    },
    {
     "name": "stderr",
     "output_type": "stream",
     "text": [
      "\n",
      "[2024-09-01 19:44:49,646] [INFO] root: Loading detections...\n",
      "100%|██████████| 12/12 [00:02<00:00,  5.02it/s]\n"
     ]
    },
    {
     "name": "stdout",
     "output_type": "stream",
     "text": [
      "File cnos_foundpose_analysis/output_npz/000001_000032_cnos_04.json does not exist.\n",
      "File cnos_foundpose_analysis/output_npz/000001_000032_cnos_04.npz does not exist.\n"
     ]
    },
    {
     "name": "stderr",
     "output_type": "stream",
     "text": [
      "[2024-09-01 19:44:53,832] [INFO] root: Loading detections...\n",
      "100%|██████████| 27/27 [00:10<00:00,  2.70it/s]\n"
     ]
    },
    {
     "name": "stdout",
     "output_type": "stream",
     "text": [
      "File cnos_foundpose_analysis/output_npz/000001_000032_cnos_03.json does not exist.\n",
      "File cnos_foundpose_analysis/output_npz/000001_000032_cnos_03.npz does not exist.\n"
     ]
    },
    {
     "name": "stderr",
     "output_type": "stream",
     "text": [
      "[2024-09-01 19:45:09,107] [INFO] root: Loading detections...\n",
      "100%|██████████| 84/84 [01:25<00:00,  1.02s/it]\n"
     ]
    },
    {
     "name": "stdout",
     "output_type": "stream",
     "text": [
      "File cnos_foundpose_analysis/output_npz/000001_000032_cnos_02.json does not exist.\n",
      "File cnos_foundpose_analysis/output_npz/000001_000032_cnos_02.npz does not exist.\n"
     ]
    },
    {
     "name": "stderr",
     "output_type": "stream",
     "text": [
      "[2024-09-01 19:46:43,416] [INFO] root: Loading detections...\n",
      "100%|██████████| 122/122 [02:55<00:00,  1.43s/it]\n",
      " 12%|█▏        | 3/26 [13:02<1:43:54, 271.07s/it][2024-09-01 19:49:38,630] [INFO] root: Loading SAM model from datasets/bop23_challenge/pretrained/segment-anything\n",
      "[2024-09-01 19:49:41,604] [INFO] root: Init CustomSamAutomaticMaskGenerator done!\n",
      "Using cache found in /home/cuong.van-dam/.cache/torch/hub/facebookresearch_dinov2_main\n",
      "[2024-09-01 19:49:44,218] [INFO] dinov2: using MLP layer as FFN\n",
      "100%|██████████| 112/112 [00:01<00:00, 56.98it/s]"
     ]
    },
    {
     "name": "stdout",
     "output_type": "stream",
     "text": [
      "File cnos_foundpose_analysis/output_npz/000001_000033_cnos_05.json does not exist.\n",
      "File cnos_foundpose_analysis/output_npz/000001_000033_cnos_05.npz does not exist.\n"
     ]
    },
    {
     "name": "stderr",
     "output_type": "stream",
     "text": [
      "\n",
      "[2024-09-01 19:49:51,830] [INFO] root: Loading detections...\n",
      "100%|██████████| 14/14 [00:03<00:00,  4.52it/s]"
     ]
    },
    {
     "name": "stdout",
     "output_type": "stream",
     "text": [
      "File cnos_foundpose_analysis/output_npz/000001_000033_cnos_04.json does not exist.\n",
      "File cnos_foundpose_analysis/output_npz/000001_000033_cnos_04.npz does not exist.\n"
     ]
    },
    {
     "name": "stderr",
     "output_type": "stream",
     "text": [
      "\n",
      "[2024-09-01 19:49:56,632] [INFO] root: Loading detections...\n",
      "100%|██████████| 27/27 [00:10<00:00,  2.68it/s]"
     ]
    },
    {
     "name": "stdout",
     "output_type": "stream",
     "text": [
      "File cnos_foundpose_analysis/output_npz/000001_000033_cnos_03.json does not exist.\n",
      "File cnos_foundpose_analysis/output_npz/000001_000033_cnos_03.npz does not exist.\n"
     ]
    },
    {
     "name": "stderr",
     "output_type": "stream",
     "text": [
      "\n",
      "[2024-09-01 19:50:10,632] [INFO] root: Loading detections...\n",
      "100%|██████████| 69/69 [00:58<00:00,  1.18it/s]\n"
     ]
    },
    {
     "name": "stdout",
     "output_type": "stream",
     "text": [
      "File cnos_foundpose_analysis/output_npz/000001_000033_cnos_02.json does not exist.\n",
      "File cnos_foundpose_analysis/output_npz/000001_000033_cnos_02.npz does not exist.\n"
     ]
    },
    {
     "name": "stderr",
     "output_type": "stream",
     "text": [
      "[2024-09-01 19:51:16,674] [INFO] root: Loading detections...\n",
      "100%|██████████| 109/109 [02:22<00:00,  1.31s/it]\n",
      " 15%|█▌        | 4/26 [17:03<1:35:03, 259.27s/it][2024-09-01 19:53:39,821] [INFO] root: Loading SAM model from datasets/bop23_challenge/pretrained/segment-anything\n",
      "[2024-09-01 19:53:42,553] [INFO] root: Init CustomSamAutomaticMaskGenerator done!\n",
      "Using cache found in /home/cuong.van-dam/.cache/torch/hub/facebookresearch_dinov2_main\n",
      "[2024-09-01 19:53:45,255] [INFO] dinov2: using MLP layer as FFN\n",
      "100%|██████████| 106/106 [00:01<00:00, 56.38it/s]"
     ]
    },
    {
     "name": "stdout",
     "output_type": "stream",
     "text": [
      "File cnos_foundpose_analysis/output_npz/000001_000034_cnos_05.json does not exist.\n",
      "File cnos_foundpose_analysis/output_npz/000001_000034_cnos_05.npz does not exist.\n"
     ]
    },
    {
     "name": "stderr",
     "output_type": "stream",
     "text": [
      "\n",
      "[2024-09-01 19:53:52,674] [INFO] root: Loading detections...\n",
      "100%|██████████| 12/12 [00:02<00:00,  5.08it/s]\n"
     ]
    },
    {
     "name": "stdout",
     "output_type": "stream",
     "text": [
      "File cnos_foundpose_analysis/output_npz/000001_000034_cnos_04.json does not exist.\n",
      "File cnos_foundpose_analysis/output_npz/000001_000034_cnos_04.npz does not exist.\n"
     ]
    },
    {
     "name": "stderr",
     "output_type": "stream",
     "text": [
      "[2024-09-01 19:53:56,661] [INFO] root: Loading detections...\n",
      "100%|██████████| 24/24 [00:08<00:00,  2.98it/s]"
     ]
    },
    {
     "name": "stdout",
     "output_type": "stream",
     "text": [
      "File cnos_foundpose_analysis/output_npz/000001_000034_cnos_03.json does not exist.\n",
      "File cnos_foundpose_analysis/output_npz/000001_000034_cnos_03.npz does not exist.\n"
     ]
    },
    {
     "name": "stderr",
     "output_type": "stream",
     "text": [
      "\n",
      "[2024-09-01 19:54:07,969] [INFO] root: Loading detections...\n",
      "100%|██████████| 59/59 [00:43<00:00,  1.36it/s]\n"
     ]
    },
    {
     "name": "stdout",
     "output_type": "stream",
     "text": [
      "File cnos_foundpose_analysis/output_npz/000001_000034_cnos_02.json does not exist.\n",
      "File cnos_foundpose_analysis/output_npz/000001_000034_cnos_02.npz does not exist.\n"
     ]
    },
    {
     "name": "stderr",
     "output_type": "stream",
     "text": [
      "[2024-09-01 19:54:57,723] [INFO] root: Loading detections...\n",
      "100%|██████████| 98/98 [01:54<00:00,  1.17s/it]\n",
      " 19%|█▉        | 5/26 [20:16<1:22:20, 235.27s/it][2024-09-01 19:56:52,533] [INFO] root: Loading SAM model from datasets/bop23_challenge/pretrained/segment-anything\n",
      "[2024-09-01 19:56:55,414] [INFO] root: Init CustomSamAutomaticMaskGenerator done!\n",
      "Using cache found in /home/cuong.van-dam/.cache/torch/hub/facebookresearch_dinov2_main\n",
      "[2024-09-01 19:56:57,966] [INFO] dinov2: using MLP layer as FFN\n",
      "100%|██████████| 113/113 [00:01<00:00, 56.76it/s]\n"
     ]
    },
    {
     "name": "stdout",
     "output_type": "stream",
     "text": [
      "File cnos_foundpose_analysis/output_npz/000001_000035_cnos_05.json does not exist.\n",
      "File cnos_foundpose_analysis/output_npz/000001_000035_cnos_05.npz does not exist.\n"
     ]
    },
    {
     "name": "stderr",
     "output_type": "stream",
     "text": [
      "[2024-09-01 19:57:05,566] [INFO] root: Loading detections...\n",
      "100%|██████████| 17/17 [00:04<00:00,  3.93it/s]"
     ]
    },
    {
     "name": "stdout",
     "output_type": "stream",
     "text": [
      "File cnos_foundpose_analysis/output_npz/000001_000035_cnos_04.json does not exist.\n",
      "File cnos_foundpose_analysis/output_npz/000001_000035_cnos_04.npz does not exist.\n"
     ]
    },
    {
     "name": "stderr",
     "output_type": "stream",
     "text": [
      "\n",
      "[2024-09-01 19:57:11,756] [INFO] root: Loading detections...\n",
      "100%|██████████| 32/32 [00:13<00:00,  2.38it/s]"
     ]
    },
    {
     "name": "stdout",
     "output_type": "stream",
     "text": [
      "File cnos_foundpose_analysis/output_npz/000001_000035_cnos_03.json does not exist.\n",
      "File cnos_foundpose_analysis/output_npz/000001_000035_cnos_03.npz does not exist.\n"
     ]
    },
    {
     "name": "stderr",
     "output_type": "stream",
     "text": [
      "\n",
      "[2024-09-01 19:57:29,975] [INFO] root: Loading detections...\n",
      "100%|██████████| 79/79 [01:15<00:00,  1.04it/s]\n"
     ]
    },
    {
     "name": "stdout",
     "output_type": "stream",
     "text": [
      "File cnos_foundpose_analysis/output_npz/000001_000035_cnos_02.json does not exist.\n",
      "File cnos_foundpose_analysis/output_npz/000001_000035_cnos_02.npz does not exist.\n"
     ]
    },
    {
     "name": "stderr",
     "output_type": "stream",
     "text": [
      "[2024-09-01 19:58:53,587] [INFO] root: Loading detections...\n",
      "100%|██████████| 112/112 [02:29<00:00,  1.34s/it]\n",
      " 23%|██▎       | 6/26 [24:47<1:22:27, 247.39s/it][2024-09-01 20:01:23,442] [INFO] root: Loading SAM model from datasets/bop23_challenge/pretrained/segment-anything\n",
      "[2024-09-01 20:01:26,089] [INFO] root: Init CustomSamAutomaticMaskGenerator done!\n",
      "Using cache found in /home/cuong.van-dam/.cache/torch/hub/facebookresearch_dinov2_main\n",
      "[2024-09-01 20:01:28,297] [INFO] dinov2: using MLP layer as FFN\n",
      "100%|██████████| 104/104 [00:01<00:00, 56.55it/s]"
     ]
    },
    {
     "name": "stdout",
     "output_type": "stream",
     "text": [
      "File cnos_foundpose_analysis/output_npz/000001_000036_cnos_05.json does not exist.\n",
      "File cnos_foundpose_analysis/output_npz/000001_000036_cnos_05.npz does not exist.\n"
     ]
    },
    {
     "name": "stderr",
     "output_type": "stream",
     "text": [
      "\n",
      "[2024-09-01 20:01:35,596] [INFO] root: Loading detections...\n",
      "100%|██████████| 20/20 [00:05<00:00,  3.42it/s]"
     ]
    },
    {
     "name": "stdout",
     "output_type": "stream",
     "text": [
      "File cnos_foundpose_analysis/output_npz/000001_000036_cnos_04.json does not exist.\n",
      "File cnos_foundpose_analysis/output_npz/000001_000036_cnos_04.npz does not exist.\n"
     ]
    },
    {
     "name": "stderr",
     "output_type": "stream",
     "text": [
      "\n",
      "[2024-09-01 20:01:43,366] [INFO] root: Loading detections...\n",
      "100%|██████████| 34/34 [00:15<00:00,  2.22it/s]\n"
     ]
    },
    {
     "name": "stdout",
     "output_type": "stream",
     "text": [
      "File cnos_foundpose_analysis/output_npz/000001_000036_cnos_03.json does not exist.\n",
      "File cnos_foundpose_analysis/output_npz/000001_000036_cnos_03.npz does not exist.\n"
     ]
    },
    {
     "name": "stderr",
     "output_type": "stream",
     "text": [
      "[2024-09-01 20:02:02,683] [INFO] root: Loading detections...\n",
      "100%|██████████| 70/70 [01:00<00:00,  1.16it/s]\n"
     ]
    },
    {
     "name": "stdout",
     "output_type": "stream",
     "text": [
      "File cnos_foundpose_analysis/output_npz/000001_000036_cnos_02.json does not exist.\n",
      "File cnos_foundpose_analysis/output_npz/000001_000036_cnos_02.npz does not exist.\n"
     ]
    },
    {
     "name": "stderr",
     "output_type": "stream",
     "text": [
      "[2024-09-01 20:03:09,737] [INFO] root: Loading detections...\n",
      "100%|██████████| 103/103 [02:07<00:00,  1.24s/it]\n",
      " 27%|██▋       | 7/26 [28:41<1:16:56, 242.98s/it][2024-09-01 20:05:17,354] [INFO] root: Loading SAM model from datasets/bop23_challenge/pretrained/segment-anything\n",
      "[2024-09-01 20:05:20,026] [INFO] root: Init CustomSamAutomaticMaskGenerator done!\n",
      "Using cache found in /home/cuong.van-dam/.cache/torch/hub/facebookresearch_dinov2_main\n",
      "[2024-09-01 20:05:22,407] [INFO] dinov2: using MLP layer as FFN\n",
      "100%|██████████| 117/117 [00:02<00:00, 56.61it/s]"
     ]
    },
    {
     "name": "stdout",
     "output_type": "stream",
     "text": [
      "File cnos_foundpose_analysis/output_npz/000001_000037_cnos_05.json does not exist.\n",
      "File cnos_foundpose_analysis/output_npz/000001_000037_cnos_05.npz does not exist.\n"
     ]
    },
    {
     "name": "stderr",
     "output_type": "stream",
     "text": [
      "\n",
      "[2024-09-01 20:05:30,003] [INFO] root: Loading detections...\n",
      "100%|██████████| 22/22 [00:06<00:00,  3.20it/s]"
     ]
    },
    {
     "name": "stdout",
     "output_type": "stream",
     "text": [
      "File cnos_foundpose_analysis/output_npz/000001_000037_cnos_04.json does not exist.\n",
      "File cnos_foundpose_analysis/output_npz/000001_000037_cnos_04.npz does not exist.\n"
     ]
    },
    {
     "name": "stderr",
     "output_type": "stream",
     "text": [
      "\n",
      "[2024-09-01 20:05:38,985] [INFO] root: Loading detections...\n",
      "100%|██████████| 38/38 [00:18<00:00,  2.03it/s]\n"
     ]
    },
    {
     "name": "stdout",
     "output_type": "stream",
     "text": [
      "File cnos_foundpose_analysis/output_npz/000001_000037_cnos_03.json does not exist.\n",
      "File cnos_foundpose_analysis/output_npz/000001_000037_cnos_03.npz does not exist.\n"
     ]
    },
    {
     "name": "stderr",
     "output_type": "stream",
     "text": [
      "[2024-09-01 20:06:02,725] [INFO] root: Loading detections...\n",
      "100%|██████████| 82/82 [01:21<00:00,  1.01it/s]\n"
     ]
    },
    {
     "name": "stdout",
     "output_type": "stream",
     "text": [
      "File cnos_foundpose_analysis/output_npz/000001_000037_cnos_02.json does not exist.\n",
      "File cnos_foundpose_analysis/output_npz/000001_000037_cnos_02.npz does not exist.\n"
     ]
    },
    {
     "name": "stderr",
     "output_type": "stream",
     "text": [
      "[2024-09-01 20:07:31,765] [INFO] root: Loading detections...\n",
      "100%|██████████| 113/113 [02:32<00:00,  1.35s/it]\n",
      " 31%|███       | 8/26 [33:28<1:17:06, 257.03s/it][2024-09-01 20:10:04,452] [INFO] root: Loading SAM model from datasets/bop23_challenge/pretrained/segment-anything\n",
      "[2024-09-01 20:10:07,117] [INFO] root: Init CustomSamAutomaticMaskGenerator done!\n",
      "Using cache found in /home/cuong.van-dam/.cache/torch/hub/facebookresearch_dinov2_main\n",
      "[2024-09-01 20:10:09,838] [INFO] dinov2: using MLP layer as FFN\n",
      "100%|██████████| 103/103 [00:01<00:00, 56.82it/s]"
     ]
    },
    {
     "name": "stdout",
     "output_type": "stream",
     "text": [
      "File cnos_foundpose_analysis/output_npz/000001_000038_cnos_05.json does not exist.\n",
      "File cnos_foundpose_analysis/output_npz/000001_000038_cnos_05.npz does not exist.\n"
     ]
    },
    {
     "name": "stderr",
     "output_type": "stream",
     "text": [
      "\n",
      "[2024-09-01 20:10:16,979] [INFO] root: Loading detections...\n",
      "100%|██████████| 15/15 [00:03<00:00,  4.28it/s]"
     ]
    },
    {
     "name": "stdout",
     "output_type": "stream",
     "text": [
      "File cnos_foundpose_analysis/output_npz/000001_000038_cnos_04.json does not exist.\n",
      "File cnos_foundpose_analysis/output_npz/000001_000038_cnos_04.npz does not exist.\n"
     ]
    },
    {
     "name": "stderr",
     "output_type": "stream",
     "text": [
      "\n",
      "[2024-09-01 20:10:22,100] [INFO] root: Loading detections...\n",
      "100%|██████████| 24/24 [00:07<00:00,  3.01it/s]"
     ]
    },
    {
     "name": "stdout",
     "output_type": "stream",
     "text": [
      "File cnos_foundpose_analysis/output_npz/000001_000038_cnos_03.json does not exist.\n",
      "File cnos_foundpose_analysis/output_npz/000001_000038_cnos_03.npz does not exist.\n"
     ]
    },
    {
     "name": "stderr",
     "output_type": "stream",
     "text": [
      "\n",
      "[2024-09-01 20:10:33,786] [INFO] root: Loading detections...\n",
      "100%|██████████| 66/66 [00:53<00:00,  1.23it/s]\n"
     ]
    },
    {
     "name": "stdout",
     "output_type": "stream",
     "text": [
      "File cnos_foundpose_analysis/output_npz/000001_000038_cnos_02.json does not exist.\n",
      "File cnos_foundpose_analysis/output_npz/000001_000038_cnos_02.npz does not exist.\n"
     ]
    },
    {
     "name": "stderr",
     "output_type": "stream",
     "text": [
      "[2024-09-01 20:11:33,964] [INFO] root: Loading detections...\n",
      "100%|██████████| 101/101 [02:03<00:00,  1.22s/it]\n",
      " 35%|███▍      | 9/26 [37:00<1:08:54, 243.18s/it][2024-09-01 20:13:37,187] [INFO] root: Loading SAM model from datasets/bop23_challenge/pretrained/segment-anything\n",
      "[2024-09-01 20:13:39,822] [INFO] root: Init CustomSamAutomaticMaskGenerator done!\n",
      "Using cache found in /home/cuong.van-dam/.cache/torch/hub/facebookresearch_dinov2_main\n",
      "[2024-09-01 20:13:42,357] [INFO] dinov2: using MLP layer as FFN\n",
      "100%|██████████| 110/110 [00:01<00:00, 56.95it/s]"
     ]
    },
    {
     "name": "stdout",
     "output_type": "stream",
     "text": [
      "File cnos_foundpose_analysis/output_npz/000001_000039_cnos_05.json does not exist.\n",
      "File cnos_foundpose_analysis/output_npz/000001_000039_cnos_05.npz does not exist.\n"
     ]
    },
    {
     "name": "stderr",
     "output_type": "stream",
     "text": [
      "\n",
      "[2024-09-01 20:13:49,532] [INFO] root: Loading detections...\n",
      "100%|██████████| 13/13 [00:02<00:00,  4.72it/s]"
     ]
    },
    {
     "name": "stdout",
     "output_type": "stream",
     "text": [
      "File cnos_foundpose_analysis/output_npz/000001_000039_cnos_04.json does not exist.\n",
      "File cnos_foundpose_analysis/output_npz/000001_000039_cnos_04.npz does not exist.\n"
     ]
    },
    {
     "name": "stderr",
     "output_type": "stream",
     "text": [
      "\n",
      "[2024-09-01 20:13:53,969] [INFO] root: Loading detections...\n",
      "100%|██████████| 28/28 [00:10<00:00,  2.63it/s]"
     ]
    },
    {
     "name": "stdout",
     "output_type": "stream",
     "text": [
      "File cnos_foundpose_analysis/output_npz/000001_000039_cnos_03.json does not exist.\n",
      "File cnos_foundpose_analysis/output_npz/000001_000039_cnos_03.npz does not exist.\n"
     ]
    },
    {
     "name": "stderr",
     "output_type": "stream",
     "text": [
      "\n",
      "[2024-09-01 20:14:08,801] [INFO] root: Loading detections...\n",
      "100%|██████████| 72/72 [01:03<00:00,  1.13it/s]\n"
     ]
    },
    {
     "name": "stdout",
     "output_type": "stream",
     "text": [
      "File cnos_foundpose_analysis/output_npz/000001_000039_cnos_02.json does not exist.\n",
      "File cnos_foundpose_analysis/output_npz/000001_000039_cnos_02.npz does not exist.\n"
     ]
    },
    {
     "name": "stderr",
     "output_type": "stream",
     "text": [
      "[2024-09-01 20:15:19,400] [INFO] root: Loading detections...\n",
      "100%|██████████| 104/104 [02:10<00:00,  1.25s/it]\n",
      " 38%|███▊      | 10/26 [40:53<1:04:00, 240.00s/it][2024-09-01 20:17:30,067] [INFO] root: Loading SAM model from datasets/bop23_challenge/pretrained/segment-anything\n",
      "[2024-09-01 20:17:32,796] [INFO] root: Init CustomSamAutomaticMaskGenerator done!\n",
      "Using cache found in /home/cuong.van-dam/.cache/torch/hub/facebookresearch_dinov2_main\n",
      "[2024-09-01 20:17:35,307] [INFO] dinov2: using MLP layer as FFN\n",
      "100%|██████████| 117/117 [00:02<00:00, 56.89it/s]"
     ]
    },
    {
     "name": "stdout",
     "output_type": "stream",
     "text": [
      "File cnos_foundpose_analysis/output_npz/000001_000040_cnos_05.json does not exist.\n",
      "File cnos_foundpose_analysis/output_npz/000001_000040_cnos_05.npz does not exist.\n"
     ]
    },
    {
     "name": "stderr",
     "output_type": "stream",
     "text": [
      "\n",
      "[2024-09-01 20:17:42,758] [INFO] root: Loading detections...\n",
      "100%|██████████| 13/13 [00:02<00:00,  4.68it/s]"
     ]
    },
    {
     "name": "stdout",
     "output_type": "stream",
     "text": [
      "File cnos_foundpose_analysis/output_npz/000001_000040_cnos_04.json does not exist.\n",
      "File cnos_foundpose_analysis/output_npz/000001_000040_cnos_04.npz does not exist.\n"
     ]
    },
    {
     "name": "stderr",
     "output_type": "stream",
     "text": [
      "\n",
      "[2024-09-01 20:17:47,288] [INFO] root: Loading detections...\n",
      "100%|██████████| 29/29 [00:11<00:00,  2.50it/s]\n"
     ]
    },
    {
     "name": "stdout",
     "output_type": "stream",
     "text": [
      "File cnos_foundpose_analysis/output_npz/000001_000040_cnos_03.json does not exist.\n",
      "File cnos_foundpose_analysis/output_npz/000001_000040_cnos_03.npz does not exist.\n"
     ]
    },
    {
     "name": "stderr",
     "output_type": "stream",
     "text": [
      "[2024-09-01 20:18:03,832] [INFO] root: Loading detections...\n",
      "100%|██████████| 81/81 [01:20<00:00,  1.01it/s]\n"
     ]
    },
    {
     "name": "stdout",
     "output_type": "stream",
     "text": [
      "File cnos_foundpose_analysis/output_npz/000001_000040_cnos_02.json does not exist.\n",
      "File cnos_foundpose_analysis/output_npz/000001_000040_cnos_02.npz does not exist.\n"
     ]
    },
    {
     "name": "stderr",
     "output_type": "stream",
     "text": [
      "[2024-09-01 20:19:31,577] [INFO] root: Loading detections...\n",
      "100%|██████████| 112/112 [02:29<00:00,  1.34s/it]\n",
      " 42%|████▏     | 11/26 [45:25<1:02:25, 249.68s/it][2024-09-01 20:22:01,692] [INFO] root: Loading SAM model from datasets/bop23_challenge/pretrained/segment-anything\n",
      "[2024-09-01 20:22:04,340] [INFO] root: Init CustomSamAutomaticMaskGenerator done!\n",
      "Using cache found in /home/cuong.van-dam/.cache/torch/hub/facebookresearch_dinov2_main\n",
      "[2024-09-01 20:22:06,643] [INFO] dinov2: using MLP layer as FFN\n",
      "100%|██████████| 109/109 [00:01<00:00, 55.27it/s]"
     ]
    },
    {
     "name": "stdout",
     "output_type": "stream",
     "text": [
      "File cnos_foundpose_analysis/output_npz/000001_000041_cnos_05.json does not exist.\n",
      "File cnos_foundpose_analysis/output_npz/000001_000041_cnos_05.npz does not exist.\n"
     ]
    },
    {
     "name": "stderr",
     "output_type": "stream",
     "text": [
      "\n",
      "[2024-09-01 20:22:14,049] [INFO] root: Loading detections...\n",
      "100%|██████████| 16/16 [00:03<00:00,  4.08it/s]"
     ]
    },
    {
     "name": "stdout",
     "output_type": "stream",
     "text": [
      "File cnos_foundpose_analysis/output_npz/000001_000041_cnos_04.json does not exist.\n",
      "File cnos_foundpose_analysis/output_npz/000001_000041_cnos_04.npz does not exist.\n"
     ]
    },
    {
     "name": "stderr",
     "output_type": "stream",
     "text": [
      "\n",
      "[2024-09-01 20:22:19,674] [INFO] root: Loading detections...\n",
      "100%|██████████| 28/28 [00:10<00:00,  2.62it/s]"
     ]
    },
    {
     "name": "stdout",
     "output_type": "stream",
     "text": [
      "File cnos_foundpose_analysis/output_npz/000001_000041_cnos_03.json does not exist.\n",
      "File cnos_foundpose_analysis/output_npz/000001_000041_cnos_03.npz does not exist.\n"
     ]
    },
    {
     "name": "stderr",
     "output_type": "stream",
     "text": [
      "\n",
      "[2024-09-01 20:22:33,974] [INFO] root: Loading detections...\n",
      "100%|██████████| 65/65 [00:51<00:00,  1.26it/s]\n"
     ]
    },
    {
     "name": "stdout",
     "output_type": "stream",
     "text": [
      "File cnos_foundpose_analysis/output_npz/000001_000041_cnos_02.json does not exist.\n",
      "File cnos_foundpose_analysis/output_npz/000001_000041_cnos_02.npz does not exist.\n"
     ]
    },
    {
     "name": "stderr",
     "output_type": "stream",
     "text": [
      "[2024-09-01 20:23:32,992] [INFO] root: Loading detections...\n",
      "100%|██████████| 107/107 [02:17<00:00,  1.28s/it]\n",
      " 46%|████▌     | 12/26 [49:14<56:46, 243.29s/it]  [2024-09-01 20:25:50,380] [INFO] root: Loading SAM model from datasets/bop23_challenge/pretrained/segment-anything\n",
      "[2024-09-01 20:25:53,211] [INFO] root: Init CustomSamAutomaticMaskGenerator done!\n",
      "Using cache found in /home/cuong.van-dam/.cache/torch/hub/facebookresearch_dinov2_main\n",
      "[2024-09-01 20:25:55,873] [INFO] dinov2: using MLP layer as FFN\n",
      "100%|██████████| 106/106 [00:01<00:00, 56.67it/s]"
     ]
    },
    {
     "name": "stdout",
     "output_type": "stream",
     "text": [
      "File cnos_foundpose_analysis/output_npz/000001_000042_cnos_05.json does not exist.\n",
      "File cnos_foundpose_analysis/output_npz/000001_000042_cnos_05.npz does not exist.\n"
     ]
    },
    {
     "name": "stderr",
     "output_type": "stream",
     "text": [
      "\n",
      "[2024-09-01 20:26:03,129] [INFO] root: Loading detections...\n",
      "100%|██████████| 14/14 [00:03<00:00,  4.48it/s]"
     ]
    },
    {
     "name": "stdout",
     "output_type": "stream",
     "text": [
      "File cnos_foundpose_analysis/output_npz/000001_000042_cnos_04.json does not exist.\n",
      "File cnos_foundpose_analysis/output_npz/000001_000042_cnos_04.npz does not exist.\n"
     ]
    },
    {
     "name": "stderr",
     "output_type": "stream",
     "text": [
      "\n",
      "[2024-09-01 20:26:07,914] [INFO] root: Loading detections...\n",
      "100%|██████████| 27/27 [00:10<00:00,  2.64it/s]"
     ]
    },
    {
     "name": "stdout",
     "output_type": "stream",
     "text": [
      "File cnos_foundpose_analysis/output_npz/000001_000042_cnos_03.json does not exist.\n",
      "File cnos_foundpose_analysis/output_npz/000001_000042_cnos_03.npz does not exist.\n"
     ]
    },
    {
     "name": "stderr",
     "output_type": "stream",
     "text": [
      "\n",
      "[2024-09-01 20:26:21,836] [INFO] root: Loading detections...\n",
      "100%|██████████| 66/66 [00:53<00:00,  1.23it/s]\n"
     ]
    },
    {
     "name": "stdout",
     "output_type": "stream",
     "text": [
      "File cnos_foundpose_analysis/output_npz/000001_000042_cnos_02.json does not exist.\n",
      "File cnos_foundpose_analysis/output_npz/000001_000042_cnos_02.npz does not exist.\n"
     ]
    },
    {
     "name": "stderr",
     "output_type": "stream",
     "text": [
      "[2024-09-01 20:27:22,878] [INFO] root: Loading detections...\n",
      "100%|██████████| 105/105 [02:12<00:00,  1.27s/it]\n",
      " 50%|█████     | 13/26 [52:59<51:32, 237.91s/it][2024-09-01 20:29:35,903] [INFO] root: Loading SAM model from datasets/bop23_challenge/pretrained/segment-anything\n",
      "[2024-09-01 20:29:38,523] [INFO] root: Init CustomSamAutomaticMaskGenerator done!\n",
      "Using cache found in /home/cuong.van-dam/.cache/torch/hub/facebookresearch_dinov2_main\n",
      "[2024-09-01 20:29:41,296] [INFO] dinov2: using MLP layer as FFN\n",
      "100%|██████████| 120/120 [00:02<00:00, 56.86it/s]"
     ]
    },
    {
     "name": "stdout",
     "output_type": "stream",
     "text": [
      "File cnos_foundpose_analysis/output_npz/000001_000043_cnos_05.json does not exist.\n",
      "File cnos_foundpose_analysis/output_npz/000001_000043_cnos_05.npz does not exist.\n"
     ]
    },
    {
     "name": "stderr",
     "output_type": "stream",
     "text": [
      "\n",
      "[2024-09-01 20:29:48,886] [INFO] root: Loading detections...\n",
      "100%|██████████| 21/21 [00:06<00:00,  3.30it/s]"
     ]
    },
    {
     "name": "stdout",
     "output_type": "stream",
     "text": [
      "File cnos_foundpose_analysis/output_npz/000001_000043_cnos_04.json does not exist.\n",
      "File cnos_foundpose_analysis/output_npz/000001_000043_cnos_04.npz does not exist.\n"
     ]
    },
    {
     "name": "stderr",
     "output_type": "stream",
     "text": [
      "\n",
      "[2024-09-01 20:29:57,157] [INFO] root: Loading detections...\n",
      "100%|██████████| 35/35 [00:15<00:00,  2.28it/s]\n"
     ]
    },
    {
     "name": "stdout",
     "output_type": "stream",
     "text": [
      "File cnos_foundpose_analysis/output_npz/000001_000043_cnos_03.json does not exist.\n",
      "File cnos_foundpose_analysis/output_npz/000001_000043_cnos_03.npz does not exist.\n"
     ]
    },
    {
     "name": "stderr",
     "output_type": "stream",
     "text": [
      "[2024-09-01 20:30:17,096] [INFO] root: Loading detections...\n",
      "100%|██████████| 77/77 [01:12<00:00,  1.06it/s]\n"
     ]
    },
    {
     "name": "stdout",
     "output_type": "stream",
     "text": [
      "File cnos_foundpose_analysis/output_npz/000001_000043_cnos_02.json does not exist.\n",
      "File cnos_foundpose_analysis/output_npz/000001_000043_cnos_02.npz does not exist.\n"
     ]
    },
    {
     "name": "stderr",
     "output_type": "stream",
     "text": [
      "[2024-09-01 20:31:38,327] [INFO] root: Loading detections...\n",
      "100%|██████████| 118/118 [02:43<00:00,  1.39s/it]\n",
      " 54%|█████▍    | 14/26 [57:45<50:29, 252.46s/it][2024-09-01 20:34:21,999] [INFO] root: Loading SAM model from datasets/bop23_challenge/pretrained/segment-anything\n",
      "[2024-09-01 20:34:24,659] [INFO] root: Init CustomSamAutomaticMaskGenerator done!\n",
      "Using cache found in /home/cuong.van-dam/.cache/torch/hub/facebookresearch_dinov2_main\n",
      "[2024-09-01 20:34:27,621] [INFO] dinov2: using MLP layer as FFN\n",
      "100%|██████████| 131/131 [00:02<00:00, 57.36it/s]\n"
     ]
    },
    {
     "name": "stdout",
     "output_type": "stream",
     "text": [
      "File cnos_foundpose_analysis/output_npz/000001_000044_cnos_05.json does not exist.\n",
      "File cnos_foundpose_analysis/output_npz/000001_000044_cnos_05.npz does not exist.\n"
     ]
    },
    {
     "name": "stderr",
     "output_type": "stream",
     "text": [
      "[2024-09-01 20:34:35,475] [INFO] root: Loading detections...\n",
      "100%|██████████| 19/19 [00:05<00:00,  3.59it/s]"
     ]
    },
    {
     "name": "stdout",
     "output_type": "stream",
     "text": [
      "File cnos_foundpose_analysis/output_npz/000001_000044_cnos_04.json does not exist.\n",
      "File cnos_foundpose_analysis/output_npz/000001_000044_cnos_04.npz does not exist.\n"
     ]
    },
    {
     "name": "stderr",
     "output_type": "stream",
     "text": [
      "\n",
      "[2024-09-01 20:34:42,825] [INFO] root: Loading detections...\n",
      "100%|██████████| 38/38 [00:18<00:00,  2.02it/s]\n"
     ]
    },
    {
     "name": "stdout",
     "output_type": "stream",
     "text": [
      "File cnos_foundpose_analysis/output_npz/000001_000044_cnos_03.json does not exist.\n",
      "File cnos_foundpose_analysis/output_npz/000001_000044_cnos_03.npz does not exist.\n"
     ]
    },
    {
     "name": "stderr",
     "output_type": "stream",
     "text": [
      "[2024-09-01 20:35:06,852] [INFO] root: Loading detections...\n",
      "100%|██████████| 87/87 [01:30<00:00,  1.04s/it]\n"
     ]
    },
    {
     "name": "stdout",
     "output_type": "stream",
     "text": [
      "File cnos_foundpose_analysis/output_npz/000001_000044_cnos_02.json does not exist.\n",
      "File cnos_foundpose_analysis/output_npz/000001_000044_cnos_02.npz does not exist.\n"
     ]
    },
    {
     "name": "stderr",
     "output_type": "stream",
     "text": [
      "[2024-09-01 20:36:47,348] [INFO] root: Loading detections...\n",
      "100%|██████████| 128/128 [03:14<00:00,  1.52s/it]\n",
      " 58%|█████▊    | 15/26 [1:03:26<51:08, 279.00s/it][2024-09-01 20:40:02,494] [INFO] root: Loading SAM model from datasets/bop23_challenge/pretrained/segment-anything\n",
      "[2024-09-01 20:40:05,143] [INFO] root: Init CustomSamAutomaticMaskGenerator done!\n",
      "Using cache found in /home/cuong.van-dam/.cache/torch/hub/facebookresearch_dinov2_main\n",
      "[2024-09-01 20:40:08,155] [INFO] dinov2: using MLP layer as FFN\n",
      "100%|██████████| 117/117 [00:02<00:00, 57.09it/s]"
     ]
    },
    {
     "name": "stdout",
     "output_type": "stream",
     "text": [
      "File cnos_foundpose_analysis/output_npz/000001_000045_cnos_05.json does not exist.\n",
      "File cnos_foundpose_analysis/output_npz/000001_000045_cnos_05.npz does not exist.\n"
     ]
    },
    {
     "name": "stderr",
     "output_type": "stream",
     "text": [
      "\n",
      "[2024-09-01 20:40:15,995] [INFO] root: Loading detections...\n",
      "100%|██████████| 20/20 [00:05<00:00,  3.47it/s]"
     ]
    },
    {
     "name": "stdout",
     "output_type": "stream",
     "text": [
      "File cnos_foundpose_analysis/output_npz/000001_000045_cnos_04.json does not exist.\n",
      "File cnos_foundpose_analysis/output_npz/000001_000045_cnos_04.npz does not exist.\n"
     ]
    },
    {
     "name": "stderr",
     "output_type": "stream",
     "text": [
      "\n",
      "[2024-09-01 20:40:24,098] [INFO] root: Loading detections...\n",
      "100%|██████████| 39/39 [00:19<00:00,  1.99it/s]\n"
     ]
    },
    {
     "name": "stdout",
     "output_type": "stream",
     "text": [
      "File cnos_foundpose_analysis/output_npz/000001_000045_cnos_03.json does not exist.\n",
      "File cnos_foundpose_analysis/output_npz/000001_000045_cnos_03.npz does not exist.\n"
     ]
    },
    {
     "name": "stderr",
     "output_type": "stream",
     "text": [
      "[2024-09-01 20:40:48,748] [INFO] root: Loading detections...\n",
      "100%|██████████| 81/81 [01:18<00:00,  1.03it/s]\n"
     ]
    },
    {
     "name": "stdout",
     "output_type": "stream",
     "text": [
      "File cnos_foundpose_analysis/output_npz/000001_000045_cnos_02.json does not exist.\n",
      "File cnos_foundpose_analysis/output_npz/000001_000045_cnos_02.npz does not exist.\n"
     ]
    },
    {
     "name": "stderr",
     "output_type": "stream",
     "text": [
      "[2024-09-01 20:42:15,907] [INFO] root: Loading detections...\n",
      "100%|██████████| 113/113 [02:30<00:00,  1.34s/it]\n",
      " 62%|██████▏   | 16/26 [1:08:10<46:46, 280.67s/it][2024-09-01 20:44:47,050] [INFO] root: Loading SAM model from datasets/bop23_challenge/pretrained/segment-anything\n",
      "[2024-09-01 20:44:49,769] [INFO] root: Init CustomSamAutomaticMaskGenerator done!\n",
      "Using cache found in /home/cuong.van-dam/.cache/torch/hub/facebookresearch_dinov2_main\n",
      "[2024-09-01 20:44:52,727] [INFO] dinov2: using MLP layer as FFN\n",
      "100%|██████████| 127/127 [00:02<00:00, 56.82it/s]"
     ]
    },
    {
     "name": "stdout",
     "output_type": "stream",
     "text": [
      "File cnos_foundpose_analysis/output_npz/000001_000046_cnos_05.json does not exist.\n",
      "File cnos_foundpose_analysis/output_npz/000001_000046_cnos_05.npz does not exist.\n"
     ]
    },
    {
     "name": "stderr",
     "output_type": "stream",
     "text": [
      "\n",
      "[2024-09-01 20:45:00,598] [INFO] root: Loading detections...\n",
      "100%|██████████| 23/23 [00:07<00:00,  3.02it/s]"
     ]
    },
    {
     "name": "stdout",
     "output_type": "stream",
     "text": [
      "File cnos_foundpose_analysis/output_npz/000001_000046_cnos_04.json does not exist.\n",
      "File cnos_foundpose_analysis/output_npz/000001_000046_cnos_04.npz does not exist.\n"
     ]
    },
    {
     "name": "stderr",
     "output_type": "stream",
     "text": [
      "\n",
      "[2024-09-01 20:45:10,567] [INFO] root: Loading detections...\n",
      "100%|██████████| 41/41 [00:21<00:00,  1.89it/s]\n"
     ]
    },
    {
     "name": "stdout",
     "output_type": "stream",
     "text": [
      "File cnos_foundpose_analysis/output_npz/000001_000046_cnos_03.json does not exist.\n",
      "File cnos_foundpose_analysis/output_npz/000001_000046_cnos_03.npz does not exist.\n"
     ]
    },
    {
     "name": "stderr",
     "output_type": "stream",
     "text": [
      "[2024-09-01 20:45:38,380] [INFO] root: Loading detections...\n",
      "100%|██████████| 96/96 [01:50<00:00,  1.15s/it]\n"
     ]
    },
    {
     "name": "stdout",
     "output_type": "stream",
     "text": [
      "File cnos_foundpose_analysis/output_npz/000001_000046_cnos_02.json does not exist.\n",
      "File cnos_foundpose_analysis/output_npz/000001_000046_cnos_02.npz does not exist.\n"
     ]
    },
    {
     "name": "stderr",
     "output_type": "stream",
     "text": [
      "[2024-09-01 20:47:37,915] [INFO] root: Loading detections...\n",
      "100%|██████████| 125/125 [03:05<00:00,  1.48s/it]\n",
      " 65%|██████▌   | 17/26 [1:14:07<45:31, 303.45s/it][2024-09-01 20:50:43,482] [INFO] root: Loading SAM model from datasets/bop23_challenge/pretrained/segment-anything\n",
      "[2024-09-01 20:50:46,116] [INFO] root: Init CustomSamAutomaticMaskGenerator done!\n",
      "Using cache found in /home/cuong.van-dam/.cache/torch/hub/facebookresearch_dinov2_main\n",
      "[2024-09-01 20:50:48,792] [INFO] dinov2: using MLP layer as FFN\n",
      "100%|██████████| 118/118 [00:02<00:00, 57.39it/s]"
     ]
    },
    {
     "name": "stdout",
     "output_type": "stream",
     "text": [
      "File cnos_foundpose_analysis/output_npz/000001_000047_cnos_05.json does not exist.\n",
      "File cnos_foundpose_analysis/output_npz/000001_000047_cnos_05.npz does not exist.\n"
     ]
    },
    {
     "name": "stderr",
     "output_type": "stream",
     "text": [
      "\n",
      "[2024-09-01 20:50:56,333] [INFO] root: Loading detections...\n",
      "100%|██████████| 18/18 [00:04<00:00,  3.80it/s]"
     ]
    },
    {
     "name": "stdout",
     "output_type": "stream",
     "text": [
      "File cnos_foundpose_analysis/output_npz/000001_000047_cnos_04.json does not exist.\n",
      "File cnos_foundpose_analysis/output_npz/000001_000047_cnos_04.npz does not exist.\n"
     ]
    },
    {
     "name": "stderr",
     "output_type": "stream",
     "text": [
      "\n",
      "[2024-09-01 20:51:02,947] [INFO] root: Loading detections...\n",
      "100%|██████████| 33/33 [00:14<00:00,  2.34it/s]"
     ]
    },
    {
     "name": "stdout",
     "output_type": "stream",
     "text": [
      "File cnos_foundpose_analysis/output_npz/000001_000047_cnos_03.json does not exist.\n",
      "File cnos_foundpose_analysis/output_npz/000001_000047_cnos_03.npz does not exist.\n"
     ]
    },
    {
     "name": "stderr",
     "output_type": "stream",
     "text": [
      "\n",
      "[2024-09-01 20:51:21,115] [INFO] root: Loading detections...\n",
      "100%|██████████| 73/73 [01:04<00:00,  1.13it/s]\n"
     ]
    },
    {
     "name": "stdout",
     "output_type": "stream",
     "text": [
      "File cnos_foundpose_analysis/output_npz/000001_000047_cnos_02.json does not exist.\n",
      "File cnos_foundpose_analysis/output_npz/000001_000047_cnos_02.npz does not exist.\n"
     ]
    },
    {
     "name": "stderr",
     "output_type": "stream",
     "text": [
      "[2024-09-01 20:52:33,567] [INFO] root: Loading detections...\n",
      "100%|██████████| 114/114 [02:36<00:00,  1.37s/it]\n",
      " 69%|██████▉   | 18/26 [1:18:34<38:59, 292.44s/it][2024-09-01 20:55:10,285] [INFO] root: Loading SAM model from datasets/bop23_challenge/pretrained/segment-anything\n",
      "[2024-09-01 20:55:12,985] [INFO] root: Init CustomSamAutomaticMaskGenerator done!\n",
      "Using cache found in /home/cuong.van-dam/.cache/torch/hub/facebookresearch_dinov2_main\n",
      "[2024-09-01 20:55:15,034] [INFO] dinov2: using MLP layer as FFN\n",
      "100%|██████████| 101/101 [00:01<00:00, 55.91it/s]\n"
     ]
    },
    {
     "name": "stdout",
     "output_type": "stream",
     "text": [
      "File cnos_foundpose_analysis/output_npz/000001_000048_cnos_05.json does not exist.\n",
      "File cnos_foundpose_analysis/output_npz/000001_000048_cnos_05.npz does not exist.\n"
     ]
    },
    {
     "name": "stderr",
     "output_type": "stream",
     "text": [
      "[2024-09-01 20:55:22,183] [INFO] root: Loading detections...\n",
      "100%|██████████| 15/15 [00:03<00:00,  4.26it/s]"
     ]
    },
    {
     "name": "stdout",
     "output_type": "stream",
     "text": [
      "File cnos_foundpose_analysis/output_npz/000001_000048_cnos_04.json does not exist.\n",
      "File cnos_foundpose_analysis/output_npz/000001_000048_cnos_04.npz does not exist.\n"
     ]
    },
    {
     "name": "stderr",
     "output_type": "stream",
     "text": [
      "\n",
      "[2024-09-01 20:55:27,408] [INFO] root: Loading detections...\n",
      "100%|██████████| 26/26 [00:09<00:00,  2.79it/s]"
     ]
    },
    {
     "name": "stdout",
     "output_type": "stream",
     "text": [
      "File cnos_foundpose_analysis/output_npz/000001_000048_cnos_03.json does not exist.\n",
      "File cnos_foundpose_analysis/output_npz/000001_000048_cnos_03.npz does not exist.\n"
     ]
    },
    {
     "name": "stderr",
     "output_type": "stream",
     "text": [
      "\n",
      "[2024-09-01 20:55:40,398] [INFO] root: Loading detections...\n",
      "100%|██████████| 66/66 [00:53<00:00,  1.22it/s]\n"
     ]
    },
    {
     "name": "stdout",
     "output_type": "stream",
     "text": [
      "File cnos_foundpose_analysis/output_npz/000001_000048_cnos_02.json does not exist.\n",
      "File cnos_foundpose_analysis/output_npz/000001_000048_cnos_02.npz does not exist.\n"
     ]
    },
    {
     "name": "stderr",
     "output_type": "stream",
     "text": [
      "[2024-09-01 20:56:40,473] [INFO] root: Loading detections...\n",
      "100%|██████████| 97/97 [01:54<00:00,  1.18s/it]\n",
      " 73%|███████▎  | 19/26 [1:21:58<31:02, 266.07s/it][2024-09-01 20:58:34,917] [INFO] root: Loading SAM model from datasets/bop23_challenge/pretrained/segment-anything\n",
      "[2024-09-01 20:58:37,555] [INFO] root: Init CustomSamAutomaticMaskGenerator done!\n",
      "Using cache found in /home/cuong.van-dam/.cache/torch/hub/facebookresearch_dinov2_main\n",
      "[2024-09-01 20:58:40,665] [INFO] dinov2: using MLP layer as FFN\n",
      "100%|██████████| 83/83 [00:01<00:00, 57.14it/s]\n"
     ]
    },
    {
     "name": "stdout",
     "output_type": "stream",
     "text": [
      "File cnos_foundpose_analysis/output_npz/000001_000049_cnos_05.json does not exist.\n",
      "File cnos_foundpose_analysis/output_npz/000001_000049_cnos_05.npz does not exist.\n"
     ]
    },
    {
     "name": "stderr",
     "output_type": "stream",
     "text": [
      "[2024-09-01 20:58:47,340] [INFO] root: Loading detections...\n",
      "100%|██████████| 16/16 [00:03<00:00,  4.09it/s]"
     ]
    },
    {
     "name": "stdout",
     "output_type": "stream",
     "text": [
      "File cnos_foundpose_analysis/output_npz/000001_000049_cnos_04.json does not exist.\n",
      "File cnos_foundpose_analysis/output_npz/000001_000049_cnos_04.npz does not exist.\n"
     ]
    },
    {
     "name": "stderr",
     "output_type": "stream",
     "text": [
      "\n",
      "[2024-09-01 20:58:53,078] [INFO] root: Loading detections...\n",
      "100%|██████████| 29/29 [00:11<00:00,  2.48it/s]"
     ]
    },
    {
     "name": "stdout",
     "output_type": "stream",
     "text": [
      "File cnos_foundpose_analysis/output_npz/000001_000049_cnos_03.json does not exist.\n",
      "File cnos_foundpose_analysis/output_npz/000001_000049_cnos_03.npz does not exist.\n"
     ]
    },
    {
     "name": "stderr",
     "output_type": "stream",
     "text": [
      "\n",
      "[2024-09-01 20:59:07,964] [INFO] root: Loading detections...\n",
      "100%|██████████| 59/59 [00:44<00:00,  1.33it/s]\n"
     ]
    },
    {
     "name": "stdout",
     "output_type": "stream",
     "text": [
      "File cnos_foundpose_analysis/output_npz/000001_000049_cnos_02.json does not exist.\n",
      "File cnos_foundpose_analysis/output_npz/000001_000049_cnos_02.npz does not exist.\n"
     ]
    },
    {
     "name": "stderr",
     "output_type": "stream",
     "text": [
      "[2024-09-01 20:59:56,576] [INFO] root: Loading detections...\n",
      "100%|██████████| 76/76 [01:11<00:00,  1.06it/s]\n",
      " 77%|███████▋  | 20/26 [1:24:31<23:13, 232.20s/it][2024-09-01 21:01:08,180] [INFO] root: Loading SAM model from datasets/bop23_challenge/pretrained/segment-anything\n",
      "[2024-09-01 21:01:10,907] [INFO] root: Init CustomSamAutomaticMaskGenerator done!\n",
      "Using cache found in /home/cuong.van-dam/.cache/torch/hub/facebookresearch_dinov2_main\n",
      "[2024-09-01 21:01:13,594] [INFO] dinov2: using MLP layer as FFN\n",
      "100%|██████████| 86/86 [00:01<00:00, 54.71it/s]"
     ]
    },
    {
     "name": "stdout",
     "output_type": "stream",
     "text": [
      "File cnos_foundpose_analysis/output_npz/000001_000050_cnos_05.json does not exist.\n",
      "File cnos_foundpose_analysis/output_npz/000001_000050_cnos_05.npz does not exist.\n"
     ]
    },
    {
     "name": "stderr",
     "output_type": "stream",
     "text": [
      "\n",
      "[2024-09-01 21:01:20,728] [INFO] root: Loading detections...\n",
      "100%|██████████| 16/16 [00:03<00:00,  4.03it/s]"
     ]
    },
    {
     "name": "stdout",
     "output_type": "stream",
     "text": [
      "File cnos_foundpose_analysis/output_npz/000001_000050_cnos_04.json does not exist.\n",
      "File cnos_foundpose_analysis/output_npz/000001_000050_cnos_04.npz does not exist.\n"
     ]
    },
    {
     "name": "stderr",
     "output_type": "stream",
     "text": [
      "\n",
      "[2024-09-01 21:01:26,461] [INFO] root: Loading detections...\n",
      "100%|██████████| 31/31 [00:12<00:00,  2.43it/s]"
     ]
    },
    {
     "name": "stdout",
     "output_type": "stream",
     "text": [
      "File cnos_foundpose_analysis/output_npz/000001_000050_cnos_03.json does not exist.\n",
      "File cnos_foundpose_analysis/output_npz/000001_000050_cnos_03.npz does not exist.\n"
     ]
    },
    {
     "name": "stderr",
     "output_type": "stream",
     "text": [
      "\n",
      "[2024-09-01 21:01:42,215] [INFO] root: Loading detections...\n",
      "100%|██████████| 55/55 [00:37<00:00,  1.45it/s]\n"
     ]
    },
    {
     "name": "stdout",
     "output_type": "stream",
     "text": [
      "File cnos_foundpose_analysis/output_npz/000001_000050_cnos_02.json does not exist.\n",
      "File cnos_foundpose_analysis/output_npz/000001_000050_cnos_02.npz does not exist.\n"
     ]
    },
    {
     "name": "stderr",
     "output_type": "stream",
     "text": [
      "[2024-09-01 21:02:24,951] [INFO] root: Loading detections...\n",
      "100%|██████████| 81/81 [01:20<00:00,  1.01it/s]\n",
      " 81%|████████  | 21/26 [1:27:08<17:28, 209.62s/it][2024-09-01 21:03:45,144] [INFO] root: Loading SAM model from datasets/bop23_challenge/pretrained/segment-anything\n",
      "[2024-09-01 21:03:47,789] [INFO] root: Init CustomSamAutomaticMaskGenerator done!\n",
      "Using cache found in /home/cuong.van-dam/.cache/torch/hub/facebookresearch_dinov2_main\n",
      "[2024-09-01 21:03:50,679] [INFO] dinov2: using MLP layer as FFN\n",
      "100%|██████████| 109/109 [00:01<00:00, 56.95it/s]"
     ]
    },
    {
     "name": "stdout",
     "output_type": "stream",
     "text": [
      "File cnos_foundpose_analysis/output_npz/000001_000051_cnos_05.json does not exist.\n",
      "File cnos_foundpose_analysis/output_npz/000001_000051_cnos_05.npz does not exist.\n"
     ]
    },
    {
     "name": "stderr",
     "output_type": "stream",
     "text": [
      "\n",
      "[2024-09-01 21:03:57,948] [INFO] root: Loading detections...\n",
      "100%|██████████| 19/19 [00:05<00:00,  3.63it/s]"
     ]
    },
    {
     "name": "stdout",
     "output_type": "stream",
     "text": [
      "File cnos_foundpose_analysis/output_npz/000001_000051_cnos_04.json does not exist.\n",
      "File cnos_foundpose_analysis/output_npz/000001_000051_cnos_04.npz does not exist.\n"
     ]
    },
    {
     "name": "stderr",
     "output_type": "stream",
     "text": [
      "\n",
      "[2024-09-01 21:04:05,158] [INFO] root: Loading detections...\n",
      "100%|██████████| 33/33 [00:14<00:00,  2.31it/s]"
     ]
    },
    {
     "name": "stdout",
     "output_type": "stream",
     "text": [
      "File cnos_foundpose_analysis/output_npz/000001_000051_cnos_03.json does not exist.\n",
      "File cnos_foundpose_analysis/output_npz/000001_000051_cnos_03.npz does not exist.\n"
     ]
    },
    {
     "name": "stderr",
     "output_type": "stream",
     "text": [
      "\n",
      "[2024-09-01 21:04:24,591] [INFO] root: Loading detections...\n",
      "100%|██████████| 84/84 [01:26<00:00,  1.03s/it]\n"
     ]
    },
    {
     "name": "stdout",
     "output_type": "stream",
     "text": [
      "File cnos_foundpose_analysis/output_npz/000001_000051_cnos_02.json does not exist.\n",
      "File cnos_foundpose_analysis/output_npz/000001_000051_cnos_02.npz does not exist.\n"
     ]
    },
    {
     "name": "stderr",
     "output_type": "stream",
     "text": [
      "[2024-09-01 21:05:58,528] [INFO] root: Loading detections...\n",
      "100%|██████████| 106/106 [02:15<00:00,  1.28s/it]\n",
      " 85%|████████▍ | 22/26 [1:31:37<15:09, 227.36s/it][2024-09-01 21:08:13,891] [INFO] root: Loading SAM model from datasets/bop23_challenge/pretrained/segment-anything\n",
      "[2024-09-01 21:08:16,567] [INFO] root: Init CustomSamAutomaticMaskGenerator done!\n",
      "Using cache found in /home/cuong.van-dam/.cache/torch/hub/facebookresearch_dinov2_main\n",
      "[2024-09-01 21:08:19,270] [INFO] dinov2: using MLP layer as FFN\n",
      "100%|██████████| 100/100 [00:01<00:00, 57.19it/s]"
     ]
    },
    {
     "name": "stdout",
     "output_type": "stream",
     "text": [
      "File cnos_foundpose_analysis/output_npz/000001_000052_cnos_05.json does not exist.\n",
      "File cnos_foundpose_analysis/output_npz/000001_000052_cnos_05.npz does not exist.\n"
     ]
    },
    {
     "name": "stderr",
     "output_type": "stream",
     "text": [
      "\n",
      "[2024-09-01 21:08:26,467] [INFO] root: Loading detections...\n",
      "100%|██████████| 17/17 [00:04<00:00,  3.97it/s]"
     ]
    },
    {
     "name": "stdout",
     "output_type": "stream",
     "text": [
      "File cnos_foundpose_analysis/output_npz/000001_000052_cnos_04.json does not exist.\n",
      "File cnos_foundpose_analysis/output_npz/000001_000052_cnos_04.npz does not exist.\n"
     ]
    },
    {
     "name": "stderr",
     "output_type": "stream",
     "text": [
      "\n",
      "[2024-09-01 21:08:32,533] [INFO] root: Loading detections...\n",
      "100%|██████████| 31/31 [00:12<00:00,  2.44it/s]"
     ]
    },
    {
     "name": "stdout",
     "output_type": "stream",
     "text": [
      "File cnos_foundpose_analysis/output_npz/000001_000052_cnos_03.json does not exist.\n",
      "File cnos_foundpose_analysis/output_npz/000001_000052_cnos_03.npz does not exist.\n"
     ]
    },
    {
     "name": "stderr",
     "output_type": "stream",
     "text": [
      "\n",
      "[2024-09-01 21:08:48,727] [INFO] root: Loading detections...\n",
      "100%|██████████| 63/63 [00:48<00:00,  1.30it/s]\n"
     ]
    },
    {
     "name": "stdout",
     "output_type": "stream",
     "text": [
      "File cnos_foundpose_analysis/output_npz/000001_000052_cnos_02.json does not exist.\n",
      "File cnos_foundpose_analysis/output_npz/000001_000052_cnos_02.npz does not exist.\n"
     ]
    },
    {
     "name": "stderr",
     "output_type": "stream",
     "text": [
      "[2024-09-01 21:09:43,291] [INFO] root: Loading detections...\n",
      "100%|██████████| 97/97 [01:52<00:00,  1.16s/it]\n",
      " 88%|████████▊ | 23/26 [1:34:59<10:59, 219.74s/it][2024-09-01 21:11:35,851] [INFO] root: Loading SAM model from datasets/bop23_challenge/pretrained/segment-anything\n",
      "[2024-09-01 21:11:38,434] [INFO] root: Init CustomSamAutomaticMaskGenerator done!\n",
      "Using cache found in /home/cuong.van-dam/.cache/torch/hub/facebookresearch_dinov2_main\n",
      "[2024-09-01 21:11:41,345] [INFO] dinov2: using MLP layer as FFN\n",
      "100%|██████████| 106/106 [00:01<00:00, 56.79it/s]"
     ]
    },
    {
     "name": "stdout",
     "output_type": "stream",
     "text": [
      "File cnos_foundpose_analysis/output_npz/000001_000053_cnos_05.json does not exist.\n",
      "File cnos_foundpose_analysis/output_npz/000001_000053_cnos_05.npz does not exist.\n"
     ]
    },
    {
     "name": "stderr",
     "output_type": "stream",
     "text": [
      "\n",
      "[2024-09-01 21:11:48,416] [INFO] root: Loading detections...\n",
      "100%|██████████| 13/13 [00:02<00:00,  4.72it/s]"
     ]
    },
    {
     "name": "stdout",
     "output_type": "stream",
     "text": [
      "File cnos_foundpose_analysis/output_npz/000001_000053_cnos_04.json does not exist.\n",
      "File cnos_foundpose_analysis/output_npz/000001_000053_cnos_04.npz does not exist.\n"
     ]
    },
    {
     "name": "stderr",
     "output_type": "stream",
     "text": [
      "\n",
      "[2024-09-01 21:11:53,000] [INFO] root: Loading detections...\n",
      "100%|██████████| 30/30 [00:12<00:00,  2.47it/s]"
     ]
    },
    {
     "name": "stdout",
     "output_type": "stream",
     "text": [
      "File cnos_foundpose_analysis/output_npz/000001_000053_cnos_03.json does not exist.\n",
      "File cnos_foundpose_analysis/output_npz/000001_000053_cnos_03.npz does not exist.\n"
     ]
    },
    {
     "name": "stderr",
     "output_type": "stream",
     "text": [
      "\n",
      "[2024-09-01 21:12:09,440] [INFO] root: Loading detections...\n",
      "100%|██████████| 74/74 [01:06<00:00,  1.11it/s]\n"
     ]
    },
    {
     "name": "stdout",
     "output_type": "stream",
     "text": [
      "File cnos_foundpose_analysis/output_npz/000001_000053_cnos_02.json does not exist.\n",
      "File cnos_foundpose_analysis/output_npz/000001_000053_cnos_02.npz does not exist.\n"
     ]
    },
    {
     "name": "stderr",
     "output_type": "stream",
     "text": [
      "[2024-09-01 21:13:23,412] [INFO] root: Loading detections...\n",
      "100%|██████████| 106/106 [02:15<00:00,  1.28s/it]\n",
      " 92%|█████████▏| 24/26 [1:39:03<07:33, 226.90s/it][2024-09-01 21:15:39,443] [INFO] root: Loading SAM model from datasets/bop23_challenge/pretrained/segment-anything\n",
      "[2024-09-01 21:15:42,071] [INFO] root: Init CustomSamAutomaticMaskGenerator done!\n",
      "Using cache found in /home/cuong.van-dam/.cache/torch/hub/facebookresearch_dinov2_main\n",
      "[2024-09-01 21:15:44,956] [INFO] dinov2: using MLP layer as FFN\n",
      "100%|██████████| 102/102 [00:01<00:00, 56.95it/s]"
     ]
    },
    {
     "name": "stdout",
     "output_type": "stream",
     "text": [
      "File cnos_foundpose_analysis/output_npz/000001_000054_cnos_05.json does not exist.\n",
      "File cnos_foundpose_analysis/output_npz/000001_000054_cnos_05.npz does not exist.\n"
     ]
    },
    {
     "name": "stderr",
     "output_type": "stream",
     "text": [
      "\n",
      "[2024-09-01 21:15:52,132] [INFO] root: Loading detections...\n",
      "100%|██████████| 16/16 [00:03<00:00,  4.10it/s]"
     ]
    },
    {
     "name": "stdout",
     "output_type": "stream",
     "text": [
      "File cnos_foundpose_analysis/output_npz/000001_000054_cnos_04.json does not exist.\n",
      "File cnos_foundpose_analysis/output_npz/000001_000054_cnos_04.npz does not exist.\n"
     ]
    },
    {
     "name": "stderr",
     "output_type": "stream",
     "text": [
      "\n",
      "[2024-09-01 21:15:57,687] [INFO] root: Loading detections...\n",
      "100%|██████████| 29/29 [00:11<00:00,  2.54it/s]"
     ]
    },
    {
     "name": "stdout",
     "output_type": "stream",
     "text": [
      "File cnos_foundpose_analysis/output_npz/000001_000054_cnos_03.json does not exist.\n",
      "File cnos_foundpose_analysis/output_npz/000001_000054_cnos_03.npz does not exist.\n"
     ]
    },
    {
     "name": "stderr",
     "output_type": "stream",
     "text": [
      "\n",
      "[2024-09-01 21:16:13,014] [INFO] root: Loading detections...\n",
      "100%|██████████| 70/70 [00:59<00:00,  1.17it/s]\n"
     ]
    },
    {
     "name": "stdout",
     "output_type": "stream",
     "text": [
      "File cnos_foundpose_analysis/output_npz/000001_000054_cnos_02.json does not exist.\n",
      "File cnos_foundpose_analysis/output_npz/000001_000054_cnos_02.npz does not exist.\n"
     ]
    },
    {
     "name": "stderr",
     "output_type": "stream",
     "text": [
      "[2024-09-01 21:17:19,451] [INFO] root: Loading detections...\n",
      "100%|██████████| 101/101 [02:02<00:00,  1.21s/it]\n",
      " 96%|█████████▌| 25/26 [1:42:45<03:45, 225.48s/it][2024-09-01 21:19:21,626] [INFO] root: Loading SAM model from datasets/bop23_challenge/pretrained/segment-anything\n",
      "[2024-09-01 21:19:24,350] [INFO] root: Init CustomSamAutomaticMaskGenerator done!\n",
      "Using cache found in /home/cuong.van-dam/.cache/torch/hub/facebookresearch_dinov2_main\n",
      "[2024-09-01 21:19:26,957] [INFO] dinov2: using MLP layer as FFN\n",
      "100%|██████████| 128/128 [00:02<00:00, 57.63it/s]"
     ]
    },
    {
     "name": "stdout",
     "output_type": "stream",
     "text": [
      "File cnos_foundpose_analysis/output_npz/000001_000055_cnos_05.json does not exist.\n",
      "File cnos_foundpose_analysis/output_npz/000001_000055_cnos_05.npz does not exist.\n"
     ]
    },
    {
     "name": "stderr",
     "output_type": "stream",
     "text": [
      "\n",
      "[2024-09-01 21:19:34,449] [INFO] root: Loading detections...\n",
      "100%|██████████| 13/13 [00:02<00:00,  4.84it/s]"
     ]
    },
    {
     "name": "stdout",
     "output_type": "stream",
     "text": [
      "File cnos_foundpose_analysis/output_npz/000001_000055_cnos_04.json does not exist.\n",
      "File cnos_foundpose_analysis/output_npz/000001_000055_cnos_04.npz does not exist.\n"
     ]
    },
    {
     "name": "stderr",
     "output_type": "stream",
     "text": [
      "\n",
      "[2024-09-01 21:19:38,910] [INFO] root: Loading detections...\n",
      "100%|██████████| 32/32 [00:13<00:00,  2.39it/s]"
     ]
    },
    {
     "name": "stdout",
     "output_type": "stream",
     "text": [
      "File cnos_foundpose_analysis/output_npz/000001_000055_cnos_03.json does not exist.\n",
      "File cnos_foundpose_analysis/output_npz/000001_000055_cnos_03.npz does not exist.\n"
     ]
    },
    {
     "name": "stderr",
     "output_type": "stream",
     "text": [
      "\n",
      "[2024-09-01 21:19:57,436] [INFO] root: Loading detections...\n",
      "100%|██████████| 84/84 [01:25<00:00,  1.01s/it]\n"
     ]
    },
    {
     "name": "stdout",
     "output_type": "stream",
     "text": [
      "File cnos_foundpose_analysis/output_npz/000001_000055_cnos_02.json does not exist.\n",
      "File cnos_foundpose_analysis/output_npz/000001_000055_cnos_02.npz does not exist.\n"
     ]
    },
    {
     "name": "stderr",
     "output_type": "stream",
     "text": [
      "[2024-09-01 21:21:31,607] [INFO] root: Loading detections...\n",
      "100%|██████████| 123/123 [02:58<00:00,  1.45s/it]\n",
      "100%|██████████| 26/26 [1:47:53<00:00, 249.00s/it]\n"
     ]
    }
   ],
   "source": [
    "# for i in range(len(rgb_paths)):\n",
    "from tqdm import trange\n",
    "\n",
    "\n",
    "for i in trange(30,len(rgb_paths)):\n",
    "    scene_id = int(rgb_paths[i].split(\"/\")[-3])\n",
    "    frame_id = int(rgb_paths[i].split(\"/\")[-1].split(\".\")[0])\n",
    "    cnos_different_thresholds(rgb_path=rgb_paths[i], scene_id=scene_id, frame_id=frame_id, obj_id=obj_id, dataset=dataset)"
   ]
  },
  {
   "cell_type": "code",
   "execution_count": 5,
   "metadata": {},
   "outputs": [
    {
     "name": "stdout",
     "output_type": "stream",
     "text": [
      "Flase\n"
     ]
    }
   ],
   "source": [
    "import math\n",
    "x = float(2)\n",
    "if not math.isnan(x):\n",
    "    print(\"Flase\")"
   ]
  },
  {
   "cell_type": "code",
   "execution_count": null,
   "metadata": {},
   "outputs": [],
   "source": []
  },
  {
   "cell_type": "markdown",
   "metadata": {},
   "source": []
  }
 ],
 "metadata": {
  "kernelspec": {
   "display_name": "cnos",
   "language": "python",
   "name": "python3"
  },
  "language_info": {
   "codemirror_mode": {
    "name": "ipython",
    "version": 3
   },
   "file_extension": ".py",
   "mimetype": "text/x-python",
   "name": "python",
   "nbconvert_exporter": "python",
   "pygments_lexer": "ipython3",
   "version": "3.9.19"
  }
 },
 "nbformat": 4,
 "nbformat_minor": 2
}
