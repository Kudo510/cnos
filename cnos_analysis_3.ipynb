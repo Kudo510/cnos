{
 "cells": [
  {
   "cell_type": "code",
   "execution_count": 1,
   "metadata": {},
   "outputs": [],
   "source": [
    "%load_ext autoreload\n",
    "%autoreload 2"
   ]
  },
  {
   "cell_type": "markdown",
   "metadata": {},
   "source": [
    "# 1. Rendering templates from train_pbr"
   ]
  },
  {
   "cell_type": "code",
   "execution_count": 5,
   "metadata": {},
   "outputs": [
    {
     "name": "stderr",
     "output_type": "stream",
     "text": [
      "/tmp/ipykernel_1388265/392793680.py:6: UserWarning: \n",
      "The version_base parameter is not specified.\n",
      "Please specify a compatability version level, or None.\n",
      "Will assume defaults for version 1.1\n",
      "  initialize(config_path=\"configs\")\n"
     ]
    }
   ],
   "source": [
    "import hydra\n",
    "from omegaconf import DictConfig, OmegaConf\n",
    "from hydra import initialize, compose\n",
    "\n",
    "# Initialize Hydra and compose the configuration\n",
    "initialize(config_path=\"configs\")\n",
    "cfg = compose(config_name=\"run_inference\")\n",
    "OmegaConf.set_struct(cfg, False)\n"
   ]
  },
  {
   "cell_type": "code",
   "execution_count": 9,
   "metadata": {},
   "outputs": [],
   "source": [
    "import os\n",
    "import glob\n",
    "\n",
    "dataset = \"daoliuzhao\"\n",
    "\n",
    "default_ref_dataloader_config = cfg.data.reference_dataloader\n",
    "ref_dataloader_config = default_ref_dataloader_config.copy()\n",
    "ref_dataloader_config._target_ = \"src.dataloader.bop_pbr.BOPTemplatePBR\"\n",
    "ref_dataloader_config.root_dir = f\"datasets/bop23_challenge/datasets/{dataset}\"\n",
    "ref_dataloader_config.template_dir = f\"datasets/bop23_challenge/datasets/templates_pyrender/{dataset}\"\n",
    "ref_dataloader_config.level_templates = 0 # Level 0 :42 templates, level 1, 162 templates\n",
    "ref_dataloader_config.split = \"train_pbr\"\n",
    "\n",
    "ply_files = glob.glob(f\"datasets/bop23_challenge/datasets/{dataset}/models/*.ply\")\n",
    "obj_ids = sorted([int(os.path.basename(obj_id)[8:10]) for obj_id in ply_files])\n",
    "ref_dataloader_config.obj_ids = obj_ids\n",
    "\n",
    "out_folder = \"xoa3\"\n",
    "if not os.path.exists(out_folder):\n",
    "    os.makedirs(out_folder)\n",
    "ref_dataloader_config.out_dir = out_folder\n",
    "ref_dataloader_config.templates_output_folder = f\"{out_folder}/real_images_templates\"\n"
   ]
  },
  {
   "cell_type": "code",
   "execution_count": 10,
   "metadata": {},
   "outputs": [
    {
     "name": "stderr",
     "output_type": "stream",
     "text": [
      "Loading metaData: 100%|██████████| 1/1 [00:00<00:00,  4.77it/s]\n",
      "Finding nearest rendering close to template poses: 100%|██████████| 1/1 [00:00<00:00, 159.03it/s]\n"
     ]
    }
   ],
   "source": [
    "from hydra.utils import instantiate\n",
    "ref_dataset = instantiate(ref_dataloader_config) # src.dataloader.bop.BOPTemplatePBR\n",
    "ref_dataset.load_processed_metaData(reset_metaData=True)"
   ]
  },
  {
   "cell_type": "code",
   "execution_count": 16,
   "metadata": {},
   "outputs": [],
   "source": [
    "import pandas as pd\n",
    "templates = pd.read_csv(f\"datasets/bop23_challenge/datasets/daoliuzhao/train_pbr_metaData.csv\")"
   ]
  },
  {
   "cell_type": "code",
   "execution_count": 13,
   "metadata": {},
   "outputs": [
    {
     "data": {
      "text/plain": [
       "4875"
      ]
     },
     "execution_count": 13,
     "metadata": {},
     "output_type": "execute_result"
    }
   ],
   "source": [
    "len(templates)"
   ]
  },
  {
   "cell_type": "code",
   "execution_count": 17,
   "metadata": {},
   "outputs": [],
   "source": [
    "from torchvision.utils import save_image\n",
    "import pandas as pd\n",
    "\n",
    "# templates = pd.read_csv(f\"{out_folder}/train_pbr_processed_metaData.csv\")\n",
    "\n",
    "# Save templates as images\n",
    "for ob_id in range(1,len(obj_ids)+1): # Change to  42, 162, 462 for level templates 0, 1, 2\n",
    "    obj_id_path = os.path.join(f\"{out_folder}/synthetic_images_templates/{dataset}/train_pbr\", f'obj_{(ob_id):06d}') # The transformed templates - check line 244, 245 in bop_pbr.py\n",
    "    original_obj_id_path = os.path.join(f\"{out_folder}/synthetic_images_templates/{dataset}/train_pbr\", f'obj_{(ob_id):06d}_original')\n",
    "    \n",
    "    if not os.path.exists(obj_id_path):\n",
    "        os.makedirs(obj_id_path)\n",
    "    if not os.path.exists(original_obj_id_path):\n",
    "        os.makedirs(original_obj_id_path)\n",
    "\n",
    "    for i, img in enumerate(ref_dataset[ob_id-1][\"templates\"]): # all the crop her is normalize and resize to 224*224 alsready in __getitem__\n",
    "        save_image(img, os.path.join(obj_id_path, f'{i:06d}.png'))\n",
    "    for i, img in enumerate(ref_dataset[ob_id-1][\"unnormalized_templates\"]): # all the crop her is normalize and resize to 224*224 alsready in __getitem__\n",
    "        save_image(img, os.path.join(original_obj_id_path, f'{i:06d}.png'))"
   ]
  },
  {
   "cell_type": "code",
   "execution_count": null,
   "metadata": {},
   "outputs": [],
   "source": [
    "from PIL import Image\n",
    "\n",
    "def combine_images(image_paths, output_path, image_size=(224, 224), grid_size=(6, 7)):\n",
    "    rows, cols = grid_size\n",
    "    if len(image_paths) != rows * cols:\n",
    "        raise ValueError(\"Incorrect number of images.\")\n",
    "    images = [Image.open(path).resize(image_size) for path in image_paths]\n",
    "    total_width = cols * image_size[0]\n",
    "    total_height = rows * image_size[1]\n",
    "    combined_image = Image.new(\"RGB\", (total_width, total_height))\n",
    "    for index, image in enumerate(images):\n",
    "        x = (index % cols) * image_size[0]\n",
    "        y = (index // cols) * image_size[1]\n",
    "        combined_image.paste(image, (x, y))\n",
    "    combined_image.save(output_path)\n",
    "\n",
    "image_paths = glob.glob(\"xoa3/synthetic_images_templates/daoliuzhao/train_pbr/obj_000001_original/*.png\")\n",
    "#datasets/bop23_challenge/datasets/templates_pyrender/daoliuzhao/obj_000001)\n",
    "output_path = \"xoa3/synthetic_images_templates/daoliuzhao/42_pbr_templates.png\"\n",
    "combine_images(image_paths, output_path)"
   ]
  },
  {
   "cell_type": "code",
   "execution_count": 28,
   "metadata": {},
   "outputs": [],
   "source": [
    "from PIL import Image\n",
    "\n",
    "def combine_images_pyrender(image_paths, output_path, image_size=(100, 100), grid_size=(6, 7)):\n",
    "    rows, cols = grid_size\n",
    "    if len(image_paths) != rows * cols:\n",
    "        raise ValueError(\"Incorrect number of images.\")\n",
    "    images = []\n",
    "    for path in image_paths:\n",
    "        img = Image.open(path)\n",
    "        width, height = img.size\n",
    "        crop_width, crop_height = int(width * 0.4), int(height * 0.4)\n",
    "        left = (width - crop_width) // 2\n",
    "        top = (height - crop_height) // 2\n",
    "        right = left + crop_width\n",
    "        bottom = top + crop_height\n",
    "        cropped = img.crop((left, top, right, bottom)).resize(image_size)\n",
    "        images.append(cropped)\n",
    "    total_width = cols * image_size[0]\n",
    "    total_height = rows * image_size[1]\n",
    "    combined_image = Image.new(\"RGB\", (total_width, total_height))\n",
    "    for index, image in enumerate(images):\n",
    "        x = (index % cols) * image_size[0]\n",
    "        y = (index // cols) * image_size[1]\n",
    "        combined_image.paste(image, (x, y))\n",
    "    combined_image.save(output_path)\n",
    "\n",
    "image_paths = glob.glob(\"datasets/bop23_challenge/datasets/templates_pyrender/daoliuzhao/obj_000001/*.png\")\n",
    "output_path = \"xoa3/synthetic_images_templates/daoliuzhao/42_pyrender_templates.png\"\n",
    "combine_images_pyrender(image_paths, output_path)\n"
   ]
  }
 ],
 "metadata": {
  "kernelspec": {
   "display_name": "cnos",
   "language": "python",
   "name": "python3"
  },
  "language_info": {
   "codemirror_mode": {
    "name": "ipython",
    "version": 3
   },
   "file_extension": ".py",
   "mimetype": "text/x-python",
   "name": "python",
   "nbconvert_exporter": "python",
   "pygments_lexer": "ipython3",
   "version": "3.9.19"
  }
 },
 "nbformat": 4,
 "nbformat_minor": 2
}
