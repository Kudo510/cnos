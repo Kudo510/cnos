{
 "cells": [
  {
   "cell_type": "code",
   "execution_count": 19,
   "metadata": {},
   "outputs": [
    {
     "name": "stdout",
     "output_type": "stream",
     "text": [
      "The autoreload extension is already loaded. To reload it, use:\n",
      "  %reload_ext autoreload\n"
     ]
    }
   ],
   "source": [
    "%load_ext autoreload\n",
    "%autoreload 2"
   ]
  },
  {
   "cell_type": "markdown",
   "metadata": {},
   "source": [
    "# 1. Rendering templates from train_pbr"
   ]
  },
  {
   "cell_type": "code",
   "execution_count": 20,
   "metadata": {},
   "outputs": [],
   "source": [
    "import hydra\n",
    "from omegaconf import DictConfig, OmegaConf\n",
    "from hydra import initialize, compose\n",
    "\n",
    "# Initialize Hydra and compose the configuration\n",
    "# initialize(config_path=\"configs\")\n",
    "cfg = compose(config_name=\"run_inference\")\n",
    "OmegaConf.set_struct(cfg, False)\n"
   ]
  },
  {
   "cell_type": "code",
   "execution_count": 32,
   "metadata": {},
   "outputs": [],
   "source": [
    "import os\n",
    "import glob\n",
    "\n",
    "dataset = \"lmo\"\n",
    "\n",
    "default_ref_dataloader_config = cfg.data.reference_dataloader\n",
    "ref_dataloader_config = default_ref_dataloader_config.copy()\n",
    "ref_dataloader_config._target_ = \"src.dataloader.bop_pbr.BOPTemplatePBR\"\n",
    "ref_dataloader_config.root_dir = f\"datasets/bop23_challenge/datasets/{dataset}\"\n",
    "ref_dataloader_config.template_dir = \" \"\n",
    "ref_dataloader_config.level_templates = 1 # Level 0 :42 templates, level 1, 162 templates\n",
    "ref_dataloader_config.split = \"train_pbr\"\n",
    "\n",
    "ply_files = glob.glob(f\"datasets/bop23_challenge/datasets/{dataset}/models/*.ply\")\n",
    "obj_ids = sorted([int(os.path.basename(obj_id)[8:10]) for obj_id in ply_files])\n",
    "ref_dataloader_config.obj_ids = obj_ids\n",
    "\n",
    "out_folder = \"xoa3\"\n",
    "if not os.path.exists(out_folder):\n",
    "    os.makedirs(out_folder)\n",
    "ref_dataloader_config.out_dir = out_folder\n",
    "ref_dataloader_config.templates_output_folder = f\"{out_folder}/real_images_templates\"\n"
   ]
  },
  {
   "cell_type": "code",
   "execution_count": 33,
   "metadata": {},
   "outputs": [
    {
     "name": "stderr",
     "output_type": "stream",
     "text": [
      "Loading metaData: 100%|██████████| 10/10 [00:03<00:00,  2.85it/s]\n",
      "Finding nearest rendering close to template poses: 100%|██████████| 15/15 [00:00<00:00, 83.66it/s]\n"
     ]
    }
   ],
   "source": [
    "from hydra.utils import instantiate\n",
    "ref_dataset = instantiate(ref_dataloader_config) # src.dataloader.bop.BOPTemplatePBR\n",
    "ref_dataset.load_processed_metaData(reset_metaData=True)"
   ]
  },
  {
   "cell_type": "code",
   "execution_count": 34,
   "metadata": {},
   "outputs": [],
   "source": [
    "templates = pd.read_csv(f\"{out_folder}/train_pbr_processed_metaData.csv\")"
   ]
  },
  {
   "cell_type": "code",
   "execution_count": 35,
   "metadata": {},
   "outputs": [
    {
     "data": {
      "text/plain": [
       "2430"
      ]
     },
     "execution_count": 35,
     "metadata": {},
     "output_type": "execute_result"
    }
   ],
   "source": [
    "len(templates)"
   ]
  },
  {
   "cell_type": "code",
   "execution_count": 36,
   "metadata": {},
   "outputs": [],
   "source": [
    "from torchvision.utils import save_image\n",
    "import pandas as pd\n",
    "\n",
    "templates = pd.read_csv(f\"{out_folder}/train_pbr_processed_metaData.csv\")\n",
    "\n",
    "# Save templates as images\n",
    "for ob_id in range(1,len(obj_ids)+1): # Change to  42, 162, 462 for level templates 0, 1, 2\n",
    "    obj_id_path = os.path.join(f\"{out_folder}/synthetic_images_templates/{dataset}/train_pbr\", f'obj_{(ob_id):06d}') # The transformed templates - check line 244, 245 in bop_pbr.py\n",
    "    original_obj_id_path = os.path.join(f\"{out_folder}/synthetic_images_templates/{dataset}/train_pbr\", f'obj_{(ob_id):06d}_original')\n",
    "    \n",
    "    if not os.path.exists(obj_id_path):\n",
    "        os.makedirs(obj_id_path)\n",
    "    if not os.path.exists(original_obj_id_path):\n",
    "        os.makedirs(original_obj_id_path)\n",
    "\n",
    "    for i, img in enumerate(ref_dataset[ob_id-1][\"templates\"]): # all the crop her is normalize and resize to 224*224 alsready in __getitem__\n",
    "        save_image(img, os.path.join(obj_id_path, f'{i:06d}.png'))\n",
    "    for i, img in enumerate(ref_dataset[ob_id-1][\"original_templates\"]): # all the crop her is normalize and resize to 224*224 alsready in __getitem__\n",
    "        save_image(img, os.path.join(original_obj_id_path, f'{i:06d}.png'))"
   ]
  }
 ],
 "metadata": {
  "kernelspec": {
   "display_name": "cnos",
   "language": "python",
   "name": "python3"
  },
  "language_info": {
   "codemirror_mode": {
    "name": "ipython",
    "version": 3
   },
   "file_extension": ".py",
   "mimetype": "text/x-python",
   "name": "python",
   "nbconvert_exporter": "python",
   "pygments_lexer": "ipython3",
   "version": "3.9.-1"
  }
 },
 "nbformat": 4,
 "nbformat_minor": 2
}
