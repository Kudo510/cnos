{
 "cells": [
  {
   "cell_type": "code",
   "execution_count": 26,
   "metadata": {},
   "outputs": [
    {
     "name": "stdout",
     "output_type": "stream",
     "text": [
      "The autoreload extension is already loaded. To reload it, use:\n",
      "  %reload_ext autoreload\n"
     ]
    }
   ],
   "source": [
    "%load_ext autoreload\n",
    "%autoreload 2"
   ]
  },
  {
   "cell_type": "markdown",
   "metadata": {},
   "source": [
    "# 1. Synthetic to real domain gap\n",
    "Take some real image crops from  Sam， with less occlusions，as the templates. And mach them with the raw crops from Sam. You can maybe apply a threshold for the Bounding box size to filter the valid template. See if you can get some reasonable results"
   ]
  },
  {
   "cell_type": "markdown",
   "metadata": {},
   "source": [
    "## 1.1 Take and save some real image crops from SAM\n",
    "Take input image then put via sam then choose some of the crops- save in the cnos analysis folder"
   ]
  },
  {
   "cell_type": "code",
   "execution_count": 2,
   "metadata": {},
   "outputs": [],
   "source": [
    "# load sam\n",
    "from src.model.sam import CustomSamAutomaticMaskGenerator, load_sam\n",
    "from segment_anything.modeling.sam import Sam\n",
    "model_type = \"vit_h\"\n",
    "checkpoint_dir =  \"datasets/bop23_challenge/pretrained/segment-anything\"\n",
    "sam_model = load_sam(model_type, checkpoint_dir)\n",
    "custom_sam_model = CustomSamAutomaticMaskGenerator(sam=sam_model)"
   ]
  },
  {
   "cell_type": "code",
   "execution_count": 3,
   "metadata": {},
   "outputs": [],
   "source": [
    "def move_to_device(segmentor_model, device=\"cuda:0\"):\n",
    "    # if there is predictor in the model, move it to device\n",
    "    if hasattr(segmentor_model, \"predictor\"):\n",
    "        segmentor_model.predictor.model = (\n",
    "            segmentor_model.predictor.model.to(device)\n",
    "        )\n",
    "    else:\n",
    "        segmentor_model.model.setup_model(device=device, verbose=True)\n",
    "move_to_device(custom_sam_model)"
   ]
  },
  {
   "cell_type": "code",
   "execution_count": 6,
   "metadata": {},
   "outputs": [],
   "source": [
    "from PIL import Image\n",
    "import torch\n",
    "import numpy as np\n",
    "from src.model.utils import Detections\n",
    "rgb_path = \"datasets/bop23_challenge/datasets/icbin/test/000001/rgb/000001.png\"\n",
    "rgb = Image.open(rgb_path).convert(\"RGB\")\n",
    "detections = custom_sam_model.generate_masks(np.array(rgb))"
   ]
  },
  {
   "cell_type": "code",
   "execution_count": 7,
   "metadata": {},
   "outputs": [],
   "source": [
    "def extract_object_by_mask(image, mask, width: int = 512):\n",
    "    mask = Image.fromarray(mask)\n",
    "    masked_image = Image.composite(\n",
    "        image, Image.new(\"RGB\", image.size, (0, 0, 0)), mask)\n",
    "    cropped_image = masked_image.crop(masked_image.getbbox())\n",
    "    # new_height = width * cropped_image.height // cropped_image.width\n",
    "    return cropped_image\n",
    "\n",
    "masked_images = []\n",
    "for mask in detections[\"masks\"].cpu():\n",
    "    binary_mask = np.array(mask) * 255\n",
    "    binary_mask = binary_mask.astype(np.uint8)\n",
    "    masked_image = extract_object_by_mask(rgb, binary_mask)\n",
    "    masked_images.append(masked_image)"
   ]
  },
  {
   "cell_type": "code",
   "execution_count": 8,
   "metadata": {},
   "outputs": [],
   "source": [
    "# Visualize proposals\n",
    "import matplotlib.pyplot as plt\n",
    "from math import ceil\n",
    "def plot_images(images, rows, cols):\n",
    "    fig, axes = plt.subplots(rows, cols, figsize=(20, 30))\n",
    "    for i, ax in enumerate(axes.flat):\n",
    "        if i >= len(images):\n",
    "            break\n",
    "        ax.imshow(images[i])\n",
    "        ax.axis('off')\n",
    "    plt.tight_layout()\n",
    "    plt.show()\n",
    "\n",
    "# Define the number of rows and columns in the grid\n",
    "rows = ceil(len(masked_images) / 6)\n",
    "cols = 6\n",
    "# Plot the masked_images array in a grid\n",
    "# plot_images(masked_images, rows, cols) "
   ]
  },
  {
   "cell_type": "code",
   "execution_count": 9,
   "metadata": {},
   "outputs": [],
   "source": [
    "# We are choosing proposals 2 and 8\n",
    "crop1 = {\n",
    "    \"crop\" : masked_images[1], # it is saved as Image so crop1[\"crop\"] to visualize it\n",
    "    \"masks\" : detections[\"masks\"][1],\n",
    "    \"boxes\" : detections[\"boxes\"][1]\n",
    "}\n",
    "crop2 = {\n",
    "    \"crop\" : masked_images[7],\n",
    "    \"masks\" : detections[\"masks\"][7],\n",
    "    \"boxes\" : detections[\"boxes\"][7]\n",
    "}\n",
    "\n",
    "# save image\n",
    "crop1[\"crop\"].save(\"cnos_analysis/crop_proposals/crop1.png\")\n",
    "crop2[\"crop\"].save(\"cnos_analysis/crop_proposals/crop2.png\")"
   ]
  },
  {
   "cell_type": "code",
   "execution_count": 15,
   "metadata": {},
   "outputs": [
    {
     "data": {
      "image/jpeg": "[encoded data removed]",
      "image/png": "[encoded data removed]",
      "text/plain": [
       "<PIL.Image.Image image mode=RGB size=123x96>"
      ]
     },
     "execution_count": 15,
     "metadata": {},
     "output_type": "execute_result"
    }
   ],
   "source": [
    "crop2[\"crop\"]"
   ]
  },
  {
   "cell_type": "markdown",
   "metadata": {},
   "source": [
    "## 1.2 Create and save 42 templates from the test folder using BlenderProc."
   ]
  },
  {
   "cell_type": "code",
   "execution_count": null,
   "metadata": {},
   "outputs": [],
   "source": [
    "# load config file\n",
    "import hydra\n",
    "from omegaconf import DictConfig, OmegaConf\n",
    "from hydra import initialize, compose\n",
    "\n",
    "# Initialize Hydra and compose the configuration\n",
    "initialize(config_path=\"configs\")\n",
    "cfg = compose(config_name=\"run_inference\")"
   ]
  },
  {
   "cell_type": "code",
   "execution_count": 28,
   "metadata": {},
   "outputs": [],
   "source": [
    "# 10* set_struct to so that we can add key-value to the file - see lb we add new key-value root_dir to ref_dataloader_config\n",
    "OmegaConf.set_struct(cfg, False)"
   ]
  },
  {
   "cell_type": "code",
   "execution_count": 121,
   "metadata": {},
   "outputs": [],
   "source": [
    "default_ref_dataloader_config = cfg.data.reference_dataloader\n",
    "ref_dataloader_config = default_ref_dataloader_config.copy()\n",
    "ref_dataloader_config._target_ = \"src.dataloader.bop_pbr.BOPTemplatePBR\"\n",
    "ref_dataloader_config.root_dir = \"datasets/bop23_challenge/datasets/icbin\"\n",
    "ref_dataloader_config.template_dir += \"templates_pyrender/icbin\" # we r working on icbin dataset\n",
    "ref_dataloader_config.templates_output_folder = \"cnos_analysis/real_images_templates\"\n"
   ]
  },
  {
   "cell_type": "code",
   "execution_count": 132,
   "metadata": {},
   "outputs": [
    {
     "name": "stderr",
     "output_type": "stream",
     "text": [
      "Loading metaData: 100%|██████████| 3/3 [00:00<00:00, 129.44it/s]\n",
      "Finding nearest rendering close to template poses: 100%|██████████| 2/2 [00:00<00:00, 343.49it/s]\n"
     ]
    }
   ],
   "source": [
    "from hydra.utils import instantiate\n",
    "ref_dataset = instantiate(ref_dataloader_config) # src.dataloader.bop.BOPTemplatePBR\n",
    "ref_dataset.load_processed_metaData(reset_metaData=True)"
   ]
  },
  {
   "cell_type": "code",
   "execution_count": 133,
   "metadata": {},
   "outputs": [],
   "source": [
    "import pandas as pd\n",
    "# cnos_analysis/test_processed_metaData.csv has size of 84 templates for 2 models# cnos_analysis/test_metaData.csv is has size of 2250 tempaltes - it is before we choose 42 templates for each\n",
    "templates = pd.read_csv(\"cnos_analysis/test_processed_metaData.csv\")"
   ]
  },
  {
   "cell_type": "code",
   "execution_count": 134,
   "metadata": {},
   "outputs": [],
   "source": [
    "from torchvision.utils import save_image\n",
    "import os\n",
    "for ob_id in range(1,len(templates)//42+1):\n",
    "    obj_id_path = os.path.join(\"cnos_analysis/real_images_templates/icbin\", f'obj_{(ob_id):06d}') ## achtung 06d not just 6d\n",
    "    if not os.path.exists(obj_id_path):\n",
    "        os.makedirs(obj_id_path)\n",
    "    for i, img in enumerate(ref_dataset[ob_id-1][\"templates\"]): # all the crop her is normalize and resize to 224*224 alsready in __getitem__\n",
    "        save_image(img, os.path.join(obj_id_path, f'{i:06d}.png'))\n"
   ]
  },
  {
   "cell_type": "markdown",
   "metadata": {},
   "source": [
    "## 1.3 Extract feature descriptors for the 42 templates\n",
    "Using Dinov2  "
   ]
  },
  {
   "cell_type": "code",
   "execution_count": 151,
   "metadata": {},
   "outputs": [
    {
     "name": "stderr",
     "output_type": "stream",
     "text": [
      "Using cache found in /home/cuong.vandam/.cache/torch/hub/facebookresearch_dinov2_main\n"
     ]
    }
   ],
   "source": [
    "# define the cnos model\n",
    "cfg_segmentor = cfg.model.segmentor_model\n",
    "if \"fast_sam\" in cfg_segmentor._target_:\n",
    "    logging.info(\"Using FastSAM, ignore stability_score_thresh!\")\n",
    "else:\n",
    "    cfg.model.segmentor_model.stability_score_thresh = 0.97 # for sam\n",
    "\n",
    "model = instantiate(cfg.model).to(\"cuda\")"
   ]
  },
  {
   "cell_type": "code",
   "execution_count": 152,
   "metadata": {},
   "outputs": [
    {
     "data": {
      "text/plain": [
       "device(type='cuda', index=0)"
      ]
     },
     "execution_count": 152,
     "metadata": {},
     "output_type": "execute_result"
    }
   ],
   "source": [
    "model.device"
   ]
  },
  {
   "cell_type": "code",
   "execution_count": 155,
   "metadata": {},
   "outputs": [],
   "source": [
    "import glob\n",
    "import logging\n",
    "from src.utils.bbox_utils import CropResizePad\n",
    "# can also put the tranform for the image before going via Dino - but actually I tested that and it is actually the same\n",
    "\n",
    "template_dir = \"cnos_analysis/real_images_templates/icbin/obj_000001\"\n",
    "template_paths = glob.glob(f\"{template_dir}/*.png\")\n",
    "boxes, templates = [], []\n",
    "for path in template_paths:\n",
    "    image = Image.open(path)\n",
    "    boxes.append(image.getbbox())\n",
    "    image = torch.from_numpy(np.array(image.convert(\"RGB\")) / 255).float() # convert templates in format of Image to np then devide them by 255\n",
    "    templates.append(image)\n",
    "    \n",
    "templates = torch.stack(templates).permute(0, 3, 1, 2) # now qw have a stack of 42,3,480*640\n",
    "boxes = torch.tensor(np.array(boxes))\n",
    "\n",
    "processing_config = OmegaConf.create(\n",
    "    {\n",
    "        \"image_size\": 224,\n",
    "    }\n",
    ")\n",
    "proposal_processor = CropResizePad(processing_config.image_size)\n",
    "templates = proposal_processor(images=templates, boxes=boxes).cuda() # here resize the templates to size of 42,3,224,224 I assume\n",
    "save_image(templates, f\"{template_dir}/cnos_results/templates.png\", nrow=7) # here just put all templates in 1 image and save it\n",
    "ref_feats = model.descriptor_model.compute_features(\n",
    "                templates, token_name=\"x_norm_clstoken\"\n",
    "            ) # extract features for the 42 templates - obtain shape as 42,1024\n",
    "logging.info(f\"Ref feats: {ref_feats.shape}\")"
   ]
  },
  {
   "cell_type": "code",
   "execution_count": 156,
   "metadata": {},
   "outputs": [
    {
     "data": {
      "text/plain": [
       "torch.Size([42, 1024])"
      ]
     },
     "execution_count": 156,
     "metadata": {},
     "output_type": "execute_result"
    }
   ],
   "source": [
    "ref_feats.shape"
   ]
  },
  {
   "cell_type": "markdown",
   "metadata": {},
   "source": [
    "## 1.5 Extract features from the crop\n",
    "have to scale and pad the crops to size of (224,224)"
   ]
  },
  {
   "cell_type": "code",
   "execution_count": 157,
   "metadata": {},
   "outputs": [],
   "source": [
    "crop_rgb = np.array(Image.open(\"cnos_analysis/crop_proposals/crop1.png\").convert(\"RGB\")) # (124, 157, 3)"
   ]
  },
  {
   "cell_type": "code",
   "execution_count": 161,
   "metadata": {},
   "outputs": [],
   "source": [
    "import torchvision.transforms as T\n",
    "# Use the normalize tranformation means we also use the normalized templates as well - 10*\n",
    "rgb_normalize = T.Compose(\n",
    "    [\n",
    "        T.ToTensor(),\n",
    "        T.Normalize(mean=(0.485, 0.456, 0.406), std=(0.229, 0.224, 0.225)),\n",
    "    ]\n",
    ")"
   ]
  },
  {
   "cell_type": "code",
   "execution_count": 165,
   "metadata": {},
   "outputs": [],
   "source": [
    "import torch.nn.functional as F\n",
    "normalized_crop_rgb = rgb_normalize(crop_rgb).float()\n"
   ]
  },
  {
   "cell_type": "code",
   "execution_count": null,
   "metadata": {},
   "outputs": [],
   "source": []
  },
  {
   "cell_type": "code",
   "execution_count": null,
   "metadata": {},
   "outputs": [],
   "source": []
  },
  {
   "cell_type": "code",
   "execution_count": null,
   "metadata": {},
   "outputs": [],
   "source": []
  },
  {
   "cell_type": "markdown",
   "metadata": {},
   "source": [
    "## 1.4 Calculate the similarity \n",
    "Between reference discriptors(from templates) and features descriptors(from input image)\n"
   ]
  },
  {
   "cell_type": "code",
   "execution_count": 138,
   "metadata": {},
   "outputs": [],
   "source": [
    "from src.model.loss import Similarity\n",
    "metric = Similarity()"
   ]
  },
  {
   "cell_type": "markdown",
   "metadata": {},
   "source": [
    "# 2. Scale\n",
    "Try to zoom in and zoom out the templates or real image crops for the Sam instance， see if the similarly score changes"
   ]
  },
  {
   "cell_type": "markdown",
   "metadata": {},
   "source": [
    "# 3. Occlusion\n",
    "Find a real image crop without occlusion， and maskout some area of it，see how much the similarly score decrease"
   ]
  },
  {
   "cell_type": "markdown",
   "metadata": {},
   "source": []
  },
  {
   "cell_type": "markdown",
   "metadata": {},
   "source": []
  }
 ],
 "metadata": {
  "kernelspec": {
   "display_name": "cnos",
   "language": "python",
   "name": "python3"
  },
  "language_info": {
   "codemirror_mode": {
    "name": "ipython",
    "version": 3
   },
   "file_extension": ".py",
   "mimetype": "text/x-python",
   "name": "python",
   "nbconvert_exporter": "python",
   "pygments_lexer": "ipython3",
   "version": "3.9.19"
  }
 },
 "nbformat": 4,
 "nbformat_minor": 2
}
