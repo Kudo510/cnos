{
 "cells": [
  {
   "cell_type": "code",
   "execution_count": 1,
   "metadata": {},
   "outputs": [],
   "source": [
    "%load_ext autoreload\n",
    "%autoreload 2"
   ]
  },
  {
   "cell_type": "markdown",
   "metadata": {},
   "source": [
    "# 1. Synthetic to real domain gap\n",
    "Take some real image crops from  Sam， with less occlusions，as the templates. And mach them with the raw crops from Sam. You can maybe apply a threshold for the Bounding box size to filter the valid template. See if you can get some reasonable results"
   ]
  },
  {
   "cell_type": "markdown",
   "metadata": {},
   "source": [
    "## 1.1 Take and save some real image crops from SAM\n",
    "Take input image then put via sam then choose some of the crops- save in the cnos analysis folder"
   ]
  },
  {
   "cell_type": "code",
   "execution_count": 2,
   "metadata": {},
   "outputs": [],
   "source": [
    "# load sam\n",
    "from src.model.sam import CustomSamAutomaticMaskGenerator, load_sam\n",
    "from segment_anything.modeling.sam import Sam\n",
    "model_type = \"vit_h\"\n",
    "checkpoint_dir =  \"datasets/bop23_challenge/pretrained/segment-anything\"\n",
    "sam_model = load_sam(model_type, checkpoint_dir)\n",
    "custom_sam_model = CustomSamAutomaticMaskGenerator(sam=sam_model)"
   ]
  },
  {
   "cell_type": "code",
   "execution_count": 3,
   "metadata": {},
   "outputs": [],
   "source": [
    "def move_to_device(segmentor_model, device=\"cuda:0\"):\n",
    "    # if there is predictor in the model, move it to device\n",
    "    if hasattr(segmentor_model, \"predictor\"):\n",
    "        segmentor_model.predictor.model = (\n",
    "            segmentor_model.predictor.model.to(device)\n",
    "        )\n",
    "    else:\n",
    "        segmentor_model.model.setup_model(device=device, verbose=True)\n",
    "move_to_device(custom_sam_model)"
   ]
  },
  {
   "cell_type": "code",
   "execution_count": 4,
   "metadata": {},
   "outputs": [],
   "source": [
    "from PIL import Image\n",
    "import torch\n",
    "import numpy as np\n",
    "from src.model.utils import Detections\n",
    "rgb_path = \"datasets/bop23_challenge/datasets/icbin/test/000001/rgb/000001.png\"\n",
    "rgb = Image.open(rgb_path).convert(\"RGB\")\n",
    "detections = custom_sam_model.generate_masks(np.array(rgb))"
   ]
  },
  {
   "cell_type": "code",
   "execution_count": 5,
   "metadata": {},
   "outputs": [],
   "source": [
    "def extract_object_by_mask(image, mask, width: int = 512):\n",
    "    mask = Image.fromarray(mask)\n",
    "    masked_image = Image.composite(\n",
    "        image, Image.new(\"RGB\", image.size, (0, 0, 0)), mask)\n",
    "    cropped_image = masked_image.crop(masked_image.getbbox())\n",
    "    # new_height = width * cropped_image.height // cropped_image.width\n",
    "    return cropped_image\n",
    "\n",
    "masked_images = []\n",
    "for mask in detections[\"masks\"].cpu():\n",
    "    binary_mask = np.array(mask) * 255\n",
    "    binary_mask = binary_mask.astype(np.uint8)\n",
    "    masked_image = extract_object_by_mask(rgb, binary_mask)\n",
    "    masked_images.append(masked_image)"
   ]
  },
  {
   "cell_type": "code",
   "execution_count": 6,
   "metadata": {},
   "outputs": [],
   "source": [
    "# Visualize proposals\n",
    "import matplotlib.pyplot as plt\n",
    "from math import ceil\n",
    "def plot_images(images, rows, cols):\n",
    "    fig, axes = plt.subplots(rows, cols, figsize=(20, 30))\n",
    "    for i, ax in enumerate(axes.flat):\n",
    "        if i >= len(images):\n",
    "            break\n",
    "        ax.imshow(images[i])\n",
    "        ax.axis('off')\n",
    "    plt.tight_layout()\n",
    "    plt.show()\n",
    "\n",
    "# Define the number of rows and columns in the grid\n",
    "rows = ceil(len(masked_images) / 6)\n",
    "cols = 6\n",
    "# Plot the masked_images array in a grid\n",
    "# plot_images(masked_images, rows, cols) "
   ]
  },
  {
   "cell_type": "code",
   "execution_count": 7,
   "metadata": {},
   "outputs": [],
   "source": [
    "# We are choosing proposals 2 and 8\n",
    "crop1 = {\n",
    "    \"crop\" : masked_images[1], # it is saved as Image so crop1[\"crop\"] to visualize it\n",
    "    \"masks\" : detections[\"masks\"][1],\n",
    "    \"boxes\" : detections[\"boxes\"][1]\n",
    "}\n",
    "crop2 = {\n",
    "    \"crop\" : masked_images[7],\n",
    "    \"masks\" : detections[\"masks\"][7],\n",
    "    \"boxes\" : detections[\"boxes\"][7]\n",
    "}\n",
    "\n",
    "# save image\n",
    "crop1[\"crop\"].save(\"cnos_analysis/crop_proposals/crop1.png\")\n",
    "crop2[\"crop\"].save(\"cnos_analysis/crop_proposals/crop2.png\")"
   ]
  },
  {
   "cell_type": "code",
   "execution_count": 8,
   "metadata": {},
   "outputs": [
    {
     "data": {
      "image/jpeg": "[encoded data removed]",
      "image/png": "[encoded data removed]",
      "text/plain": [
       "<PIL.Image.Image image mode=RGB size=123x96>"
      ]
     },
     "execution_count": 8,
     "metadata": {},
     "output_type": "execute_result"
    }
   ],
   "source": [
    "crop2[\"crop\"]"
   ]
  },
  {
   "cell_type": "markdown",
   "metadata": {},
   "source": [
    "## 1.2 Create and save 42 templates from the test folder using BlenderProc."
   ]
  },
  {
   "cell_type": "code",
   "execution_count": 9,
   "metadata": {},
   "outputs": [
    {
     "name": "stderr",
     "output_type": "stream",
     "text": [
      "/tmp/ipykernel_3355874/1465400466.py:7: UserWarning: \n",
      "The version_base parameter is not specified.\n",
      "Please specify a compatability version level, or None.\n",
      "Will assume defaults for version 1.1\n",
      "  initialize(config_path=\"configs\")\n"
     ]
    }
   ],
   "source": [
    "# load config file\n",
    "import hydra\n",
    "from omegaconf import DictConfig, OmegaConf\n",
    "from hydra import initialize, compose\n",
    "\n",
    "# Initialize Hydra and compose the configuration\n",
    "initialize(config_path=\"configs\")\n",
    "cfg = compose(config_name=\"run_inference\")"
   ]
  },
  {
   "cell_type": "code",
   "execution_count": 10,
   "metadata": {},
   "outputs": [],
   "source": [
    "# 10* set_struct to so that we can add key-value to the file - see lb we add new key-value root_dir to ref_dataloader_config\n",
    "OmegaConf.set_struct(cfg, False)"
   ]
  },
  {
   "cell_type": "code",
   "execution_count": 11,
   "metadata": {},
   "outputs": [],
   "source": [
    "default_ref_dataloader_config = cfg.data.reference_dataloader\n",
    "ref_dataloader_config = default_ref_dataloader_config.copy()\n",
    "ref_dataloader_config._target_ = \"src.dataloader.bop_pbr.BOPTemplatePBR\"\n",
    "ref_dataloader_config.root_dir = \"datasets/bop23_challenge/datasets/icbin\"\n",
    "ref_dataloader_config.template_dir += \"templates_pyrender/icbin\" # we r working on icbin dataset\n",
    "ref_dataloader_config.templates_output_folder = \"cnos_analysis/real_images_templates\"\n"
   ]
  },
  {
   "cell_type": "code",
   "execution_count": 12,
   "metadata": {},
   "outputs": [
    {
     "name": "stderr",
     "output_type": "stream",
     "text": [
      "INFO:lightning_lite.utilities.seed:Global seed set to 2023\n",
      "INFO:lightning_lite.utilities.seed:Global seed set to 2023\n",
      "Loading metaData: 100%|██████████| 3/3 [00:00<00:00, 150.25it/s]\n",
      "Finding nearest rendering close to template poses: 100%|██████████| 2/2 [00:00<00:00, 286.75it/s]\n"
     ]
    }
   ],
   "source": [
    "from hydra.utils import instantiate\n",
    "ref_dataset = instantiate(ref_dataloader_config) # src.dataloader.bop.BOPTemplatePBR\n",
    "ref_dataset.load_processed_metaData(reset_metaData=True)"
   ]
  },
  {
   "cell_type": "code",
   "execution_count": 13,
   "metadata": {},
   "outputs": [],
   "source": [
    "import pandas as pd\n",
    "# cnos_analysis/test_processed_metaData.csv has size of 84 templates for 2 models# cnos_analysis/test_metaData.csv is has size of 2250 tempaltes - it is before we choose 42 templates for each\n",
    "templates = pd.read_csv(\"cnos_analysis/test_processed_metaData.csv\")"
   ]
  },
  {
   "cell_type": "code",
   "execution_count": 14,
   "metadata": {},
   "outputs": [],
   "source": [
    "# Save templates as images\n",
    "from torchvision.utils import save_image\n",
    "import os\n",
    "for ob_id in range(1,len(templates)//42+1):\n",
    "    obj_id_path = os.path.join(\"cnos_analysis/real_images_templates/icbin\", f'obj_{(ob_id):06d}') ## achtung 06d not just 6d\n",
    "    if not os.path.exists(obj_id_path):\n",
    "        os.makedirs(obj_id_path)\n",
    "    for i, img in enumerate(ref_dataset[ob_id-1][\"templates\"]): # all the crop her is normalize and resize to 224*224 alsready in __getitem__\n",
    "        save_image(img, os.path.join(obj_id_path, f'{i:06d}.png'))\n"
   ]
  },
  {
   "cell_type": "markdown",
   "metadata": {},
   "source": [
    "## 1.3 Extract feature descriptors for the 42 templates\n",
    "Using Dinov2  "
   ]
  },
  {
   "cell_type": "code",
   "execution_count": 15,
   "metadata": {},
   "outputs": [
    {
     "name": "stderr",
     "output_type": "stream",
     "text": [
      "Using cache found in /home/cuong.vandam/.cache/torch/hub/facebookresearch_dinov2_main\n",
      "/home/cuong.vandam/.cache/torch/hub/facebookresearch_dinov2_main/dinov2/layers/swiglu_ffn.py:43: UserWarning: xFormers is available (SwiGLU)\n",
      "  warnings.warn(\"xFormers is available (SwiGLU)\")\n",
      "/home/cuong.vandam/.cache/torch/hub/facebookresearch_dinov2_main/dinov2/layers/attention.py:27: UserWarning: xFormers is available (Attention)\n",
      "  warnings.warn(\"xFormers is available (Attention)\")\n",
      "/home/cuong.vandam/.cache/torch/hub/facebookresearch_dinov2_main/dinov2/layers/block.py:33: UserWarning: xFormers is available (Block)\n",
      "  warnings.warn(\"xFormers is available (Block)\")\n"
     ]
    }
   ],
   "source": [
    "# define the cnos model\n",
    "cfg_segmentor = cfg.model.segmentor_model\n",
    "if \"fast_sam\" in cfg_segmentor._target_:\n",
    "    logging.info(\"Using FastSAM, ignore stability_score_thresh!\")\n",
    "else:\n",
    "    cfg.model.segmentor_model.stability_score_thresh = 0.97 # for sam\n",
    "\n",
    "model = instantiate(cfg.model).to(\"cuda\")"
   ]
  },
  {
   "cell_type": "code",
   "execution_count": 16,
   "metadata": {},
   "outputs": [
    {
     "data": {
      "text/plain": [
       "device(type='cuda', index=0)"
      ]
     },
     "execution_count": 16,
     "metadata": {},
     "output_type": "execute_result"
    }
   ],
   "source": [
    "model.device"
   ]
  },
  {
   "cell_type": "code",
   "execution_count": 17,
   "metadata": {},
   "outputs": [],
   "source": [
    "import glob\n",
    "import logging\n",
    "from src.utils.bbox_utils import CropResizePad\n",
    "# can also put the tranform for the image before going via Dino - but actually I tested that and it is actually the same\n",
    "\n",
    "template_dir = \"cnos_analysis/real_images_templates/icbin/obj_000001\"\n",
    "template_paths = glob.glob(f\"{template_dir}/*.png\")\n",
    "boxes, templates = [], []\n",
    "for path in template_paths:\n",
    "    image = Image.open(path)\n",
    "    boxes.append(image.getbbox())\n",
    "    image = torch.from_numpy(np.array(image.convert(\"RGB\")) / 255).float() # convert templates in format of Image to np then devide them by 255\n",
    "    templates.append(image)\n",
    "    \n",
    "templates = torch.stack(templates).permute(0, 3, 1, 2) # now qw have a stack of 42,3,480*640\n",
    "boxes = torch.tensor(np.array(boxes))\n",
    "\n",
    "processing_config = OmegaConf.create(\n",
    "    {\n",
    "        \"image_size\": 224,\n",
    "    }\n",
    ")\n",
    "proposal_processor = CropResizePad(processing_config.image_size)\n",
    "templates = proposal_processor(images=templates, boxes=boxes).cuda() # here resize the templates to size of 42,3,224,224 I assume\n",
    "save_image(templates, f\"{template_dir}/cnos_results/templates.png\", nrow=7) # here just put all templates in 1 image and save it\n",
    "ref_features = model.descriptor_model.compute_features(\n",
    "                templates, token_name=\"x_norm_clstoken\"\n",
    "            ) # extract features for the 42 templates - obtain shape as 42,1024\n",
    "logging.info(f\"Ref feats: {ref_features.shape}\")"
   ]
  },
  {
   "cell_type": "code",
   "execution_count": 18,
   "metadata": {},
   "outputs": [
    {
     "data": {
      "text/plain": [
       "torch.Size([42, 1024])"
      ]
     },
     "execution_count": 18,
     "metadata": {},
     "output_type": "execute_result"
    }
   ],
   "source": [
    "ref_features.shape"
   ]
  },
  {
   "cell_type": "markdown",
   "metadata": {},
   "source": [
    "## 1.5 Extract features from the crop\n",
    "Scale and pad the crops to size of (224,224) before going through Dinov2"
   ]
  },
  {
   "cell_type": "code",
   "execution_count": 19,
   "metadata": {},
   "outputs": [],
   "source": [
    "crop_rgb = np.array(Image.open(\"cnos_analysis/crop_proposals/crop1.png\").convert(\"RGB\")) # (124, 157, 3)"
   ]
  },
  {
   "cell_type": "code",
   "execution_count": 20,
   "metadata": {},
   "outputs": [],
   "source": [
    "import torchvision.transforms as T\n",
    "# Use the normalize tranformation means we also use the normalized templates as well - 10*\n",
    "rgb_normalize = T.Compose(\n",
    "    [\n",
    "        T.ToTensor(),\n",
    "        T.Normalize(mean=(0.485, 0.456, 0.406), std=(0.229, 0.224, 0.225)),\n",
    "    ]\n",
    ")"
   ]
  },
  {
   "cell_type": "code",
   "execution_count": 21,
   "metadata": {},
   "outputs": [],
   "source": [
    "import torch.nn.functional as F\n",
    "normalized_crop_rgb = rgb_normalize(crop_rgb).float()\n"
   ]
  },
  {
   "cell_type": "code",
   "execution_count": 22,
   "metadata": {},
   "outputs": [],
   "source": [
    "# Scale image to 224\n",
    "target_max = 224\n",
    "scale_factor = target_max / torch.max(torch.tensor(normalized_crop_rgb.shape)) # 224/max of x1,y1,x2,y2\n",
    "scaled_crop_rgb = F.interpolate(normalized_crop_rgb.unsqueeze(0), scale_factor=scale_factor.item())[0] # Shape [3, 176, 224])"
   ]
  },
  {
   "cell_type": "code",
   "execution_count": 23,
   "metadata": {},
   "outputs": [
    {
     "data": {
      "text/plain": [
       "torch.Size([1, 3, 224, 224])"
      ]
     },
     "execution_count": 23,
     "metadata": {},
     "output_type": "execute_result"
    }
   ],
   "source": [
    "# Padding 0 to 3,224,224\n",
    "original_h, original_w = scaled_crop_rgb.shape[1:]\n",
    "original_ratio = original_w / original_h\n",
    "target_h, target_w = 224, 224\n",
    "target_ratio  = target_w/target_h \n",
    "if  target_ratio != original_ratio: \n",
    "    padding_top = max((target_h - original_h) // 2, 0)\n",
    "    padding_bottom = target_h - original_h - padding_top\n",
    "    padding_left = max((target_w - original_w) // 2, 0)\n",
    "    padding_right = target_w - original_w - padding_left\n",
    "    scaled_padded_crop_rgb = F.pad(\n",
    "    scaled_crop_rgb, (padding_left, padding_right, padding_top, padding_bottom)\n",
    "    )\n",
    "scaled_padded_crop_rgb = scaled_padded_crop_rgb.unsqueeze(0) # unsqueeze to make it as a stack of proposals - here we use only 1 proposals\n",
    "scaled_padded_crop_rgb.shape # Should be 3,224,224 - if not then do line 122 in src/utils/bbox_utils.py"
   ]
  },
  {
   "cell_type": "code",
   "execution_count": 24,
   "metadata": {},
   "outputs": [
    {
     "name": "stderr",
     "output_type": "stream",
     "text": [
      "WARNING:matplotlib.image:Clipping input data to the valid range for imshow with RGB data ([0..1] for floats or [0..255] for integers).\n"
     ]
    },
    {
     "data": {
      "image/png": "[encoded data removed]",
      "text/plain": [
       "<Figure size 640x480 with 1 Axes>"
      ]
     },
     "metadata": {},
     "output_type": "display_data"
    }
   ],
   "source": [
    "# Display the image - 10* see lb the crop is normalized same way as the templates- ready to compare the similarity now\n",
    "plt.imshow(scaled_padded_crop_rgb[0].permute(1,2,0))\n",
    "plt.axis('off')  # Optional: Turn off the axis\n",
    "plt.show()"
   ]
  },
  {
   "cell_type": "code",
   "execution_count": 25,
   "metadata": {},
   "outputs": [
    {
     "data": {
      "text/plain": [
       "torch.Size([1, 1024])"
      ]
     },
     "execution_count": 25,
     "metadata": {},
     "output_type": "execute_result"
    }
   ],
   "source": [
    "# Extract feature\n",
    "feature_decriptors = model.descriptor_model.forward_by_chunk(scaled_padded_crop_rgb.to(\"cuda\"))\n",
    "# Forward_by_chunk cos we already process all the prosals that we get the processed_rgbs = scaled_padded_crop_rgb from previous steps already\n",
    "feature_decriptors.shape"
   ]
  },
  {
   "cell_type": "markdown",
   "metadata": {},
   "source": [
    "## 1.4 Calculate the similarity \n",
    "Now we have feature_descriptors and reference_descriptors, we can compute simlarity between reference discriptors(from templates) and features descriptors(from input image) and get the top 5 most similar templates to the crop\n",
    "\n"
   ]
  },
  {
   "cell_type": "code",
   "execution_count": 26,
   "metadata": {},
   "outputs": [],
   "source": [
    "from src.model.loss import PairwiseSimilarity, Similarity\n",
    "metric = Similarity() # cnos  uses PairwiseSimilariy - what is the difference between Similarity and Pairwise Similarity ?"
   ]
  },
  {
   "cell_type": "code",
   "execution_count": 27,
   "metadata": {},
   "outputs": [],
   "source": [
    "# get scores per proposal\n",
    "scores = metric(feature_decriptors[:, None, :], ref_features[None, :, :]) # should get  # N_proposals x N_objects x N_templates -get only 1,42 as num_prosals*num_templates instead\n",
    "score_per_detection, similar_template_indices = torch.topk(scores, k=5, dim=-1) # get top 5 most similar templates\n",
    "score_per_detection = torch.mean(\n",
    "    score_per_detection, dim=-1\n",
    ") # get the final confidence score"
   ]
  },
  {
   "cell_type": "code",
   "execution_count": 40,
   "metadata": {},
   "outputs": [
    {
     "data": {
      "text/plain": [
       "tensor([[0.7206, 0.6810, 0.6584, 0.6573, 0.6523]], device='cuda:0')"
      ]
     },
     "execution_count": 40,
     "metadata": {},
     "output_type": "execute_result"
    }
   ],
   "source": [
    "# Check the confidence scores for the similar templates\n",
    "similar_scores = scores[:, similar_template_indices[0].to(\"cpu\")]\n",
    "similar_scores"
   ]
  },
  {
   "cell_type": "code",
   "execution_count": 49,
   "metadata": {},
   "outputs": [],
   "source": [
    "from torchvision.io import read_image\n",
    "similar_templates = []\n",
    "for i in range(len(similar_template_indices[0])):\n",
    "    img = read_image(f\"cnos_analysis/real_images_templates/icbin/obj_000001/{(similar_template_indices[0][i]):06d}.png\")\n",
    "    similar_templates.append(img)\n",
    "tempplate_images = torch.stack(similar_templates)"
   ]
  },
  {
   "cell_type": "code",
   "execution_count": 50,
   "metadata": {},
   "outputs": [
    {
     "ename": "RuntimeError",
     "evalue": "result type Float can't be cast to the desired output type Byte",
     "output_type": "error",
     "traceback": [
      "\u001b[0;31m---------------------------------------------------------------------------\u001b[0m",
      "\u001b[0;31mRuntimeError\u001b[0m                              Traceback (most recent call last)",
      "Cell \u001b[0;32mIn[50], line 1\u001b[0m\n\u001b[0;32m----> 1\u001b[0m \u001b[43msave_image\u001b[49m\u001b[43m(\u001b[49m\u001b[43mtempplate_images\u001b[49m\u001b[43m,\u001b[49m\u001b[43m \u001b[49m\u001b[38;5;124;43m\"\u001b[39;49m\u001b[38;5;124;43mcnos_analysis/real_images_templates/top_5_templates.png\u001b[39;49m\u001b[38;5;124;43m\"\u001b[39;49m\u001b[43m)\u001b[49m\n",
      "File \u001b[0;32m~/miniconda3/envs/cnos/lib/python3.9/site-packages/torch/utils/_contextlib.py:115\u001b[0m, in \u001b[0;36mcontext_decorator.<locals>.decorate_context\u001b[0;34m(*args, **kwargs)\u001b[0m\n\u001b[1;32m    112\u001b[0m \u001b[38;5;129m@functools\u001b[39m\u001b[38;5;241m.\u001b[39mwraps(func)\n\u001b[1;32m    113\u001b[0m \u001b[38;5;28;01mdef\u001b[39;00m \u001b[38;5;21mdecorate_context\u001b[39m(\u001b[38;5;241m*\u001b[39margs, \u001b[38;5;241m*\u001b[39m\u001b[38;5;241m*\u001b[39mkwargs):\n\u001b[1;32m    114\u001b[0m     \u001b[38;5;28;01mwith\u001b[39;00m ctx_factory():\n\u001b[0;32m--> 115\u001b[0m         \u001b[38;5;28;01mreturn\u001b[39;00m \u001b[43mfunc\u001b[49m\u001b[43m(\u001b[49m\u001b[38;5;241;43m*\u001b[39;49m\u001b[43margs\u001b[49m\u001b[43m,\u001b[49m\u001b[43m \u001b[49m\u001b[38;5;241;43m*\u001b[39;49m\u001b[38;5;241;43m*\u001b[39;49m\u001b[43mkwargs\u001b[49m\u001b[43m)\u001b[49m\n",
      "File \u001b[0;32m~/miniconda3/envs/cnos/lib/python3.9/site-packages/torchvision/utils.py:149\u001b[0m, in \u001b[0;36msave_image\u001b[0;34m(tensor, fp, format, **kwargs)\u001b[0m\n\u001b[1;32m    147\u001b[0m grid \u001b[38;5;241m=\u001b[39m make_grid(tensor, \u001b[38;5;241m*\u001b[39m\u001b[38;5;241m*\u001b[39mkwargs)\n\u001b[1;32m    148\u001b[0m \u001b[38;5;66;03m# Add 0.5 after unnormalizing to [0, 255] to round to the nearest integer\u001b[39;00m\n\u001b[0;32m--> 149\u001b[0m ndarr \u001b[38;5;241m=\u001b[39m \u001b[43mgrid\u001b[49m\u001b[38;5;241;43m.\u001b[39;49m\u001b[43mmul\u001b[49m\u001b[43m(\u001b[49m\u001b[38;5;241;43m255\u001b[39;49m\u001b[43m)\u001b[49m\u001b[38;5;241;43m.\u001b[39;49m\u001b[43madd_\u001b[49m\u001b[43m(\u001b[49m\u001b[38;5;241;43m0.5\u001b[39;49m\u001b[43m)\u001b[49m\u001b[38;5;241m.\u001b[39mclamp_(\u001b[38;5;241m0\u001b[39m, \u001b[38;5;241m255\u001b[39m)\u001b[38;5;241m.\u001b[39mpermute(\u001b[38;5;241m1\u001b[39m, \u001b[38;5;241m2\u001b[39m, \u001b[38;5;241m0\u001b[39m)\u001b[38;5;241m.\u001b[39mto(\u001b[38;5;124m\"\u001b[39m\u001b[38;5;124mcpu\u001b[39m\u001b[38;5;124m\"\u001b[39m, torch\u001b[38;5;241m.\u001b[39muint8)\u001b[38;5;241m.\u001b[39mnumpy()\n\u001b[1;32m    150\u001b[0m im \u001b[38;5;241m=\u001b[39m Image\u001b[38;5;241m.\u001b[39mfromarray(ndarr)\n\u001b[1;32m    151\u001b[0m im\u001b[38;5;241m.\u001b[39msave(fp, \u001b[38;5;28mformat\u001b[39m\u001b[38;5;241m=\u001b[39m\u001b[38;5;28mformat\u001b[39m)\n",
      "\u001b[0;31mRuntimeError\u001b[0m: result type Float can't be cast to the desired output type Byte"
     ]
    }
   ],
   "source": [
    "save_image(tempplate_images, \"cnos_analysis/real_images_templates/top_5_templates.png\")"
   ]
  },
  {
   "cell_type": "code",
   "execution_count": null,
   "metadata": {},
   "outputs": [],
   "source": []
  },
  {
   "cell_type": "code",
   "execution_count": null,
   "metadata": {},
   "outputs": [],
   "source": []
  },
  {
   "cell_type": "markdown",
   "metadata": {},
   "source": [
    "# 2. Scale\n",
    "Try to zoom in and zoom out the templates or real image crops for the Sam instance， see if the similarly score changes"
   ]
  },
  {
   "cell_type": "markdown",
   "metadata": {},
   "source": [
    "# 3. Occlusion\n",
    "Find a real image crop without occlusion， and maskout some area of it，see how much the similarly score decrease"
   ]
  },
  {
   "cell_type": "markdown",
   "metadata": {},
   "source": []
  },
  {
   "cell_type": "markdown",
   "metadata": {},
   "source": []
  }
 ],
 "metadata": {
  "kernelspec": {
   "display_name": "cnos",
   "language": "python",
   "name": "python3"
  },
  "language_info": {
   "codemirror_mode": {
    "name": "ipython",
    "version": 3
   },
   "file_extension": ".py",
   "mimetype": "text/x-python",
   "name": "python",
   "nbconvert_exporter": "python",
   "pygments_lexer": "ipython3",
   "version": "3.9.19"
  }
 },
 "nbformat": 4,
 "nbformat_minor": 2
}
