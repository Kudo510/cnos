{
 "cells": [
  {
   "cell_type": "code",
   "execution_count": 1,
   "metadata": {},
   "outputs": [],
   "source": [
    "%load_ext autoreload\n",
    "%autoreload 2"
   ]
  },
  {
   "cell_type": "markdown",
   "metadata": {},
   "source": [
    "# 1. Create dataset\n",
    "Use Sam to extract proposals from input images (100 images) then for proposals with same regions as the ground truth masks, they are considered as positive sameple to the templates ( use the BlenderProc 42 templates), negative otherwise\n",
    "\n",
    "Run through 100 images - then return positive proposals and negative proposals\n",
    "\n",
    "Use IoU >0.5 to get the postive proposals"
   ]
  },
  {
   "cell_type": "code",
   "execution_count": 139,
   "metadata": {},
   "outputs": [],
   "source": [
    "from PIL import Image\n",
    "import numpy as np\n",
    "import glob\n",
    "import logging\n",
    "from src.model.sam import CustomSamAutomaticMaskGenerator, load_sam\n",
    "\n",
    "logging.basicConfig(level=logging.INFO, format='[%(asctime)s] [%(levelname)s] %(name)s: %(message)s')\n",
    "log = logging.getLogger(__name__)\n",
    "\n",
    "\n",
    "def extract_object_by_mask(image, mask, width: int = 512):\n",
    "    mask = Image.fromarray(mask)\n",
    "    masked_image = Image.composite(\n",
    "        image, Image.new(\"RGB\", image.size, (0, 0, 0)), mask)\n",
    "    cropped_image = masked_image.crop(masked_image.getbbox())\n",
    "    # new_height = width * cropped_image.height // cropped_image.width\n",
    "    return cropped_image\n",
    "\n",
    "\n",
    "def calculate_iou(ground_truth, prediction):\n",
    "    intersection = np.logical_and(ground_truth, prediction)\n",
    "    union = np.logical_or(ground_truth, prediction)\n",
    "    iou_score = np.sum(intersection) / np.sum(union)\n",
    "    return iou_score\n",
    "\n",
    "\n",
    "def extract_dataset(dataset=\"icbin\",data_type=\"test\", scene_id=1):  # data_type test or train \n",
    "    model_type = \"vit_h\"\n",
    "    checkpoint_dir =  \"datasets/bop23_challenge/pretrained/segment-anything\"\n",
    "    log.info(\"loading sam\")\n",
    "    sam_model = load_sam(model_type, checkpoint_dir)\n",
    "    custom_sam_model = CustomSamAutomaticMaskGenerator(sam=sam_model)\n",
    "    custom_sam_model.predictor.model.to(\"cuda\")\n",
    "\n",
    "    frames_path = f\"datasets/bop23_challenge/datasets/{dataset}/{data_type}/{scene_id:06d}/rgb/*.png\" #\"datasets/bop23_challenge/datasets/icbin/test/000001/rgb/000008.png\"\n",
    "    frames_path = glob.glob(frames_path)\n",
    "    for frame_path in frames_path:\n",
    "        rgb = Image.open(frame_path).convert(\"RGB\") # rotate(180)\n",
    "        detections = custom_sam_model.generate_masks(np.array(rgb)).cpu() # Include masks and bboxes\n",
    "\n",
    "        masked_images = []\n",
    "        for mask in detections[\"masks\"]:\n",
    "            binary_mask = np.array(mask) * 255\n",
    "            binary_mask = binary_mask.astype(np.uint8)\n",
    "            masked_image = extract_object_by_mask(rgb, binary_mask)\n",
    "            masked_images.append(masked_image)\n",
    "\n",
    "        frame_id = frame_path.split(\"/\")[-1].split(\".\")[0]\n",
    "        visib_mask_paths = f\"datasets/bop23_challenge/datasets/{dataset}/{data_type}/{scene_id:06d}/mask_visib/{frame_id}_*.png\" #\"datasets/bop23_challenge/datasets/icbin/test/000001/rgb/000008.png\"\n",
    "        mask_paths = glob.glob(visib_mask_paths)\n",
    "        masks_gt = [(np.array(Image.open(mask_path).convert(\"L\"))>0).astype(int) for mask_path in mask_paths]\n",
    "        masks_pred = [np.array(mask.cpu()).astype(int) for mask in detections[\"masks\"]]\n",
    "\n",
    "        best_mask_indices = []\n",
    "        for gt_i, gt in enumerate(masks_gt):\n",
    "\n",
    "            best_iou = 0\n",
    "            best_mask_index = -1\n",
    "\n",
    "            for i, mask in enumerate(masks_pred):\n",
    "                iou = calculate_iou(gt, mask)\n",
    "                if iou > best_iou:\n",
    "                    best_iou = iou\n",
    "                    best_mask_index = i\n",
    "            if best_iou >0.5:\n",
    "                best_mask_indices.append(best_mask_index)\n",
    "            log.info(f\"The best for {gt_i}th mask is at index {best_mask_index} with an IoU of {best_iou}\")\n",
    "\n",
    "        pos_proposals = [masked_images[i] for i in best_mask_indices]\n",
    "        neg_proposals = [masked_images[j] for j in range(len(masked_images)) if j not in best_mask_indices]\n",
    "        return pos_proposals, neg_proposals\n",
    "    \n",
    "\n",
    "extract_dataset()"
   ]
  },
  {
   "cell_type": "code",
   "execution_count": 114,
   "metadata": {},
   "outputs": [],
   "source": [
    "import glob\n",
    "\n"
   ]
  },
  {
   "cell_type": "code",
   "execution_count": 126,
   "metadata": {},
   "outputs": [],
   "source": [
    "import numpy as np\n",
    "\n",
    "\n",
    "\n"
   ]
  },
  {
   "cell_type": "code",
   "execution_count": 130,
   "metadata": {},
   "outputs": [],
   "source": []
  },
  {
   "cell_type": "code",
   "execution_count": 136,
   "metadata": {},
   "outputs": [],
   "source": [
    "# np.unique(np.array(pos_proposals[0])/255.0)"
   ]
  },
  {
   "cell_type": "markdown",
   "metadata": {},
   "source": [
    "# 2. Process dataset\n",
    "Organize your images into classes. You'll need positive pairs (same class) and negative pairs (different classes) for training.\n",
    "Resize/pad image to 224*224  then /255.0\n",
    "then transform the image (also with std, mean as in ImageNet)"
   ]
  },
  {
   "cell_type": "code",
   "execution_count": null,
   "metadata": {},
   "outputs": [],
   "source": []
  },
  {
   "cell_type": "markdown",
   "metadata": {},
   "source": [
    "# 3. Design your network architecture\n"
   ]
  },
  {
   "cell_type": "markdown",
   "metadata": {},
   "source": [
    "# 4. Implement the contrastive loss function\n"
   ]
  },
  {
   "cell_type": "markdown",
   "metadata": {},
   "source": [
    "# 5. Create data pairs for training\n"
   ]
  },
  {
   "cell_type": "markdown",
   "metadata": {},
   "source": [
    "# 6. Train the model"
   ]
  },
  {
   "cell_type": "code",
   "execution_count": null,
   "metadata": {},
   "outputs": [],
   "source": []
  },
  {
   "cell_type": "code",
   "execution_count": null,
   "metadata": {},
   "outputs": [],
   "source": []
  },
  {
   "cell_type": "code",
   "execution_count": null,
   "metadata": {},
   "outputs": [],
   "source": []
  },
  {
   "cell_type": "code",
   "execution_count": null,
   "metadata": {},
   "outputs": [],
   "source": []
  }
 ],
 "metadata": {
  "kernelspec": {
   "display_name": "cnos",
   "language": "python",
   "name": "python3"
  },
  "language_info": {
   "codemirror_mode": {
    "name": "ipython",
    "version": 3
   },
   "file_extension": ".py",
   "mimetype": "text/x-python",
   "name": "python",
   "nbconvert_exporter": "python",
   "pygments_lexer": "ipython3",
   "version": "3.9.19"
  }
 },
 "nbformat": 4,
 "nbformat_minor": 2
}
